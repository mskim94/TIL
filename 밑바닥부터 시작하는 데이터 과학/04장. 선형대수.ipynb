{
 "cells": [
  {
   "cell_type": "markdown",
   "metadata": {},
   "source": [
    "# 선형대수\n",
    "선형대수는 벡터 공간을 다루는 수학의 한 분야"
   ]
  },
  {
   "cell_type": "markdown",
   "metadata": {},
   "source": [
    "## 4.1 벡터\n",
    "- 벡터는 어떤 유하한 차원의 공간에 존재하는 점들. \n",
    "- 대부분의 데이터, 특히 숫자로 표현된 데이터는 벡터로 표현 가능.\n",
    "- 벡터를 가장 간단하게 표현하는 방법은 여러 숫자의 리스트로 표현하는 것."
   ]
  },
  {
   "cell_type": "code",
   "execution_count": 1,
   "metadata": {},
   "outputs": [],
   "source": [
    "from typing import List\n",
    "\n",
    "Vector = List[float]\n",
    "\n",
    "height_weight_age = [70, 170, 40]\n",
    "grades = [95, 80, 75, 62]"
   ]
  },
  {
   "cell_type": "code",
   "execution_count": 4,
   "metadata": {},
   "outputs": [],
   "source": [
    "# 두 개의 벡터를 더한다는 것은 각 벡터상에서 같은 위치에 있는 성분끼리 더하는 것이다. 만약, 두 벡터의 길이가 다르다면 두 벡터를 더할 수 없다.\n",
    "# 벡터 덧셈은 zip을 사용해서 두 벡터를 묶은 뒤, 각 성분끼리 더하는 리스트 컴프리헨션을 적용해보자\n",
    "\n",
    "def add(v: Vector, w: Vector) -> Vector:\n",
    "    \"\"\"각 성분끼리 더한다.\"\"\"\n",
    "    assert len(v) == len(w), \"vector must be the same length\"\n",
    "    \n",
    "    return [v_i + w_i for v_i, w_i in zip(v, w)]\n",
    "\n",
    "assert add([1,2,3], [4,5,6]) == [5,7,9]"
   ]
  },
  {
   "cell_type": "code",
   "execution_count": 5,
   "metadata": {},
   "outputs": [],
   "source": [
    "def subtract(v: Vector, w: Vector) -> Vector:\n",
    "    \"\"\"각 성분끼리 뺀다.\"\"\"\n",
    "    assert len(v) == len(w), \"vectors must be the same length\"\n",
    "    \n",
    "    return [v_i - w_i for v_i, w_i in zip(v, w)]\n",
    "\n",
    "assert subtract([5, 7, 9], [4, 5, 6]) == [1, 2, 3]"
   ]
  },
  {
   "cell_type": "code",
   "execution_count": 8,
   "metadata": {},
   "outputs": [],
   "source": [
    "# 모든 벡터의 각 성분을 더하는 경우, 첫번째 성분은 모든 벡터의 첫번째 성분을 더한 값, 두번째 성분은 모든 벡터의 두 번째 성분을 더한 값으로 구성\n",
    "\n",
    "def vector_sum(vectors: List[Vector]) -> Vector:\n",
    "    \"\"\"모든 벡터의 각 성분들끼리 더한다.\"\"\"\n",
    "    # vectors가 비어있는지 확인\n",
    "    assert vectors, \"no vectors provided\"\n",
    "    \n",
    "    # 모든 벡터의 길이가 동일한지 확인\n",
    "    num_elements = len(vectors[0])\n",
    "    assert all(len(v) == num_elements for v in vectors), \"different sizes!\"\n",
    "    \n",
    "    # i번째 결과값은 모든 벡터의 i번째 성분을 더한 값\n",
    "    return [sum(vector[i] for vector in vectors)\n",
    "            for i in range(num_elements)]\n",
    "\n",
    "assert vector_sum([[1,2], [3,4] ,[5,6], [7,8]]) == [16, 20]"
   ]
  },
  {
   "cell_type": "code",
   "execution_count": 11,
   "metadata": {},
   "outputs": [],
   "source": [
    "# 벡터에 스칼라를 곱해 줄 수 있어야 한다. \n",
    "\n",
    "def scalar_multiply(c: float, v: Vector) -> Vector:\n",
    "    \"\"\"모든 성분을 c로 곱하기\"\"\"\n",
    "    return [c * v_i for v_i in v]\n"
   ]
  },
  {
   "cell_type": "code",
   "execution_count": 12,
   "metadata": {},
   "outputs": [],
   "source": [
    "# 각 성분별 평균을 구할 수 있어야 한다.\n",
    "\n",
    "def vector_mean(vectors: List[Vector]) -> Vector:\n",
    "    \"\"\"각 성분별 평균을 계산\"\"\"\n",
    "    n = len(vectors)\n",
    "    return scalar_multiply(1/n, vector_sum(vectors))\n",
    "\n",
    "assert vector_mean([[1,2], [3,4], [5,6]]) == [3,4]"
   ]
  },
  {
   "cell_type": "code",
   "execution_count": 15,
   "metadata": {},
   "outputs": [],
   "source": [
    "# 벡터의 내적(dot product), 내적은 벡터의 각 성분별 곱한 값을 더해준 값이다.\n",
    "\n",
    "def dot(v: Vector, w: Vector) -> float:\n",
    "    \"\"\"v_1 * w_1 + ... + v_n * w_n\"\"\"\n",
    "    assert len(v) == len(w),  \"vectors must be same length\"\n",
    "    \n",
    "    return sum(v_i * w_i for v_i, w_i in zip(v,w))\n",
    "\n",
    "assert dot([1,2,3], [4,5,6]) == 32  # 1 * 4 + 2 * 5 + 3 * 6"
   ]
  },
  {
   "cell_type": "code",
   "execution_count": 16,
   "metadata": {},
   "outputs": [],
   "source": [
    "# 내적의 개념을 사용하면 각 성분의 제곱 값의 합을 쉽게 구할 수 있다.\n",
    "\n",
    "def sum_of_squares(v: Vector) -> float:\n",
    "    \"\"\"v_1 * v_1 + ... v_n * v_n\"\"\"\n",
    "    return dot(v,v)\n",
    "\n",
    "assert sum_of_squares([1,2,3]) == 14  # 1 * 1 + 2 * 2 + 3 * 3"
   ]
  },
  {
   "cell_type": "code",
   "execution_count": 1,
   "metadata": {},
   "outputs": [
    {
     "ename": "NameError",
     "evalue": "name 'Vector' is not defined",
     "output_type": "error",
     "traceback": [
      "\u001b[0;31m---------------------------------------------------------------------------\u001b[0m",
      "\u001b[0;31mNameError\u001b[0m                                 Traceback (most recent call last)",
      "\u001b[0;32m<ipython-input-1-5d307c681674>\u001b[0m in \u001b[0;36m<module>\u001b[0;34m\u001b[0m\n\u001b[1;32m      2\u001b[0m \u001b[0;32mimport\u001b[0m \u001b[0mmath\u001b[0m\u001b[0;34m\u001b[0m\u001b[0;34m\u001b[0m\u001b[0m\n\u001b[1;32m      3\u001b[0m \u001b[0;34m\u001b[0m\u001b[0m\n\u001b[0;32m----> 4\u001b[0;31m \u001b[0;32mdef\u001b[0m \u001b[0mmagnitude\u001b[0m\u001b[0;34m(\u001b[0m\u001b[0mv\u001b[0m\u001b[0;34m:\u001b[0m \u001b[0mVector\u001b[0m\u001b[0;34m)\u001b[0m \u001b[0;34m->\u001b[0m \u001b[0mfloat\u001b[0m\u001b[0;34m:\u001b[0m\u001b[0;34m\u001b[0m\u001b[0;34m\u001b[0m\u001b[0m\n\u001b[0m\u001b[1;32m      5\u001b[0m     \u001b[0;34m\"\"\"벡터 v의 크기를 반환\"\"\"\u001b[0m\u001b[0;34m\u001b[0m\u001b[0;34m\u001b[0m\u001b[0m\n\u001b[1;32m      6\u001b[0m     \u001b[0;32mreturn\u001b[0m \u001b[0mmath\u001b[0m\u001b[0;34m.\u001b[0m\u001b[0msqrt\u001b[0m\u001b[0;34m(\u001b[0m\u001b[0msum_of_squares\u001b[0m\u001b[0;34m(\u001b[0m\u001b[0mv\u001b[0m\u001b[0;34m)\u001b[0m\u001b[0;34m)\u001b[0m  \u001b[0;31m# math.sqrt는 제곱근을 계산해 주는 함수\u001b[0m\u001b[0;34m\u001b[0m\u001b[0;34m\u001b[0m\u001b[0m\n",
      "\u001b[0;31mNameError\u001b[0m: name 'Vector' is not defined"
     ]
    }
   ],
   "source": [
    "# 제곱 값의 합을 이용하면 벡터의 크기를 계산할 수 있다.\n",
    "import math\n",
    "\n",
    "def magnitude(v: Vector) -> float:\n",
    "    \"\"\"벡터 v의 크기를 반환\"\"\"\n",
    "    return math.sqrt(sum_of_squares(v))  # math.sqrt는 제곱근을 계산해 주는 함수\n",
    "\n",
    "assert magnitude([3,4]) == 5"
   ]
  },
  {
   "cell_type": "markdown",
   "metadata": {},
   "source": [
    "두 벡터 간의 거리는 다름과 같이 정의된다.\n",
    "\n",
    "$ \\sqrt{{(v_1 - w_1)}^2 + \\cdots + {(v_n - w_n)}^2}$"
   ]
  },
  {
   "cell_type": "code",
   "execution_count": 20,
   "metadata": {},
   "outputs": [],
   "source": [
    "def squared_distance(v: Vector, w: Vector) -> float:\n",
    "    \"\"\"(v_1 - w_1)**2 + ... + (v_n - w_n)**2\"\"\"\n",
    "    return sum_of_squares(subtract(v, w))\n",
    "\n",
    "def distance(v: Vector, w: Vector) -> float:\n",
    "    \"\"\"벡터 v와 w 간의 거리를 계산\"\"\"\n",
    "    return math.sqrt(squared_distance(v,w))"
   ]
  },
  {
   "cell_type": "code",
   "execution_count": 21,
   "metadata": {},
   "outputs": [],
   "source": [
    "def distance(v: Vector, w: Vector) -> float:\n",
    "    return magnitude(subtract(v,w))"
   ]
  },
  {
   "cell_type": "markdown",
   "metadata": {},
   "source": [
    "실제 코딩을 할 때는, 성능도 좋고 다양한 연산이 이미 구현된 Numpy 라이브러리를 사용하자!"
   ]
  },
  {
   "cell_type": "markdown",
   "metadata": {},
   "source": [
    "## 4.2 행렬\n",
    "행렬(matrix)은 2차원으로 구성된 숫자의 집합이며, 리스트의 리스트로 표현할 수 있다. 리스트 안의 리스트들은 행렬의 행(row)을 나타내며 모두 같은 길이를 가지게 된다. "
   ]
  },
  {
   "cell_type": "code",
   "execution_count": 23,
   "metadata": {},
   "outputs": [],
   "source": [
    "# 타입 명시를 위한 별칭\n",
    "Matrix = List[List[float]]\n",
    "\n",
    "A = [[1,2,3],  # A는 2개의 행과 3개의 열로 구성되어 있다.\n",
    "    [4,5,6]]\n",
    "\n",
    "B = [[1,2],  # B는 3개의 행과 2개의 열로 구성되어 있다.\n",
    "    [3,4],\n",
    "    [5,6]]"
   ]
  },
  {
   "cell_type": "code",
   "execution_count": 24,
   "metadata": {},
   "outputs": [],
   "source": [
    "# 행렬을 리스트의 리스트로 나태는 경우, 행렬 A는 len(A)개의 row와 len(A[0])개의 column으로 구성되어 있다.\n",
    "\n",
    "from typing import Tuple\n",
    "\n",
    "def shape(A: Matrix) -> Tuple[int, int]:\n",
    "    \"\"\"(열의 개수, 행의 개수)를 반환\"\"\"\n",
    "    num_rows = len(A)\n",
    "    num_cols = len(A[0]) if A else 0  # 첫 번째 행의 원소의 개수\n",
    "    return num_rows, num_cols\n",
    "\n",
    "assert shape([[1,2,3], [4,5,6]]) == (2,3)  # 2행 3열"
   ]
  },
  {
   "cell_type": "markdown",
   "metadata": {},
   "source": [
    "행렬이 n개의 행과 k개의 열로 구성되어 있다면 이 행렬을 'n x k 행렬'이라고 부르자. n x k 행렬에서 각 행의 길이는 k이고 각 열의 길이는 n이다."
   ]
  },
  {
   "cell_type": "code",
   "execution_count": 25,
   "metadata": {},
   "outputs": [],
   "source": [
    "def get_row(A: Matrix, i: int) -> Vector:\n",
    "    \"\"\"A의 i번째 행을 반환\"\"\"\n",
    "    return A[i]\n",
    "\n",
    "def get_column(A: Matrix, j: int) -> Vector:\n",
    "    \"\"\"A의 j번째 열을 반환\"\"\"\n",
    "    return [A_i[j] for A_i in A]"
   ]
  },
  {
   "cell_type": "code",
   "execution_count": 33,
   "metadata": {},
   "outputs": [],
   "source": [
    "# shape이 주어졌을 때, 형태에 맞는 행렬을 생성하고 각 원소를 채워넣는 함수\n",
    "from typing import Callable\n",
    "\n",
    "def make_matrix(num_rows: int, num_cols: int, entry_fn: Callable[[int, int], float]) -> Matrix:\n",
    "    \"\"\"(i, j)번째 원소가 entry_fn(i, j)인 num_rows x num_cols 리스트를 반환\"\"\"\n",
    "    return [[entry_fn(i, j) for j in range(num_cols)] for i in range(num_rows)]"
   ]
  },
  {
   "cell_type": "markdown",
   "metadata": {},
   "source": [
    "위 함수를 사용해서 5 x 5 단위 행렬(identity matrix)을 생성할 수 있다."
   ]
  },
  {
   "cell_type": "code",
   "execution_count": 34,
   "metadata": {},
   "outputs": [],
   "source": [
    "def identity_matrix(n: int) -> Matrix:\n",
    "    \"\"\"n x n 단위 행렬을 반환\"\"\"\n",
    "    return make_matrix(n, n, lambda i, j: 1 if i == j else 0)\n",
    "\n",
    "assert identity_matrix(5) == [[1, 0, 0, 0, 0],\n",
    "                             [0, 1, 0, 0, 0],\n",
    "                             [0, 0, 1, 0, 0],\n",
    "                             [0, 0, 0, 1, 0],\n",
    "                             [0, 0, 0, 0, 1]]"
   ]
  },
  {
   "cell_type": "markdown",
   "metadata": {},
   "source": [
    "#### 행렬이 중요한 이유\n",
    "1. 여러 벡터로 구성된 데이터셋을 행렬로 표현할 수 있다.\n",
    "2. k차원의 벡터를 n차원 벡터로 변환해주는 선형 함수를 n x k 행렬로 표현할 수 있다.\n",
    "3. 행렬로 이진 관계(binary relationship)를 나타낼 수 있다."
   ]
  },
  {
   "cell_type": "code",
   "execution_count": 37,
   "metadata": {},
   "outputs": [],
   "source": [
    "# 앞의 내용에서 네트워크를 표현\n",
    "friendships = [(0,1), (0,2), (1,2), (1,3), (2,3), (3,4),\n",
    "              (4,5), (5,6), (5,7), (6,8), (7,8), (8,9)]\n",
    "\n",
    "# 아래와 같이 행렬로 표현이 가능하다.\n",
    "        # 사용자: 0,1,2,3,4,5,6,7,8,9\n",
    "friend_matrix = [[0,1,1,0,0,0,0,0,0,0],  # 사용자 0\n",
    "                [1,0,1,1,0,0,0,0,0,0],  # 사용자 1\n",
    "                [1,1,0,1,0,0,0,0,0,0],  # 사용자 2\n",
    "                [0,1,1,0,1,0,0,0,0,0],  # 사용자 3\n",
    "                [0,0,0,1,0,1,0,0,0,0],  # 사용자 4\n",
    "                [0,0,0,0,1,0,1,1,0,0],  # 사용자 5\n",
    "                [0,0,0,0,0,1,0,0,1,0],  # 사용자 6\n",
    "                [0,0,0,0,0,1,0,0,1,0],  # 사용자 7\n",
    "                [0,0,0,0,0,0,1,1,0,1],  # 사용자 8\n",
    "                [0,0,0,0,0,0,0,0,1,0]]  # 사용자 9"
   ]
  },
  {
   "cell_type": "markdown",
   "metadata": {},
   "source": [
    "만약 네트워크 안에 연결된 사용자의 수가 적다면 행렬은 수많은 0값을 저장해야 하기 때문에 네트워크를 표현하기에 훨씬 비효율적일 것이다. 하지만 행렬에서는 두 사용자가 연결되어 있는지 훨씬 빠르게 확인해 볼 수 있다. 모든 엣지를 살피지 않고, 직접 행렬의 값을 확인해 보면 된다."
   ]
  },
  {
   "cell_type": "code",
   "execution_count": 42,
   "metadata": {},
   "outputs": [],
   "source": [
    "assert friend_matrix[0][2] == 1  # \"True\"\n",
    "assert friend_matrix[0][8] == 0 # \"False\""
   ]
  },
  {
   "cell_type": "code",
   "execution_count": 50,
   "metadata": {},
   "outputs": [
    {
     "name": "stdout",
     "output_type": "stream",
     "text": [
      "[(0, 0), (1, 0), (2, 0), (3, 0), (4, 1), (5, 0), (6, 1), (7, 1), (8, 0), (9, 0)]\n",
      "[4, 6, 7]\n"
     ]
    }
   ],
   "source": [
    "# 사용자가 누구와 연결되어 있는지 알아보기 위해서는 해당 사용자를 나타내는 column(or row)만 살펴보면 된다.\n",
    "\n",
    "friends_of_five = [i for i, is_friend in enumerate(friend_matrix[5]) if is_friend]\n",
    "print(list(enumerate(friend_matrix[5])))\n",
    "print(friends_of_five)"
   ]
  },
  {
   "cell_type": "code",
   "execution_count": null,
   "metadata": {},
   "outputs": [],
   "source": []
  }
 ],
 "metadata": {
  "kernelspec": {
   "display_name": "Python 3",
   "language": "python",
   "name": "python3"
  },
  "language_info": {
   "codemirror_mode": {
    "name": "ipython",
    "version": 3
   },
   "file_extension": ".py",
   "mimetype": "text/x-python",
   "name": "python",
   "nbconvert_exporter": "python",
   "pygments_lexer": "ipython3",
   "version": "3.8.3"
  }
 },
 "nbformat": 4,
 "nbformat_minor": 4
}
