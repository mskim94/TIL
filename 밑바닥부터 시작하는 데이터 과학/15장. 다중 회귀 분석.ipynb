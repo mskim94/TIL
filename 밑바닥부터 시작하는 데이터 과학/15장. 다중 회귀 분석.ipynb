{
 "cells": [
  {
   "cell_type": "markdown",
   "metadata": {},
   "source": [
    "# 다중 회귀 분석\n",
    "앞의 단순선형회귀에 추가적인 데이터를 사용해서 모델의 성능을 높여보자. \\\n",
    "시간(분) = $\\alpha$ + ${\\beta}_1 친구수$ + ${\\beta}_2 근무시간$ + ${\\beta}_3 박사 학위 취득 여부$ + $\\epsilon$ \\\n",
    "박사 학위 취득 여부는 숫자 데이터가 아니다. 하지만 앞서 11장 '기계학습'에서 다룬 바와 같이 **가변수(dummy variable)** 를 만들어서 박사 학위를 가진 사람을 1, 그렇지 않은 사람을 0으로 표기하면 숫자로 표기할 수 있다."
   ]
  },
  {
   "cell_type": "markdown",
   "metadata": {},
   "source": [
    "## 15.1 모델\n",
    "14장. ' 단순 회귀 분석' 에서는 아래와 같은 형태의 모델을 다뤘다. \\\n",
    "$y_i = \\alpha + \\beta x_i + \\epsilon_i$ \\\n",
    "각 입력값 $x_i$는 숫자 하나가 아니라 k개의 숫자인 $x_i1, ..., x_ik$ 라고 한다면 다중 회귀(multiple regression)모델은 다음과 같은 형태를 띈다. \\\n",
    "$y_i = \\alpha + \\beta_1 x_i + ... + \\beta_k x_ik + \\epsilon_i$ \\\n",
    "다중 회귀 분석에서는 보통 파라미터 벡터를 $\\beta$라고 부른다. 여기에 상수항까지 포함시키기 위해 데이터의 앞부분에 1로 구성된 열을 덧붙이면 된다. \\\n",
    "beta = [alpha, beta_1, ..., beta_k] \\\n",
    "그리고 각 데이터는 다음과 같다. \\\n",
    "x_i = [1, x_i1, ..., x_ik] \\\n",
    "이렇게 하면 모델을 다음과 같이 나타낼 수 있다."
   ]
  },
  {
   "cell_type": "code",
   "execution_count": 2,
   "metadata": {},
   "outputs": [],
   "source": [
    "from typing import Tuple, List\n",
    "import math\n",
    "\n",
    "Vector = List[float]\n",
    "\n",
    "def dot(v: Vector, w: Vector) -> float:\n",
    "    \"\"\"v_1 * w_1 + ... + v_n * w_n\"\"\"\n",
    "    assert len(v) == len(w),  \"vectors must be same length\"\n",
    "    \n",
    "    return sum(v_i * w_i for v_i, w_i in zip(v,w))"
   ]
  },
  {
   "cell_type": "code",
   "execution_count": 3,
   "metadata": {},
   "outputs": [],
   "source": [
    "def predict(x: Vector, beta: Vector) -> float:\n",
    "    \"\"\"각 x_i의 첫 번째 항목은 1이라고 가정\"\"\"\n",
    "    return dot(x, beta)"
   ]
  },
  {
   "cell_type": "code",
   "execution_count": 5,
   "metadata": {},
   "outputs": [
    {
     "data": {
      "text/plain": [
       "[1, 49, 4, 0]"
      ]
     },
     "execution_count": 5,
     "metadata": {},
     "output_type": "execute_result"
    }
   ],
   "source": [
    "# 이 경우 독립 변수 x는 각각 다음과 같은 벡터들의 열로 표현할 수 있다.\n",
    "[1, # 상수항\n",
    "49, # 친구의 수\n",
    "4, # 하루 근무 시간\n",
    "0] # 박사 학위 없음\n"
   ]
  },
  {
   "cell_type": "markdown",
   "metadata": {},
   "source": [
    "## 15.2 최소자승법에 대한 몇 가지 추정 가정\n",
    "이 모델(그리고 답)이 의미가 있으려면 몇 가지 추가적인 가정이 필요하다. \\\n",
    "첫번째로 x의 열은 서로 **선형독립(linear independence)** 해야 한다. "
   ]
  },
  {
   "cell_type": "code",
   "execution_count": null,
   "metadata": {},
   "outputs": [],
   "source": []
  }
 ],
 "metadata": {
  "kernelspec": {
   "display_name": "Python 3",
   "language": "python",
   "name": "python3"
  },
  "language_info": {
   "codemirror_mode": {
    "name": "ipython",
    "version": 3
   },
   "file_extension": ".py",
   "mimetype": "text/x-python",
   "name": "python",
   "nbconvert_exporter": "python",
   "pygments_lexer": "ipython3",
   "version": "3.7.6"
  }
 },
 "nbformat": 4,
 "nbformat_minor": 4
}
