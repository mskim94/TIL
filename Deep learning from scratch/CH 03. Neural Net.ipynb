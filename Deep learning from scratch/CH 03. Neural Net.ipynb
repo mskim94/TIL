{
 "cells": [
  {
   "cell_type": "markdown",
   "metadata": {},
   "source": [
    "# Chapter 03. 신경망\n",
    "퍼셉트론은 이론상 복잡한 처리도 표현이 가능하다. 하지만 가중치를 수동으로 설정해야 하는 한계를 가지고 있다.\n",
    "\n",
    "이런 퍼셉트론의 한계를 신경망에서는 가중치를 데이터로부터 자동으로 학습한다. 데이터로 부터 가중치를 자동으로 학습하는 것은 신경망의 중요한 성질이다. \n",
    "\n",
    "이번 장에서는 신경망이 입력 데이터가 무엇인지 식별하는 처리 과정을 자세히 알아본다."
   ]
  },
  {
   "cell_type": "markdown",
   "metadata": {},
   "source": [
    "## 3.1 퍼셉트론에서 신경망으로\n",
    "\n",
    "### 3.1.1 신경망의 예\n",
    "3층으로 구성된 신경망이라고 하면 0층은 입력층, 1층은 은닉층, 2층은 출력층. \n",
    "\n",
    "1층인 은닉층은 사람의 눈에 보이지 않는다.\n",
    "\n",
    "### 3.1.2 Perceptron 복습\n",
    "\n",
    "$y = 0 (b + w_1x_1 + w_2x_2 \\leq 0)$\n",
    "\n",
    "$y = 1 (b + w_1x_1 + w_2x_2 > 0) $\n",
    "\n",
    "- b(bias, 편향): 뉴런이 얼마나 쉽게 활성화되는지 제어\n",
    "- $w_1, w_2$ (weight, 가중치): 신호의 영향력 제어 \n",
    "\n",
    "### 3.1.3 활성화 함수의 등장\n",
    "- 활성화 함수(Activation function): 입력 신호의 총합을 출력 신호로 변환하는 함수\n",
    "\n",
    "- $a = b + w_1x_1 + w_2x_2$\n",
    "- $y = h(a)$ (h()는 활성함수)\n",
    "\n",
    "* 단순 퍼셉트론: 단층 네트워크에서 계단 함수(step function)를 활성 함수로 사용한 모델\n",
    "* 다층 퍼셉트론: 여러 층으로 구성, sigmoid function 등의 매끈한 활성화 함수 사용하는 네트워크\n",
    "\n",
    "## 3.2 활성화 함수\n",
    "활성화 함수는 임계값을 경계로 출력이 바뀐다. 이런 함수를 계단 함수(step function)이라 함, 퍼셉트론은 step function을 활성화 함수로 채용함\n",
    "\n",
    "### 3.2.1 Sigmoid Function\n",
    "- $h(x) = \\frac{1}{1 + \\exp^{-x}}$ \n",
    "\n",
    "신경망에서 활성화 함수로 sigmoid function 이용하여 신호 변환, 변환된 신호를 다음 뉴런에 전달\n",
    "\n",
    "* 퍼셉트론과 신경망의 주된 차이: 활성화 함수"
   ]
  },
  {
   "cell_type": "markdown",
   "metadata": {},
   "source": [
    "### 3.2.2 계단 함수 구현하기"
   ]
  },
  {
   "cell_type": "code",
   "execution_count": 47,
   "metadata": {},
   "outputs": [],
   "source": [
    "# 아래의 step_function은 실수만 받아들일 수 있다. 벡터나를 입력으로 받기 위해서는 numpy를 사용하여 구현해 보자\n",
    "def step_function(x):\n",
    "    if x > 0:\n",
    "        return 1\n",
    "    else:\n",
    "        return 0"
   ]
  },
  {
   "cell_type": "code",
   "execution_count": 48,
   "metadata": {},
   "outputs": [],
   "source": [
    "import numpy as np\n",
    "\n",
    "# 배열(벡터)를 지원\n",
    "def step_function(x):\n",
    "    y = x > 0\n",
    "    return y.astype(np.int)  # 배열의 타입을 변환할때, astype()을 사용"
   ]
  },
  {
   "cell_type": "markdown",
   "metadata": {},
   "source": [
    "### 3.2.3 계단 함수의 그래프"
   ]
  },
  {
   "cell_type": "code",
   "execution_count": 49,
   "metadata": {},
   "outputs": [],
   "source": [
    "import numpy as np\n",
    "import matplotlib.pyplot as plt\n",
    "\n",
    "def step_function(x):\n",
    "    return np.array(x > 0, dtype=np.int)"
   ]
  },
  {
   "cell_type": "code",
   "execution_count": 50,
   "metadata": {},
   "outputs": [
    {
     "data": {
      "image/png": "[encoded data removed]",
      "text/plain": [
       "<Figure size 432x288 with 1 Axes>"
      ]
     },
     "metadata": {
      "needs_background": "light"
     },
     "output_type": "display_data"
    }
   ],
   "source": [
    "x = np.arange(-5.0, 5.0, 0.1)\n",
    "y = step_function(x)\n",
    "plt.plot(x, y)\n",
    "plt.ylim(-0.1, 1.1)  # y축의 범위를 지정\n",
    "plt.show()"
   ]
  },
  {
   "cell_type": "markdown",
   "metadata": {},
   "source": [
    "### 3.2.4 시그모이드 함수 구현하기"
   ]
  },
  {
   "cell_type": "code",
   "execution_count": 51,
   "metadata": {},
   "outputs": [],
   "source": [
    "def sigmoid(x):\n",
    "    return 1 / (1 + np.exp(-x))"
   ]
  },
  {
   "cell_type": "code",
   "execution_count": 52,
   "metadata": {},
   "outputs": [
    {
     "data": {
      "text/plain": [
       "array([0.26894142, 0.73105858, 0.88079708])"
      ]
     },
     "execution_count": 52,
     "metadata": {},
     "output_type": "execute_result"
    }
   ],
   "source": [
    "# 확인\n",
    "x = np.array([-1.0, 1.0, 2.0])\n",
    "sigmoid(x)\n",
    "\n",
    "# 위 코드에서 numpy의 브로드캐스트 기능을 사용"
   ]
  },
  {
   "cell_type": "code",
   "execution_count": 53,
   "metadata": {},
   "outputs": [
    {
     "data": {
      "text/plain": [
       "(array([2., 3., 4.]), array([1.        , 0.5       , 0.33333333]))"
      ]
     },
     "execution_count": 53,
     "metadata": {},
     "output_type": "execute_result"
    }
   ],
   "source": [
    "t =  np.array([1.0, 2.0, 3.0])\n",
    "1.0 + t, 1.0 / t"
   ]
  },
  {
   "cell_type": "code",
   "execution_count": 54,
   "metadata": {},
   "outputs": [
    {
     "data": {
      "image/png": "[encoded data removed]",
      "text/plain": [
       "<Figure size 432x288 with 1 Axes>"
      ]
     },
     "metadata": {
      "needs_background": "light"
     },
     "output_type": "display_data"
    }
   ],
   "source": [
    "x = np.arange(-5.0, 5.0, 0.1)\n",
    "y = sigmoid(x)\n",
    "plt.plot(x, y)\n",
    "plt.ylim(-0.1, 1.1)\n",
    "plt.show()"
   ]
  },
  {
   "cell_type": "markdown",
   "metadata": {},
   "source": [
    "### 3.2.5 Sigmoid Function V.S Step Function"
   ]
  },
  {
   "cell_type": "code",
   "execution_count": 55,
   "metadata": {},
   "outputs": [
    {
     "data": {
      "image/png": "[encoded data removed]",
      "text/plain": [
       "<Figure size 432x288 with 1 Axes>"
      ]
     },
     "metadata": {
      "needs_background": "light"
     },
     "output_type": "display_data"
    }
   ],
   "source": [
    "x1 = np.arange(-5.0, 5.0, 0.1)\n",
    "y1 = step_function(x1)\n",
    "x2 = np.arange(-5.0, 5.0, 0.1)\n",
    "y2 = sigmoid(x2)\n",
    "\n",
    "plt.plot(x1, y1, x2, y2)\n",
    "plt.ylim(-0.1, 1.1)\n",
    "plt.title(\"Step Function V.S Sigmoid Function\")\n",
    "plt.show()"
   ]
  },
  {
   "cell_type": "markdown",
   "metadata": {},
   "source": [
    "**매끄러움**의 차이\n",
    "\n",
    "- 시그모이드 함수: 부드러운 곡선, 입력에 따라 출력이 연속적으로 변해\n",
    "- 계단 함수: 0을 경계로 출력 갑자기 변해\n",
    "\n",
    "결국, 퍼셉트론은 계단 함수를 활성 함수로 사용해 뉴런 사이에 **0 or 1**이 흐른다.\n",
    "\n",
    "신경망은 활성 함수로 시그모이드 함수를 사용하여 뉴런 사이에 연속적인 실수가 흐른다.\n",
    "\n",
    "하지만 둘다 입력값이 중요하면 큰 값이, 입력값이 중요하지 않다면 작은 값을 출력하고 두 값들 모두 0 ~ 1의 범위를 갖는다.\n",
    "\n",
    "### 3.2.6 비선형 함수\n",
    "계단 함수와 시그모이드 함수 모두 **비선형 함수**이다.\n",
    "\n",
    "cf) 선형 함수는 1개의 직선으로 그릴 수 있는 함수($y = ax + b$의 형태를 갖는다.), 비선형 함수는 직선 1개로는 그릴 수 없는 함수\n",
    "\n",
    "**신경망에서 비선형 함수를 활성화 함수로 채용해야 하는 이유?**\n",
    "$\\Rightarrow$ 신경망에서 선형 함수를 사용하면 은닉층이 없는 네트워크를 사용하는 것과 같다. 즉, 층을 쌓아 여러 층을 구성하는 이점을 살리지 못하기 때문\n",
    "\n",
    "### 3.2.7 ReLU 함수\n",
    "최근에 활성화 함수로 **ReLU(Rectified Linear Unit)** 함수를 주로 이용\n",
    "\n",
    "ReLU: 입력이 0을 넘으면 입력값 그대로 출력, 0 이하라면 0을 출력하는 함수"
   ]
  },
  {
   "cell_type": "code",
   "execution_count": 56,
   "metadata": {},
   "outputs": [],
   "source": [
    "def relu(x):\n",
    "    return np.maximum (0, x)"
   ]
  },
  {
   "cell_type": "code",
   "execution_count": 57,
   "metadata": {},
   "outputs": [
    {
     "data": {
      "image/png": "[encoded data removed]",
      "text/plain": [
       "<Figure size 432x288 with 1 Axes>"
      ]
     },
     "metadata": {
      "needs_background": "light"
     },
     "output_type": "display_data"
    }
   ],
   "source": [
    "x = np.arange(-5.0, 5.0, 0.1)\n",
    "y = relu(x)\n",
    "plt.plot(x, y)\n",
    "plt.title(\"ReLU Function\")\n",
    "plt.show()"
   ]
  },
  {
   "cell_type": "markdown",
   "metadata": {},
   "source": [
    "위의 함수는 아래와 같은 수식으로 표현 가능\n",
    "\n",
    "$h(x) = 0 (x \\leq 0)$\n",
    "\n",
    "$h(x) = x (x > 0)$"
   ]
  },
  {
   "cell_type": "markdown",
   "metadata": {},
   "source": [
    "## 3.3 다차원 배열의 계산\n",
    "\n",
    "### 3.3.1 다차원 배열\n",
    "다차원 배열: '숫자의 집합', 한줄, 직삭각형, 3차원으로 늘어놓은 것."
   ]
  },
  {
   "cell_type": "code",
   "execution_count": 58,
   "metadata": {},
   "outputs": [
    {
     "name": "stdout",
     "output_type": "stream",
     "text": [
      "[1 2 3 4]\n",
      "1\n",
      "(4,)\n",
      "4\n"
     ]
    }
   ],
   "source": [
    "# 1차원 배열\n",
    "import numpy as np\n",
    "A = np.array([1, 2, 3, 4])\n",
    "print(A)\n",
    "print(np.ndim(A))\n",
    "print(A.shape)\n",
    "print(A.shape[0])"
   ]
  },
  {
   "cell_type": "code",
   "execution_count": 59,
   "metadata": {},
   "outputs": [
    {
     "name": "stdout",
     "output_type": "stream",
     "text": [
      "[[1 2]\n",
      " [3 4]\n",
      " [5 6]]\n",
      "2\n",
      "(3, 2)\n"
     ]
    }
   ],
   "source": [
    "# 2차원 배열\n",
    "B = np.array([[1, 2], [3, 4], [5, 6]])\n",
    "print(B)\n",
    "print(np.ndim(B))\n",
    "print(B.shape)  # 2차원 배열 = Matrix"
   ]
  },
  {
   "cell_type": "markdown",
   "metadata": {},
   "source": [
    "### 3.3.2 행렬의 곱"
   ]
  },
  {
   "cell_type": "code",
   "execution_count": 60,
   "metadata": {},
   "outputs": [
    {
     "name": "stdout",
     "output_type": "stream",
     "text": [
      "(2, 2)\n",
      "(2, 2)\n",
      "[[19 22]\n",
      " [43 50]]\n"
     ]
    }
   ],
   "source": [
    "# np.dot(A, B), np.dot(B, A)의 결과는 다를수 있다는 것에 유의\n",
    "# 행렬의 곱이 되기 위해서는 앞 행렬의 열의 수와 뒷 행렬의 행의 수가 일치해야 한다.\n",
    "A = np.array([[1,2], [3,4]])\n",
    "print(A.shape)\n",
    "\n",
    "B = np.array([[5,6], [7,8]])\n",
    "print(B.shape)\n",
    "\n",
    "print(np.dot(A, B))"
   ]
  },
  {
   "cell_type": "markdown",
   "metadata": {},
   "source": [
    "### 3.3.3 신경망에서의 행렬 곱"
   ]
  },
  {
   "cell_type": "code",
   "execution_count": 61,
   "metadata": {},
   "outputs": [
    {
     "name": "stdout",
     "output_type": "stream",
     "text": [
      "[1 2]\n",
      "(2,)\n",
      "[[1 3 5]\n",
      " [2 4 6]]\n",
      "(2, 3)\n",
      "[ 5 11 17]\n"
     ]
    }
   ],
   "source": [
    "# 아래의 신경망은 편향과 활성화 함수를 생략하고 가중치만 갖는다.\n",
    "X = np.array([1, 2])\n",
    "print(X)\n",
    "print(X.shape)\n",
    "W = np.array([[1,3,5], [2,4,6]])\n",
    "print(W)\n",
    "print(W.shape)\n",
    "\n",
    "Y = np.dot(X, W)\n",
    "print(Y)"
   ]
  },
  {
   "cell_type": "markdown",
   "metadata": {},
   "source": [
    "## 3.4 3층 신경망 구현하기\n",
    "\n",
    "### 3.4.1 표기법 설명\n",
    "$w_{12}^{(1)}$: 앞층의 두번째 뉴런에서 다음층의 첫번째 뉴런으로 가는 가중치\n",
    "- 오른쪽 아래 12 $\\rightarrow$ 1: 다음층의 뉴런의 인덱스, 2: 앞층의 뉴런의 인덱스\n",
    "- (1): 1층의 가중치\n",
    "\n",
    "### 3.4.2 각 층의 신호 전달 구현하기"
   ]
  },
  {
   "cell_type": "code",
   "execution_count": 62,
   "metadata": {},
   "outputs": [
    {
     "name": "stdout",
     "output_type": "stream",
     "text": [
      "(2, 3)\n",
      "(2,)\n",
      "(3,)\n"
     ]
    }
   ],
   "source": [
    "# 입력층에서 1층으로 신호 전달\n",
    "X = np.array([1.0, 0.5])  # 입력층\n",
    "W1 = np.array([[0.1, 0.3, 0.5], [0.2, 0.4, 0.6]])  # 1층의 가중치\n",
    "B1 = np.array([0.1, 0.2, 0.3])  # 1층의 편향\n",
    "\n",
    "print(W1.shape)\n",
    "print(X.shape)\n",
    "print(B1.shape)\n",
    "\n",
    "A1 = np.dot(X, W1) + B1"
   ]
  },
  {
   "cell_type": "code",
   "execution_count": 63,
   "metadata": {},
   "outputs": [],
   "source": [
    "def sigmoid(x):\n",
    "    return 1 / (1 + np.exp(-x))"
   ]
  },
  {
   "cell_type": "code",
   "execution_count": 64,
   "metadata": {},
   "outputs": [
    {
     "name": "stdout",
     "output_type": "stream",
     "text": [
      "[0.3 0.7 1.1]\n",
      "[0.57444252 0.66818777 0.75026011]\n"
     ]
    }
   ],
   "source": [
    "Z1 = sigmoid(A1)\n",
    "\n",
    "print(A1)\n",
    "print(Z1)"
   ]
  },
  {
   "cell_type": "code",
   "execution_count": 65,
   "metadata": {},
   "outputs": [
    {
     "name": "stdout",
     "output_type": "stream",
     "text": [
      "(3,)\n",
      "(3, 2)\n",
      "(2,)\n"
     ]
    }
   ],
   "source": [
    "# 1층에서 2층으로 신호 전달\n",
    "W2 = np.array([[0.1, 0.4], [0.2, 0.5], [0.3, 0.6]])  # 배열에서 열의 개수는 다음층 뉴런의 개수, 행의 개수는 앞층의 뉴런의 개수\n",
    "B2 = np.array([0.1, 0.2])\n",
    "\n",
    "print(Z1.shape)\n",
    "print(W2.shape)\n",
    "print(B2.shape)\n",
    "\n",
    "A2 = np.dot(Z1, W2) + B2\n",
    "Z2 = sigmoid(A2)"
   ]
  },
  {
   "cell_type": "code",
   "execution_count": 66,
   "metadata": {},
   "outputs": [
    {
     "name": "stdout",
     "output_type": "stream",
     "text": [
      "[0.31682708 0.69627909]\n"
     ]
    }
   ],
   "source": [
    "# 2층에서 출력층으로 신호 전달\n",
    "# 출력층의 활성화 함수로 Identity_function(): 항등함수, 입력을 그대로 출력하는 함수를 사용\n",
    "def identity_function(x):\n",
    "    return x\n",
    "\n",
    "W3 = np.array([[0.1, 0.3], [0.2, 0.4]])\n",
    "B3 = np.array([0.1, 0.2])\n",
    "\n",
    "A3 = np.dot(Z2, W3) + B3\n",
    "Y = identity_function(A3)\n",
    "print(Y)"
   ]
  },
  {
   "cell_type": "markdown",
   "metadata": {},
   "source": [
    "출력층의 활성화 함수는 **풀고자 하는 문제의 성질에 맞게 정의**\n",
    "- 회귀 $\\rightarrow$ 항등 함수\n",
    "- 2클래스 분류 $\\rightarrow$ 시그모이드 함수\n",
    "- 다중 클래스 분류 $\\rightarrow$ 소프트맥스 함수\n",
    "\n",
    "를 사용하는 것이 일반적"
   ]
  },
  {
   "cell_type": "markdown",
   "metadata": {},
   "source": [
    "### 3.4.3 구현 정리"
   ]
  },
  {
   "cell_type": "code",
   "execution_count": 67,
   "metadata": {},
   "outputs": [
    {
     "name": "stdout",
     "output_type": "stream",
     "text": [
      "[0.31682708 0.69627909]\n"
     ]
    }
   ],
   "source": [
    "def init_network():\n",
    "    network = {}\n",
    "    network['W1'] = np.array([[0.1, 0.3, 0.5], [0.2, 0.4, 0.6]])\n",
    "    network['b1'] = np.array([0.1, 0.2, 0.3])\n",
    "    network['W2'] = np.array([[0.1, 0.4], [0.2, 0.5], [0.3, 0.6]])\n",
    "    network['b2'] = np.array([0.1, 0.2])\n",
    "    network['W3'] = np.array([[0.1, 0.3], [0.2, 0.4]])\n",
    "    network['b3'] = np.array([0.1, 0.2])\n",
    "    \n",
    "    return network\n",
    "\n",
    "def forward(network, x):\n",
    "    W1, W2, W3 = network['W1'], network['W2'], network['W3']\n",
    "    b1, b2, b3 = network['b1'], network['b2'], network['b3']\n",
    "    \n",
    "    a1 = np.dot(x, W1) + b1\n",
    "    z1 = sigmoid(a1)\n",
    "    a2 = np.dot(z1, W2) + b2\n",
    "    z2 = sigmoid(a2)\n",
    "    a3 = np.dot(z2, W3) + b3\n",
    "    y = identity_function(a3)\n",
    "    \n",
    "    return y\n",
    "\n",
    "network = init_network()\n",
    "x = np.array([1.0, 0.5])\n",
    "y = forward(network, x)\n",
    "print(y)"
   ]
  },
  {
   "cell_type": "markdown",
   "metadata": {},
   "source": [
    "## 3.5 출력층 설계하기\n",
    "신경망은 **분류**와 **회귀** 모두에 이용 가능\n",
    " \n",
    "둘 중 어떤 문제냐에 따라 출력층에서 사용하는 활성화 함수가 달라진다.\n",
    "\n",
    "- 회귀 $\\rightarrow$ 항등 함수\n",
    "- 분류 $\\rightarrow$ 시그모이드 함수(2클래스 분류), 소프트 맥스(다중 클래스 분류)\n",
    "\n",
    "cf)\n",
    "\n",
    "기계학습 문제는 **분류(Classification)**와 **회귀(Regression)** 로 나뉜다. \n",
    "- 분류: 데이터가 어느 클래스에 속하는가 하는 문제\n",
    "    - 사진 속 인물의 성별을 분류하는 문제 \n",
    "- 회귀: 입력 데이터에서 (연속적) 수치를 예측하는 문제\n",
    "    - 사진 속 인물의 몸무게를 예측하는 문제\n",
    "    \n",
    "Softmax Function: Multi-class classification에서 확률의 합이 1을 초과 시, 확률의 값을 0 ~ 1사이로 만들어주는 함수\n",
    "\n",
    "### 3.5.1 항등 함수와 Softmax function 함수 구현하기\n",
    "- 항등 함수(Identitiy Function): 입력을 그대로 출력하는 함수\n",
    "- 소프트맥스 함수(Softmax Function): $y_k = \\frac{\\exp{a_k}}{\\sum_{i=1}^{n}\\exp{a_i}}$\n",
    "    - n: 출력층의 뉴런 수\n",
    "    - $y_k$: 출력층의 n개의 뉴런 중 k번째 출력"
   ]
  },
  {
   "cell_type": "code",
   "execution_count": 68,
   "metadata": {},
   "outputs": [],
   "source": [
    "def softmax(a):\n",
    "    exp_a = np.exp(a)\n",
    "    sum_exp_a = np.sum(exp_a)\n",
    "    y = exp_a / sum_exp_a\n",
    "    return y"
   ]
  },
  {
   "cell_type": "markdown",
   "metadata": {},
   "source": [
    "### 3.5.2 소프트맥스 함수 구현 시 주의점\n",
    "컴퓨터로 계산시 **오버플로 문제** 발생\n",
    "개선 수식 $\\rightarrow$ $y_k = \\frac{\\exp{a_k}}{\\sum_{i=1}^{n}\\exp{a_i}}$ = $\\frac{C\\exp{a_k}}{C\\sum_{i=1}^{n}\\exp{a_i}}$ = $\\frac{\\exp{(a_k + \\log{C})}}{\\sum_{i=1}^{n}\\exp{(a_i + \\log{C})}}$ = $\\frac{\\exp{(a_k + C`)}}{\\sum_{i=1}^{n}\\exp{(a_i + C`)}}$\n",
    "\n",
    "지수 함수 계산시 어떤 **정수를 더하거나 빼도** 결과 변하지 않는다. $\\rightarrow$ 오버플로 방지를 위해 C\\`에 입력 신호 중 최대값 이용 "
   ]
  },
  {
   "cell_type": "code",
   "execution_count": 69,
   "metadata": {},
   "outputs": [
    {
     "name": "stderr",
     "output_type": "stream",
     "text": [
      "/home/minsungkim/anaconda3/lib/python3.7/site-packages/ipykernel_launcher.py:2: RuntimeWarning: overflow encountered in exp\n",
      "  \n",
      "/home/minsungkim/anaconda3/lib/python3.7/site-packages/ipykernel_launcher.py:2: RuntimeWarning: invalid value encountered in true_divide\n",
      "  \n"
     ]
    },
    {
     "data": {
      "text/plain": [
       "array([nan, nan, nan])"
      ]
     },
     "execution_count": 69,
     "metadata": {},
     "output_type": "execute_result"
    }
   ],
   "source": [
    "a = np.array([1010, 1000, 990])\n",
    "np.exp(a) / np.sum(np.exp(a))  # 오버플로(NaN)문제 발생"
   ]
  },
  {
   "cell_type": "code",
   "execution_count": 70,
   "metadata": {},
   "outputs": [
    {
     "data": {
      "text/plain": [
       "array([9.99954600e-01, 4.53978686e-05, 2.06106005e-09])"
      ]
     },
     "execution_count": 70,
     "metadata": {},
     "output_type": "execute_result"
    }
   ],
   "source": [
    "# Overflow 문제 해결을 위해 가장 큰 값을 뽑고 뺄셈을 수행해도 소프트맥스 함수의 성질에 의해 가장 큰 값의 뉴런의 위치는 변하지 않는다.\n",
    "c = np.max(a)\n",
    "np.exp(a - c) / np.sum(np.exp(a - c))"
   ]
  },
  {
   "cell_type": "markdown",
   "metadata": {},
   "source": [
    "### 3.5.3 소프트맥스 함수의 특징\n",
    "- softmax function의 특징: **출력의 총합 = 1**\n",
    "\n",
    "\"출력의 총합이 1\"인 성질으로 출력을 **확률**로 해석 가능"
   ]
  },
  {
   "cell_type": "code",
   "execution_count": 73,
   "metadata": {},
   "outputs": [
    {
     "name": "stdout",
     "output_type": "stream",
     "text": [
      "[0.01821127 0.24519181 0.73659691]\n"
     ]
    }
   ],
   "source": [
    "# 0번째 class 1.8%, 1번째 class 24.5%, 2번째 class 74% 확률을 가진다.\n",
    "a = np.array([0.3, 2.9, 4.0])\n",
    "y = softmax(a)\n",
    "print(y)"
   ]
  },
  {
   "cell_type": "markdown",
   "metadata": {},
   "source": [
    "**Softmax Function**을 이용하면 문제를 **확률적(통계적)** 대응 가능\n",
    "\n",
    "신경망 분류서 일반적으로 가장 큰 출력을 내는 뉴런에 해당하는 클래스로만 인식, Softmax Function **단조 증가** 함수라 대소 관계는 변하지 않는다. $\\Rightarrow$ 가장 큰 출력 내는 뉴런의 위치는 불변\n",
    "\n",
    "결과적으로 신경망 분류 시, 출력층의 softmax function은 생략 $\\rightarrow$ 지수 함수 계산 자원 낭비 방지 (현업에서는 출력층에서 생략)"
   ]
  },
  {
   "cell_type": "markdown",
   "metadata": {},
   "source": [
    "### 3.5.4 출력층의 뉴런 수 정하기\n",
    "출력층의 뉴런의 수는 문제에 맞게 설정, 일반적으로 **분류하고 싶은 class 수** 로 설정\n",
    "\n",
    "e.g)\n",
    "입력 image 0 ~ 9 $\\rightarrow$ 뉴런 10개 설정\n",
    "\n",
    "## 3.6 손글씨 숫자 인식\n",
    "3.6 손글씨 숫자 인식에서는 이미 학습된 매개변수를 사용하여 학습 과정은 생략하고, 추론 과정만 구현 할 것.\n",
    "이 추론 과정을 **순전파(forward propagation)** 이라 한다.\n",
    "\n",
    "cf) 신경망도 기계학습과 같이 두 단계에 거쳐 문제 해결, 먼저 training data 사용하여 가중치 매개변수를 학습하고 학습된 매개변수를 사용해 입력 데이터를 분류\n",
    "\n",
    "### 3.6.1 MNIST 데이터셋\n",
    "MNIST는 손글씨 숫자 이미지 집합"
   ]
  },
  {
   "cell_type": "code",
   "execution_count": null,
   "metadata": {},
   "outputs": [],
   "source": []
  }
 ],
 "metadata": {
  "kernelspec": {
   "display_name": "Python 3",
   "language": "python",
   "name": "python3"
  },
  "language_info": {
   "codemirror_mode": {
    "name": "ipython",
    "version": 3
   },
   "file_extension": ".py",
   "mimetype": "text/x-python",
   "name": "python",
   "nbconvert_exporter": "python",
   "pygments_lexer": "ipython3",
   "version": "3.7.6"
  }
 },
 "nbformat": 4,
 "nbformat_minor": 4
}
