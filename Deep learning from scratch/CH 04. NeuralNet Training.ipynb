{
 "cells": [
  {
   "cell_type": "markdown",
   "metadata": {},
   "source": [
    "# Chapter 04. 신경망 학습\n",
    "\n",
    "신경망 학습에 대해 배운다.\n",
    "\n",
    "학습이란? 데이터로부터 가중치 매개변수의 최적값을 자동으로 얻는것\n",
    "\n",
    "신경망이 학습할 수 있도록 하는 **지표** 인 **손실 함수(Loss Function)** 소개한다.\n",
    "\n",
    "학습 목표: 손실함수의 결괏값을 가장 작게하는 가중치 매개변수를 찾는 것\n",
    "\n",
    "손실 함수의 값을 작게 만드는 기법으로 **경사 하강법(Gradient Descent)** 가 있다.\n",
    "\n",
    "## 4.1 데이터에서 학습한다!\n",
    "\n",
    "신경망의 특징: 데이터를 보고 학습한다. $\\rightarrow$ 가중치 매개변수의 값을 데이터를 보고 자동으로 결정한다.\n",
    "\n",
    "### 4.1.1 데이터 주도 학습\n",
    "기계학습에서 **데이터**는 매우 중요\n",
    "\n",
    "문제를 풀때, 특히 패턴을 찾을 때, \n",
    "- **사람**은 경험, 직관을 이용하여 시행착오를 거듭하면서 문제 해결을 진행\n",
    "- **기계학습**은 사람 개입을 최소화, 수집한 데이터로 부터 패턴을 찾으려 시도\n",
    "- **신경망, 딥러닝**은 기계학습 보다 더 사랑ㅁ의 개입을 배제\n",
    "\n",
    "e.g) MNIST 문제를 풀때 Algorithm or program을 처음부터 만들기 어려워 $\\rightarrow$ image에서 **특징** 추출, 그 특징의 패턴을 기계학습 기술로 학습하는 방법이 있다.\n",
    "\n",
    "- 특징(feature): 입력 데이터에서 본질적인 데이터(중요한 데이터) 추출하는 **변환기**, 이 특징은 **벡터(vector)** 로 기술\n",
    "    - Computer Vision 분야에서는 SIFT, SURF, HOG 등 특징 활용\n",
    "\n",
    "특징을 사용해 데이터를 벡터로 변환, 이 변환된 데이터를 지도학습 대표 기법인 SVM, KNN 등으로 학습 가능하다.\n",
    "\n",
    "모아진 데이터를 기계가 규칙을 찾는다. 처음부터 Algorithm을 설계하는 것보다 효율이 좋지만, 이 **특징** 을 **사람이 설계(개입)**, 문제에 따라 사람이 특징을 생각해야 한다.\n",
    "\n",
    "문제 $\\rightarrow$ 사람이 생각한 Algorithm $\\rightarrow$ 결과\n",
    "\n",
    "$(개선)\\Rightarrow$ 문제 $\\rightarrow$ 사람이 생각한 특징(SIFT, SURF, HOG etc...) $\\rightarrow$ 기계학습(SVM, KNN) $\\rightarrow$ 결과\n",
    "\n",
    "$(개선)\\Rightarrow$ 문제 $\\rightarrow$ 신경망(딥러닝) $\\rightarrow$ 결과\n",
    "\n",
    "신경망(딥러닝)에서는 이미지를 '있는 그대로' 학습, 특징까지 기계가 스스로 학습(기계학습, 신경망(딥러닝) 과정에서는 사람의 개입이 없다.)\n",
    "\n",
    "cf) 딥러닝을 **종단간 기계학습(end-to-end machine learning)** 이라고도 함 $\\Rightarrow$ 데이터(입력)부터 결과(출력)까지 사람의 개입이 없다.\n",
    "\n",
    "**신경망의 이점**: 모든 문제 같은 맥락에서 푼다 $\\Rightarrow$ 모든 문제를 주어진 데이터 그대로 사용, 입력 데이터 활용 'end-to-end'로 학습 가능\n",
    "\n",
    "### 4.1.2 훈련 데이터와 시험 데이터\n",
    "\n",
    "기계학습에서는 데이터를 훈련 데이터와 시험 데이터로 나눈다. \n",
    "\n",
    "Why Split? **범용 능력** 평가를 위해 \n",
    "- 범용 능력: 아직 보지 못한 data(training data에 없는)로 문제를 옳바르게 풀어내는 능력\n",
    "\n",
    "한 데이터에만 지나치게  최적화 된 상태: **오버피팅(overfitting)**\n",
    "\n",
    "## 4.2 손실 함수(Loss Function)\n",
    "\n",
    "신경망 학습에서 현재 상태를 '하나의 지표'로 표현, 이 지표를 가장 좋게 하는 가중치 매개변수 값을 탐색하는 것이 목적\n",
    "\n",
    "**손실 함수**: 신경망 학습에 사용되는 지표\n",
    "\n",
    "일반적으로 손실함수로 \"오차제곱합\", \"교차 엔트로피 오차\" 를 사용\n",
    "\n",
    "### 4.2.1 오차제곱합(Sum of Squares Error, SSE)\n",
    "\n",
    "가장 많이 사용하는 손실 함수 오차제곱합(Sum of Squares Error, SSE)\n",
    "\n",
    "각 원소의 출력(추정값)과 정답 레이블(참 값)의 차($y_k - t_k$)를 제곱(Squares) 후, 그 총합($\\sum$)\n",
    "\n",
    "- $E = \\frac{1}{2} \\sum_{k}(y_k - t_k)^2$\n",
    "    - $y_k$: 신경망의 출력(신경망이 추정한 값)\n",
    "    - $t_k$: 정답 레이블(One-hot-encoding)\n",
    "    - $k$: 데이터의 차원 수\n",
    "    - 신경망 출력 $y$는 Softmax function의 출력(확률로 해석 가능)"
   ]
  },
  {
   "cell_type": "code",
   "execution_count": 1,
   "metadata": {},
   "outputs": [],
   "source": [
    "import numpy as np\n",
    "import pandas as pd\n",
    "y = [0.1, 0.05, 0.6, 0.0, 0.05, 0.1, 0.0, 0.1, 0.0, 0.0]\n",
    "t = [0, 0, 1, 0, 0, 0, 0, 0, 0, 0]"
   ]
  },
  {
   "cell_type": "code",
   "execution_count": 2,
   "metadata": {},
   "outputs": [],
   "source": [
    "def sum_squares_error(y, t):\n",
    "    return 0.5 * np.sum((y - t)**2)"
   ]
  },
  {
   "cell_type": "code",
   "execution_count": 3,
   "metadata": {},
   "outputs": [
    {
     "data": {
      "text/plain": [
       "0.09750000000000003"
      ]
     },
     "execution_count": 3,
     "metadata": {},
     "output_type": "execute_result"
    }
   ],
   "source": [
    "sum_squares_error(np.array(y), np.array(t))"
   ]
  },
  {
   "cell_type": "code",
   "execution_count": 4,
   "metadata": {},
   "outputs": [
    {
     "data": {
      "text/plain": [
       "0.5975"
      ]
     },
     "execution_count": 4,
     "metadata": {},
     "output_type": "execute_result"
    }
   ],
   "source": [
    "y = [0.1, 0.05, 0.1, 0.0, 0.05, 0.1, 0.0, 0.6, 0.0, 0.0]\n",
    "t = [0, 0, 1, 0, 0, 0, 0, 0, 0, 0]\n",
    "sum_squares_error(np.array(y), np.array(t))"
   ]
  },
  {
   "cell_type": "markdown",
   "metadata": {},
   "source": [
    "오차가 작은 0.097이 정답에 더 가깝다."
   ]
  },
  {
   "cell_type": "markdown",
   "metadata": {},
   "source": [
    "### 4.2.2 교차 엔트로피 오차(Cross-Entropy Error, CEE)\n",
    "\n",
    "CEE도 자주 사용\n",
    "\n",
    "- $E = -\\sum_k t_k \\log{y_k}$\n",
    "    - $y_k$: 신경망의 출력\n",
    "    - $t_k$: 정답 레이블(One-Hot-Encoding)\n",
    "\n",
    "$\\Rightarrow$ 실질적으로 정답 시의 추정($t_k = 1$일때의 $y_k$) (y_k는 확률적인 값이고 그 값들의 총합은 1이다 (Softmax function의 출력이기때문에) $t_k$는 one-hot-encoding되어 정답 레이블인데 정답은 1 나머지는 0으로 수식에서 계산되면 정답 외의 값들은 0으로 처리된다.)\n",
    "\n",
    "$\\Rightarrow$ 교차 엔트로피 오차는 정답일때 **출력이 전체 값을 정한다.**\n",
    "($y_k$의 값이 작다(확률이 작다)면 log가 취해서 전체 CEE의 값 자체가 커진다  $\\rightarrow$ 오차가 커진다.)"
   ]
  },
  {
   "cell_type": "code",
   "execution_count": 5,
   "metadata": {},
   "outputs": [
    {
     "name": "stderr",
     "output_type": "stream",
     "text": [
      "/home/minsungkim/anaconda3/lib/python3.7/site-packages/ipykernel_launcher.py:4: RuntimeWarning: divide by zero encountered in log\n",
      "  after removing the cwd from sys.path.\n"
     ]
    },
    {
     "data": {
      "image/png": "[encoded data removed]",
      "text/plain": [
       "<Figure size 432x288 with 1 Axes>"
      ]
     },
     "metadata": {
      "needs_background": "light"
     },
     "output_type": "display_data"
    }
   ],
   "source": [
    "import matplotlib.pyplot as plt\n",
    "\n",
    "x = np.arange(0.0, 1.0, 0.001)\n",
    "y = np.log(x)\n",
    "plt.plot(x, y)\n",
    "plt.ylim(-5.1, 0.1)  # y축의 범위를 지정\n",
    "plt.show()"
   ]
  },
  {
   "cell_type": "markdown",
   "metadata": {},
   "source": [
    "정답일 때의 출력(확률로 해석)이 작아질수록 오차는 커진다."
   ]
  },
  {
   "cell_type": "code",
   "execution_count": 6,
   "metadata": {},
   "outputs": [],
   "source": [
    "def cross_entropy_error(y, t):\n",
    "    delta = 1e-7  # log 0은 -inf로 발산하게 되므로 아주 작은 값을 더했다.\n",
    "    return -np.sum(t * np.log(y + delta))"
   ]
  },
  {
   "cell_type": "code",
   "execution_count": 7,
   "metadata": {},
   "outputs": [
    {
     "name": "stdout",
     "output_type": "stream",
     "text": [
      "0.510825457099338\n",
      "2.302584092994546\n"
     ]
    }
   ],
   "source": [
    "y = [0.1, 0.05, 0.6, 0.0, 0.05, 0.1, 0.0, 0.1, 0.0, 0.0]\n",
    "t = [0, 0, 1, 0, 0, 0, 0, 0, 0, 0]\n",
    "print(cross_entropy_error(np.array(y), np.array(t)))\n",
    "\n",
    "y = [0.1, 0.05, 0.1, 0.0, 0.05, 0.1, 0.0, 0.6, 0.0, 0.0]\n",
    "t = [0, 0, 1, 0, 0, 0, 0, 0, 0, 0]\n",
    "print(cross_entropy_error(np.array(y), np.array(t)))\n",
    "# 첫번째 결괏값이 더 작다(오차가 작다). 정답일 가능성이 높다고 판단."
   ]
  },
  {
   "cell_type": "markdown",
   "metadata": {},
   "source": [
    "### 4.2.3 미니배치 학습\n",
    "\n",
    "기계학습 문제는 훈련 데이터에 대한 손실 함수의 값을 구하고 그 값을 최소화하는 매개변수를 찾는다. $\\rightarrow$ 결국, 모든 훈련 데이터에 대한 손실 함수를 구해야한다.\n",
    "\n",
    "- $E = -\\sum_k t_k \\log{y_k}$ (데이터 1개에 대한 Loss Function)\n",
    "    - $y_k$: 신경망의 출력\n",
    "    - $t_k$: 정답 레이블(One-Hot-Encoding)\n",
    "\n",
    "(N개의 데이터로 확장, N으로 나누어 정규화) $\\Rightarrow$\n",
    "\n",
    "- $E = -\\frac{1}{N}\\sum_{n} \\sum_k t_k \\log{y_k}$ \n",
    "    - $y_k$: 신경망의 출력\n",
    "    - $t_k$: 정답 레이블(One-Hot-Encoding)\n",
    "\n",
    "N으로 나눠 **평균 손실 함수** 구해, But! 데이터가 커지면 시간 오래 걸린다.\n",
    "\n",
    "$\\Rightarrow$ 데이터 일부 추려 **근사치**를 이용 (일부: 미니배치(Mini-batch))\n",
    "\n",
    "**미니배치 학습**: Training data 중 무작위로 뽑아 학습하는 것"
   ]
  },
  {
   "cell_type": "code",
   "execution_count": 1,
   "metadata": {},
   "outputs": [
    {
     "name": "stdout",
     "output_type": "stream",
     "text": [
      "(60000, 784)\n",
      "(60000, 10)\n"
     ]
    }
   ],
   "source": [
    "import sys, os\n",
    "sys.path.append(os.pardir)\n",
    "import numpy as np\n",
    "from dataset.mnist import load_mnist\n",
    "import pickle\n",
    "\n",
    "(x_train, t_train), (x_test, t_test) = load_mnist(normalize=True, one_hot_label=True)\n",
    "\n",
    "print(x_train.shape)  # 훈련 데이터 60,000개, 입력 데이터 784(28 x 28)\n",
    "print(t_train.shape)  # 정답 레이블 (0 ~ 9)"
   ]
  },
  {
   "cell_type": "code",
   "execution_count": 2,
   "metadata": {},
   "outputs": [],
   "source": [
    "train_size = x_train.shape[0]\n",
    "batch_size = 10\n",
    "batch_mask = np.random.choice(train_size, batch_size) # 0 ~ train_size(60,000)에서 무작위로 batch_size(10)개를 뽑음\n",
    "x_batch = x_train[batch_mask]\n",
    "t_batch = t_train[batch_mask]"
   ]
  },
  {
   "cell_type": "markdown",
   "metadata": {},
   "source": [
    "### 4.2.4 (배치용) 교차 엔트로피 오차 구하기"
   ]
  },
  {
   "cell_type": "code",
   "execution_count": 3,
   "metadata": {},
   "outputs": [],
   "source": [
    "def cross_entropy_error(y, t):\n",
    "    if y.ndim == 1:\n",
    "        t = t.reshape(1, t.size)\n",
    "        y = y.reshape(1, t.size)\n",
    "        \n",
    "        batch_size = y.shape[0]\n",
    "        return -np.sum(t * np.log(y + 1e-7)) / batch_size"
   ]
  },
  {
   "cell_type": "code",
   "execution_count": 5,
   "metadata": {},
   "outputs": [],
   "source": [
    "# 정답 레이블이 '2', '7'과 같이 주어졌을 때, cross-entropy error\n",
    "\n",
    "def cross_entropy_error(y, t):\n",
    "    if y.ndim == 1:\n",
    "        t = t.reshape(1, t.size)\n",
    "        y = y.reshape(1, y.size)\n",
    "        \n",
    "        batch_size = y.shape[0]\n",
    "        return -np.sum(np.log(y[np.arange(batch_size), t] + 1e-7)) / batch_size"
   ]
  },
  {
   "cell_type": "markdown",
   "metadata": {},
   "source": [
    "### 4.2.5 왜 손실함수를 설정하는가?\n",
    "\n",
    "왜 손실함수 사용, '정확도'라는 지표를 놔두고 우회적인 방법을 사용?\n",
    "\n",
    "정확도를 지표로 하면 매개변수의 미분이 대부분 장소에서 0이되기 때문\n",
    "\n",
    "정확도 지표를 사용시 매개변수의 미분이 대부분 0인 이유?\n",
    "\n",
    "만약 MNIST와 같은 이미지 데이터에서 100장의 training data 중 32장 올바르게 인식 $\\rightarrow$ 정확도: 32%\n",
    "\n",
    "if 정확도 지표를 사용시, 매개변수 값 조금 변해도 그대로 32%이다. 개선된다고 해도 연속적인 값이 아닌 불연속적 값이 나오기때문\n",
    "\n",
    "신경망 학습서 손실함수의 미분하여 매개변수 값을 서서히 갱신하는 과정을 반복\n",
    "- 미분 값이 음수 $\\rightarrow$ 가중치 매개변수를 양의 방향으로 변화시켜 loss function 값을 줄인다.\n",
    "- 미분 값이 양수 $\\rightarrow$ 가중치 매개변수를 음의 방향으로 변화시켜 loss function 값을 줄인다.\n",
    "- 미분 값이 0이면 $\\rightarrow$ 갱신 Stop\n",
    "\n",
    "정확도는 **매개변수의 미소한 변화에는 거의 반응하지 못한다.** 반응하더라도 불연속적 변화 (활성화 함수로 step function을 사용하지 않는 이유와 유사)"
   ]
  },
  {
   "cell_type": "markdown",
   "metadata": {},
   "source": [
    "## 4.3 수치 미분\n",
    "\n",
    "경사법에서 **기울기**(경사) 값을 기준으로 나아갈 방향을 정한다.\n",
    "\n",
    "### 4.3.1 미분\n",
    "미분: 한 순간의 변화량(순간 변화량)\n",
    "\n",
    "$\\frac{df(x)}{dx} = \\lim_{x\\to0} \\frac{f(x+h) - f(x)}{h}$"
   ]
  },
  {
   "cell_type": "code",
   "execution_count": 6,
   "metadata": {},
   "outputs": [],
   "source": [
    "def numerical_diff(f, x):\n",
    "    h = 1e-50\n",
    "    return (f(x+h) - f(x)) / h"
   ]
  },
  {
   "cell_type": "markdown",
   "metadata": {},
   "source": [
    "h에 최대한 작은 값을 대입 위해 h = 1e-50 하지만, **반올림 오차(rounding error)** 문제 발생"
   ]
  },
  {
   "cell_type": "code",
   "execution_count": 12,
   "metadata": {},
   "outputs": [
    {
     "data": {
      "text/plain": [
       "0.0"
      ]
     },
     "execution_count": 12,
     "metadata": {},
     "output_type": "execute_result"
    }
   ],
   "source": [
    "# 반올림 오차 \n",
    "np.float32(1e-50)  # 0.0으로 출력"
   ]
  },
  {
   "cell_type": "markdown",
   "metadata": {},
   "source": [
    "$10^{-4}$ 정도 값 사용 시 좋은 결과 얻는다고 알려져 있다.\n",
    "\n",
    "$f$의 차분\n",
    "\n",
    "$f(x+h) - f(x)$는 $x+h$ 와 $x$ 사이의 차분\n",
    "\n",
    "**진정한 미분**: $x$ 위치에서 함수의 기울기(접선), 위 코드는 $(x_h)$와 $x$ 사이의 기울기에 해당\n",
    "\n",
    "h를 무한히 0으로 좁히는 것이 불가능하기에 생기는 한계\n",
    "\n",
    "**수치 미분**에는 **오차**가 포함된다. 이 오차를 줄이기 위해 $(x+h)$와 $(x-h)$일때 함수 $f$의 차분을 계산하는 방법도 쓰인다.\n",
    "\n",
    "이 차분은 $x$를 중심으로 그 전후의 차분을 계산한다는 의미에서 **중심 차분** or **중앙 차분**이라 한다. ($(x+h)$와 $x$의 차분을 **전방 차분**이라고 한다.)"
   ]
  },
  {
   "cell_type": "code",
   "execution_count": 13,
   "metadata": {},
   "outputs": [],
   "source": [
    "# 개선\n",
    "\n",
    "def numerical_diff(f, x):\n",
    "    h = 1e-4\n",
    "    return (f(x+h) - f(x-h)) / (2*h)"
   ]
  },
  {
   "cell_type": "markdown",
   "metadata": {},
   "source": [
    "- **수치 미분**: 차분으로 미분을 하는 것, 오차가 포함\n",
    "- **해적적 미분**: 수식을 전개하여 미분하는 것, 오차가 포함되지 않음, 진정한 미분"
   ]
  },
  {
   "cell_type": "markdown",
   "metadata": {},
   "source": [
    "### 4.3.2 수치 미분의 예\n",
    "$y = 0.01x^2 + 0.1x$"
   ]
  },
  {
   "cell_type": "code",
   "execution_count": 14,
   "metadata": {},
   "outputs": [],
   "source": [
    "def function_1(x):\n",
    "    return 0.01 * x**2  + 0.1 * x"
   ]
  },
  {
   "cell_type": "code",
   "execution_count": 16,
   "metadata": {},
   "outputs": [
    {
     "data": {
      "image/png": "[encoded data removed]",
      "text/plain": [
       "<Figure size 432x288 with 1 Axes>"
      ]
     },
     "metadata": {
      "needs_background": "light"
     },
     "output_type": "display_data"
    }
   ],
   "source": [
    "import numpy as np\n",
    "import matplotlib.pylab as plt\n",
    "\n",
    "x = np.arange(0.0, 20.0, 0.1)\n",
    "y = function_1(x)\n",
    "plt.xlabel(\"x\")\n",
    "plt.ylabel(\"f(x)\")\n",
    "plt.plot(x, y)\n",
    "plt.show()"
   ]
  },
  {
   "cell_type": "code",
   "execution_count": 17,
   "metadata": {},
   "outputs": [
    {
     "name": "stdout",
     "output_type": "stream",
     "text": [
      "0.1999999999990898\n",
      "0.2999999999986347\n"
     ]
    }
   ],
   "source": [
    "print(numerical_diff(function_1, 5))  # x = 5\n",
    "print(numerical_diff(function_1, 10))  # x = 10"
   ]
  },
  {
   "cell_type": "markdown",
   "metadata": {},
   "source": [
    "### 4.3.3 편미분\n",
    "\n",
    "**편미분**: 변수가 여럿인 함수에 대한 미분\n",
    "\n",
    "$f(x_0, x_1) = x_0^2 + x_1^2$"
   ]
  },
  {
   "cell_type": "code",
   "execution_count": 20,
   "metadata": {},
   "outputs": [],
   "source": [
    "def function_2(x):\n",
    "    return x[0]**2 + x[1]**2  # np.sum(x**2)"
   ]
  },
  {
   "cell_type": "markdown",
   "metadata": {},
   "source": [
    "## 4.4 기울기\n",
    "\n",
    "**기울기(Gradient)**: $(\\frac{\\partial f}{\\partial x_0}, \\frac{\\partial f}{\\partial x_1})$ 처럼 모든 변수의 편미분을 벡터로 정리한 것"
   ]
  },
  {
   "cell_type": "code",
   "execution_count": 21,
   "metadata": {},
   "outputs": [],
   "source": [
    "def numerical_gradient(f, x):\n",
    "    h = 1e-4  # 0.0001\n",
    "    grad = np.zeros_like(x)\n",
    "    \n",
    "    for idx in range(x.size):\n",
    "        tmp_val = x[idx]  \n",
    "        # f(x+h) 계산\n",
    "        x[idx] = tmp_val + h\n",
    "        fxh1 = f(x)\n",
    "        \n",
    "        # f(x-h) 계산\n",
    "        x[idx] = tmp_val - h\n",
    "        fxh2 = f(x)\n",
    "        \n",
    "        grad[idx] = (fxh1 - fxh2) / (2*h)\n",
    "        x[idx] = tmp_val\n",
    "    return grad"
   ]
  },
  {
   "cell_type": "code",
   "execution_count": 25,
   "metadata": {},
   "outputs": [
    {
     "name": "stdout",
     "output_type": "stream",
     "text": [
      "[6. 8.]\n",
      "[0. 4.]\n",
      "[6. 0.]\n"
     ]
    }
   ],
   "source": [
    "print(numerical_gradient(function_2, np.array([3.0, 4.0])))\n",
    "print(numerical_gradient(function_2, np.array([0.0, 2.0])))\n",
    "print(numerical_gradient(function_2, np.array([3.0, 0.0])))"
   ]
  },
  {
   "cell_type": "markdown",
   "metadata": {},
   "source": [
    "**기울기가 가리키는 쪽은 각 장소에서 함수의 출력 값을 가장 크게 줄이는 방향**"
   ]
  },
  {
   "cell_type": "markdown",
   "metadata": {},
   "source": [
    "### 4.4.1 경사법(경사 하강법)\n",
    "\n",
    "경사법: 기울기 이용 손실함수의 min(or max)를 찾으려는 것\n",
    "\n",
    "기울기는 각 지점에서 함수값을 줄이는 방안을 제시하는 지표, 하지만, 실제로 방향이 맞는지는 보장 못한다.\n",
    "\n",
    "함수가 극대, 극소, **안장점(saddle point)** 에서 기울기가 **0**이다. \n",
    "- 극솟값: 국소적인 최솟값, 한정된 범위에서의 최솟값인 점\n",
    "- 안정점: 어느방향에서는 최솟값, 어느 방향에서는 극댓값이 되는 점\n",
    "\n",
    "$\\rightarrow$ 기울기 0이라고 해서 최솟값이라고 할 수 **없다**. 그점이 극솟값이나 안장점일 수 도 있기때문이다.\n",
    "\n",
    "경사법은 현 위치에서 기울어진 방향으로 일정 거리만큼 이동한다. 그리고 다음 이동한 곳에서 다시 기울기 구하고, 또 기울어진 방향으로 이동 반복\n",
    "- 경사 하강법(Gradient Descent): 최솟값을 찾음\n",
    "- 경사 상승법(Gradient Ascent): 최댓값을 찾음\n",
    "\n",
    "- $x_0 = x_0 - \\eta \\frac{\\partial f}{\\partial x_0}$\n",
    "- $x_1 = x_1 - \\eta \\frac{\\partial f}{\\partial x_1}$\n",
    "\n",
    "$\\eta$(eta, 에타): **학습률(learning rate)** : 매개변수의 값을 얼마나 갱신하느냐"
   ]
  },
  {
   "cell_type": "code",
   "execution_count": 26,
   "metadata": {},
   "outputs": [],
   "source": [
    "def gradient_descent(f, init_x, lr=0.01, step_num=100):\n",
    "    x = init_x\n",
    "    \n",
    "    for i in range(step_num):\n",
    "        grad = numerical_gradient(f, x)\n",
    "        x -= lr * grad\n",
    "    return x"
   ]
  },
  {
   "cell_type": "markdown",
   "metadata": {},
   "source": [
    "- f: 최적화하려는 함수\n",
    "- init_x: 초깃값\n",
    "- lr: learning rate\n",
    "- step_num: 경사법에 따른 반복 횟수"
   ]
  },
  {
   "cell_type": "markdown",
   "metadata": {},
   "source": [
    "경사법으로 $f(x_0, x_1) = x_0^2 + x_1^2$의 최솟값 구하기"
   ]
  },
  {
   "cell_type": "code",
   "execution_count": 29,
   "metadata": {},
   "outputs": [
    {
     "data": {
      "text/plain": [
       "array([-6.11110793e-10,  8.14814391e-10])"
      ]
     },
     "execution_count": 29,
     "metadata": {},
     "output_type": "execute_result"
    }
   ],
   "source": [
    "def function_2(x):\n",
    "    return np.sum(x**2)\n",
    "\n",
    "init_x = np.array([-3.0, 4.0])\n",
    "gradient_descent(function_2, init_x, lr=0.1, step_num = 100)"
   ]
  },
  {
   "cell_type": "markdown",
   "metadata": {},
   "source": [
    "거의 (0, 0)에 가까운 결과, 실제 최솟값은 (0, 0)이므로 거의 정확한 결과"
   ]
  },
  {
   "cell_type": "code",
   "execution_count": 31,
   "metadata": {},
   "outputs": [
    {
     "name": "stdout",
     "output_type": "stream",
     "text": [
      "[-2.58983747e+13 -1.29524862e+12]\n",
      "[-2.99999994  3.99999992]\n"
     ]
    }
   ],
   "source": [
    "# 학습률이 너무 큰 예\n",
    "init_x = np.array([-3.0, 4.0])\n",
    "print(gradient_descent(function_2, init_x, lr=10.0, step_num = 100))\n",
    "\n",
    "# 학습률이 너무 작은 예\n",
    "init_x = np.array([-3.0, 4.0])\n",
    "print(gradient_descent(function_2, init_x, lr=1e-10, step_num = 100))"
   ]
  },
  {
   "cell_type": "markdown",
   "metadata": {},
   "source": [
    "학습률이 너무 크면 발산, 너무 작으면 거의 갱신되지 않고 끝난다.\n",
    "\n",
    "learning rate와 같은 파라메터를 **하이퍼파라미터(hyperparameter)** 라고 한다. 이 하이퍼파라미터는 사람이 직접 설정해야 하며, 여러 하이퍼파리미터 후보 값 중 시험을 통해 가장 잘 학습하는 값을 찾는 과정을 거쳐야 한다.\n",
    "\n",
    "### 4.4.2 신경망에서 기울기\n",
    "\n",
    "간단한 신경망을 예로 들어 실제로 기울기를 구하는 코드 구현"
   ]
  },
  {
   "cell_type": "code",
   "execution_count": 72,
   "metadata": {},
   "outputs": [],
   "source": [
    "import sys, os\n",
    "sys.path.append(os.pardir)\n",
    "import numpy as np\n",
    "\n",
    "def softmax(a):\n",
    "    exp_a = np.exp(a)\n",
    "    sum_exp_a = np.sum(exp_a)\n",
    "    y = exp_a / sum_exp_a\n",
    "    return y\n",
    "\n",
    "def cross_entropy_error(y, t):\n",
    "    delta = 1e-7  # log 0은 -inf로 발산하게 되므로 아주 작은 값을 더했다.\n",
    "    return -np.sum(t * np.log(y + delta))\n",
    "\n",
    "def _numerical_gradient_no_batch(f, x):\n",
    "    h = 1e-4 # 0.0001\n",
    "    grad = np.zeros_like(x) # x와 형상이 같은 배열을 생성\n",
    "    \n",
    "    for idx in range(x.size):\n",
    "        tmp_val = x[idx]\n",
    "        \n",
    "        # f(x+h) 계산\n",
    "        x[idx] = float(tmp_val) + h\n",
    "        fxh1 = f(x)\n",
    "        \n",
    "        # f(x-h) 계산\n",
    "        x[idx] = tmp_val - h \n",
    "        fxh2 = f(x) \n",
    "        \n",
    "        grad[idx] = (fxh1 - fxh2) / (2*h)\n",
    "        x[idx] = tmp_val # 값 복원\n",
    "        \n",
    "    return grad\n",
    "\n",
    "\n",
    "def numerical_gradient(f, X):\n",
    "    if X.ndim == 1:\n",
    "        return _numerical_gradient_no_batch(f, X)\n",
    "    else:\n",
    "        grad = np.zeros_like(X)\n",
    "        \n",
    "        for idx, x in enumerate(X):\n",
    "            grad[idx] = _numerical_gradient_no_batch(f, x)\n",
    "        \n",
    "        return grad"
   ]
  },
  {
   "cell_type": "code",
   "execution_count": 73,
   "metadata": {},
   "outputs": [],
   "source": [
    "class SimpleNet:\n",
    "    def __init__(self):\n",
    "        self.W = np.random.randn(2,3)  # 정규분포로 초기화\n",
    "        \n",
    "    def predict(self, x):\n",
    "        \"\"\"예측을 수행하는 메서드\"\"\"\n",
    "        return np.dot(x, self.W)\n",
    "    \n",
    "    def loss(self, x, t):\n",
    "        \"\"\"손실 함수의 값 구하는 메서드\"\"\"\n",
    "        z = self.predict(x)\n",
    "        y = softmax(z)\n",
    "        loss = cross_entropy_error(y, t)\n",
    "        \n",
    "        return loss"
   ]
  },
  {
   "cell_type": "code",
   "execution_count": 74,
   "metadata": {},
   "outputs": [
    {
     "name": "stdout",
     "output_type": "stream",
     "text": [
      "[[ 0.55280397 -0.10819087  0.17493032]\n",
      " [-0.30625524 -0.31785921  0.72351334]]\n"
     ]
    }
   ],
   "source": [
    "net = SimpleNet()\n",
    "print(net.W)"
   ]
  },
  {
   "cell_type": "code",
   "execution_count": 75,
   "metadata": {},
   "outputs": [
    {
     "name": "stdout",
     "output_type": "stream",
     "text": [
      "[ 0.05605267 -0.3509878   0.7561202 ]\n",
      "2\n"
     ]
    },
    {
     "data": {
      "text/plain": [
       "0.60271077585391"
      ]
     },
     "execution_count": 75,
     "metadata": {},
     "output_type": "execute_result"
    }
   ],
   "source": [
    "x = np.array([0.6, 0.9])\n",
    "p = net.predict(x)\n",
    "print(p)\n",
    "\n",
    "print(np.argmax(p))  # p의 최댓값\n",
    "\n",
    "t = np.array([0, 0, 1])  # 정답 레이블\n",
    "net.loss(x, t)"
   ]
  },
  {
   "cell_type": "code",
   "execution_count": 76,
   "metadata": {},
   "outputs": [],
   "source": [
    "def f(W):\n",
    "    return net.loss(x, t)"
   ]
  },
  {
   "cell_type": "code",
   "execution_count": 77,
   "metadata": {},
   "outputs": [
    {
     "name": "stdout",
     "output_type": "stream",
     "text": [
      "[[ 0.16306534  0.1085391  -0.27160444]\n",
      " [ 0.24459801  0.16280866 -0.40740666]]\n"
     ]
    }
   ],
   "source": [
    "dW = numerical_gradient(f, net.W)\n",
    "print(dW)"
   ]
  },
  {
   "cell_type": "code",
   "execution_count": 78,
   "metadata": {},
   "outputs": [],
   "source": [
    "f = lambda w: net.loss(x, t)\n",
    "dW = numerical_gradient(f, net.W)"
   ]
  },
  {
   "cell_type": "markdown",
   "metadata": {},
   "source": [
    "## 4.5 학습 알고리즘 구현하기\n",
    "\n",
    "- 전제: 신경망엔 적응 가능한 가중치와 편향있고, 이 가중치와 편향을 훈련 데이터에 적응하도록 조정하는 과정을 '학습'이라고 한다. 4단계로 구성\n",
    "\n",
    "1단계 - 미니배치\n",
    "\n",
    "- 훈련 데이터 중 일부를 무작위로 가져옴, 이렇게 선별한 데이터를 미니배치라 하며, 그 미니배치의 손실 함수 값을 주이는 것을 목표로 한다.\n",
    "\n",
    "2단계 - 기울기 산출\n",
    "\n",
    "- 미니배치의 손실 함수 값을 줄이기 위해 각 가중치 매개변수의 기울기를 구한다. 기울기는 손실 함수의 값을 가장 작게 하는 방향을 제시한다.\n",
    "\n",
    "3단계 - 매개변수 갱신\n",
    "\n",
    "- 가중치 매개변수를 기울기 방향으로 아주 조금 갱신한다.\n",
    "\n",
    "4단계 - 반복\n",
    "\n",
    "- 1~3 단계를 반복한다.\n",
    "\n",
    "위 단계는 경사 하강법으로 매개변수를 갱신하는 방법이다. 이때 데이터를 미니배치로 무작위로 선정하기 때문에 **확률적 경사 하강법(Stochastic gradient descent)** 라고 부른다.\n",
    "\n"
   ]
  },
  {
   "cell_type": "code",
   "execution_count": null,
   "metadata": {},
   "outputs": [],
   "source": []
  }
 ],
 "metadata": {
  "kernelspec": {
   "display_name": "python_3",
   "language": "python",
   "name": "python_3"
  },
  "language_info": {
   "codemirror_mode": {
    "name": "ipython",
    "version": 3
   },
   "file_extension": ".py",
   "mimetype": "text/x-python",
   "name": "python",
   "nbconvert_exporter": "python",
   "pygments_lexer": "ipython3",
   "version": "3.8.3"
  }
 },
 "nbformat": 4,
 "nbformat_minor": 4
}
