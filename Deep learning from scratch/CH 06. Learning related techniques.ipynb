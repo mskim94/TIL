{
 "cells": [
  {
   "cell_type": "markdown",
   "metadata": {},
   "source": [
    "# Chapter 06. 학습 관련 기술들\n",
    "\n",
    "신경망 학습의 핵심 개념\n",
    "\n",
    "- 가중치 매개변수의 최적값을 탐색하는 방법\n",
    "- 가중치 매개변수의 초깃값\n",
    "- Hyperparameter 설정 방법\n",
    "- 오버피팅 대응책: 가중치 감소와 드롭아웃의 정규화 방법\n",
    "\n",
    "$\\Rightarrow$ 신경망(딥러닝)학습의 효율, 정확도 향상\n",
    "\n",
    "\n",
    "## 6.1 매개변수 갱신\n",
    "\n",
    "신경망 학습의 목적: 손실함수의 값을 최소화하는 가중치 매개변수 찾기 (매개변수의 최적값을 찾는 문제를 푸는 것: **최적화(optimization)**)\n",
    "\n",
    "앞장에서는 SGD(Stochastic Gradient Descent, 확률적 경사 하강법)를 사용했다.\n",
    "\n",
    "### 6.1.2 확률적 경사 하강법(SGD)\n",
    "\n",
    "$W \\leftarrow W - \\eta \\frac{\\partial L}{\\partial W}$\n",
    "\n",
    "- $W$: 갱신할 가중치 매개변수\n",
    "- $\\frac{\\partial L}{\\partial W}$: 손실함수의 기울기\n",
    "- $\\eta$: learning rate"
   ]
  },
  {
   "cell_type": "code",
   "execution_count": 1,
   "metadata": {},
   "outputs": [],
   "source": [
    "class SGD:\n",
    "    def __init__(self, lr=0.01):\n",
    "        self.lr = lr\n",
    "        \n",
    "    def update(self, params, grads):\n",
    "        for key in params.keys():\n",
    "            params[key] -= self.lr * grads[key]"
   ]
  },
  {
   "cell_type": "code",
   "execution_count": 3,
   "metadata": {},
   "outputs": [
    {
     "ename": "NameError",
     "evalue": "name 'TwoLayerNet' is not defined",
     "output_type": "error",
     "traceback": [
      "\u001b[0;31m---------------------------------------------------------------------------\u001b[0m",
      "\u001b[0;31mNameError\u001b[0m                                 Traceback (most recent call last)",
      "\u001b[0;32m<ipython-input-3-066a099d191c>\u001b[0m in \u001b[0;36m<module>\u001b[0;34m\u001b[0m\n\u001b[1;32m      1\u001b[0m \u001b[0;31m# Pesudo code\u001b[0m\u001b[0;34m\u001b[0m\u001b[0;34m\u001b[0m\u001b[0;34m\u001b[0m\u001b[0m\n\u001b[0;32m----> 2\u001b[0;31m \u001b[0mnetwork\u001b[0m \u001b[0;34m=\u001b[0m \u001b[0mTwoLayerNet\u001b[0m\u001b[0;34m(\u001b[0m\u001b[0;34m...\u001b[0m\u001b[0;34m)\u001b[0m\u001b[0;34m\u001b[0m\u001b[0;34m\u001b[0m\u001b[0m\n\u001b[0m\u001b[1;32m      3\u001b[0m \u001b[0moptimizer\u001b[0m \u001b[0;34m=\u001b[0m \u001b[0mSGD\u001b[0m\u001b[0;34m(\u001b[0m\u001b[0;34m)\u001b[0m\u001b[0;34m\u001b[0m\u001b[0;34m\u001b[0m\u001b[0m\n\u001b[1;32m      4\u001b[0m \u001b[0;34m\u001b[0m\u001b[0m\n\u001b[1;32m      5\u001b[0m \u001b[0;32mfor\u001b[0m \u001b[0mi\u001b[0m \u001b[0;32min\u001b[0m \u001b[0mrange\u001b[0m\u001b[0;34m(\u001b[0m\u001b[0;36m10000\u001b[0m\u001b[0;34m)\u001b[0m\u001b[0;34m:\u001b[0m\u001b[0;34m\u001b[0m\u001b[0;34m\u001b[0m\u001b[0m\n",
      "\u001b[0;31mNameError\u001b[0m: name 'TwoLayerNet' is not defined"
     ]
    }
   ],
   "source": [
    "# Pesudo code\n",
    "network = TwoLayerNet(...)\n",
    "optimizer = SGD()\n",
    "\n",
    "for i in range(10000):\n",
    "    ...\n",
    "    x_batch, t_batch = get_mini_batch(...)  # mini-batch\n",
    "    grads = network.gradient(x_batch, t_batch)\n",
    "    params = network.params\n",
    "    optimizer.update(params, grads)\n",
    "    ..."
   ]
  },
  {
   "cell_type": "markdown",
   "metadata": {},
   "source": [
    "### 6.1.3 SGD의 단점\n",
    "\n",
    "$f(x,y) = \\frac{1}{20}x^2 + y^2$ ($x$축 방향으로 늘인 타원 모양)\n",
    "- 이 함수의 기울기는 $y$축 방향은 크고, $x$축 방향은 작다. ($y$축 방향은 가파르고 $x$축 방향은 완만하다.)\n",
    "- 최소값을 갖는 장소 $(x,y) = (0,0)$, 기울기의 대부분은 (0,0)을 가리키지 않는다.\n",
    "\n",
    "**SGD의 단점**: **비등방성(anisotripy) 함수** (방향에 따라 성질, 즉 여기에서는 기울기가 달라지는 함수)에서는 탐색 경로가 비효율적이라는 것.\n",
    "\n",
    "이런한 SGD의 단점을 개선해주는 **모멘텀, AdaGrad, Adam** 방법이 있다.\n",
    "\n",
    "\n",
    "### 6.1.4 모멘텀\n",
    "\n",
    "**모멘텀(Momentum)**: '운동량'을 뜻하는 단어, 물리와 관계 있다."
   ]
  },
  {
   "cell_type": "code",
   "execution_count": null,
   "metadata": {},
   "outputs": [],
   "source": []
  }
 ],
 "metadata": {
  "kernelspec": {
   "display_name": "Python 3",
   "language": "python",
   "name": "python3"
  },
  "language_info": {
   "codemirror_mode": {
    "name": "ipython",
    "version": 3
   },
   "file_extension": ".py",
   "mimetype": "text/x-python",
   "name": "python",
   "nbconvert_exporter": "python",
   "pygments_lexer": "ipython3",
   "version": "3.7.6"
  }
 },
 "nbformat": 4,
 "nbformat_minor": 4
}
