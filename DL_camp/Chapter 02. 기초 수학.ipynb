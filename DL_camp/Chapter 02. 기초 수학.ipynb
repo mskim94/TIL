{
 "cells": [
  {
   "cell_type": "markdown",
   "metadata": {},
   "source": [
    "ML은 통계 기반으로 동작, DL은 ML을 기초로 발전하였다. 딥러닝을 단순 행렬의 곱을 통한 계산하고 최적화를 위해 편미분 & 역전파 알고리즘을 통해 수행된다 정도로 얕은 이해가 아니라, 확률적 관점에서 딥러닝을 보자.\n",
    "\n",
    "# 기초 수학\n",
    "\n",
    "## 2.1 확률 변수 & 확률 분포\n",
    "\n",
    "### 2.1.1 확률 변수\n",
    "\n"
   ]
  }
 ],
 "metadata": {
  "kernelspec": {
   "display_name": "Python 3",
   "language": "python",
   "name": "python3"
  },
  "language_info": {
   "codemirror_mode": {
    "name": "ipython",
    "version": 3
   },
   "file_extension": ".py",
   "mimetype": "text/x-python",
   "name": "python",
   "nbconvert_exporter": "python",
   "pygments_lexer": "ipython3",
   "version": "3.5.6"
  }
 },
 "nbformat": 4,
 "nbformat_minor": 4
}
