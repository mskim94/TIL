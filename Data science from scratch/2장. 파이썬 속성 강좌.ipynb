{
 "cells": [
  {
   "cell_type": "markdown",
   "metadata": {},
   "source": [
    "# 2.1 기본기 다지기"
   ]
  },
  {
   "cell_type": "markdown",
   "metadata": {},
   "source": [
    "# 2.2 파이썬 설치하기"
   ]
  },
  {
   "cell_type": "markdown",
   "metadata": {},
   "source": [
    "# 2.3 가상 환경\n",
    "- 가상 환경 생성 명령어:\n",
    "    - conda create -n \"가상 환경 이름\" python=3.6\n",
    "- 가상 환경을 활성화:\n",
    "    - source activate \"가상 환경 이름\"\n",
    "- 가상 환경을 비활성화:\n",
    "    - source deactivate"
   ]
  },
  {
   "cell_type": "markdown",
   "metadata": {},
   "source": [
    "# 2.4 들여 쓰기\n",
    "다른 프로그래밍 언어들은 indentation으로 중괄호({})를 사용하지만, 파이썬 언어는 들여쓰기를 사용한다.\n",
    "- 파이썬은 tab(4 spaces)와 스페이스를 다르게 인식, 둘을 섞어 사용하지 말자\n",
    "- 괄호 안에는 공백 문자(whitespace)가 무시되기 때문에 코드의 가독성을 위해 공백문자(space)를 사용하자\n",
    "- backslash를 사용하면 코드가 다음줄로 이어지는 것을 명시하자"
   ]
  },
  {
   "cell_type": "markdown",
   "metadata": {},
   "source": [
    "# 2.5 모듈\n",
    "import를 사용하여 모듈을 호출한다.\n",
    "- import re: regular expression, regex(정규 표현식)을 다룰때 사용하는 함수, 상수를 포함한 모듈, as를 이용해 별칭(alias)를 사용할 수 있다.\n",
    "- 가장 좋지 않은 습관 중 하나는 모듈의 기능들을 통째로 불러와서 기존의 변수들을 덮어쓰는 것이다."
   ]
  },
  {
   "cell_type": "code",
   "execution_count": 4,
   "metadata": {},
   "outputs": [
    {
     "ename": "NameError",
     "evalue": "name 'math' is not defined",
     "output_type": "error",
     "traceback": [
      "\u001b[0;31m---------------------------------------------------------------------------\u001b[0m",
      "\u001b[0;31mNameError\u001b[0m                                 Traceback (most recent call last)",
      "\u001b[0;32m<ipython-input-4-3f58ae7131c3>\u001b[0m in \u001b[0;36m<module>\u001b[0;34m\u001b[0m\n\u001b[1;32m      2\u001b[0m \u001b[0mmatch\u001b[0m \u001b[0;34m=\u001b[0m \u001b[0;36m10\u001b[0m\u001b[0;34m\u001b[0m\u001b[0;34m\u001b[0m\u001b[0m\n\u001b[1;32m      3\u001b[0m \u001b[0;32mfrom\u001b[0m \u001b[0mre\u001b[0m \u001b[0;32mimport\u001b[0m \u001b[0;34m*\u001b[0m\u001b[0;34m\u001b[0m\u001b[0;34m\u001b[0m\u001b[0m\n\u001b[0;32m----> 4\u001b[0;31m \u001b[0mprint\u001b[0m\u001b[0;34m(\u001b[0m\u001b[0mmath\u001b[0m\u001b[0;34m)\u001b[0m\u001b[0;34m\u001b[0m\u001b[0;34m\u001b[0m\u001b[0m\n\u001b[0m",
      "\u001b[0;31mNameError\u001b[0m: name 'math' is not defined"
     ]
    }
   ],
   "source": [
    "# 모듈을 통째로 불러와 기존의 변수들을 덮어쓰는 안좋은 습관\n",
    "match = 10\n",
    "from re import *  # re에도 match라는 함수가 존재한다.\n",
    "print(math)"
   ]
  },
  {
   "cell_type": "markdown",
   "metadata": {},
   "source": [
    "# 2.6 함수\n",
    "함수란 0개 or 그 이상의 인자를 입력 받아 결과를 반환하는 규칙이다. 파이썬에서는 def라는 키워드를 사용하여 함수를 정의한다."
   ]
  },
  {
   "cell_type": "code",
   "execution_count": 6,
   "metadata": {},
   "outputs": [],
   "source": [
    "def double(x):\n",
    "    return x * 2"
   ]
  },
  {
   "cell_type": "markdown",
   "metadata": {},
   "source": [
    "파이썬 함수들은 변수로 할당되거나 함수의 인자로 전달할 수 있다는 점에서 일급함수(first-class)의 특징을 가진다."
   ]
  },
  {
   "cell_type": "code",
   "execution_count": 7,
   "metadata": {},
   "outputs": [],
   "source": [
    "def apply_to_one(f):\n",
    "    return f(1)  # 인자가 1인 함수 f를 호출"
   ]
  },
  {
   "cell_type": "code",
   "execution_count": 9,
   "metadata": {},
   "outputs": [
    {
     "data": {
      "text/plain": [
       "2"
      ]
     },
     "execution_count": 9,
     "metadata": {},
     "output_type": "execute_result"
    }
   ],
   "source": [
    "my_double = double\n",
    "x = apply_to_one(my_double) \n",
    "x"
   ]
  },
  {
   "cell_type": "code",
   "execution_count": 12,
   "metadata": {},
   "outputs": [
    {
     "data": {
      "text/plain": [
       "5"
      ]
     },
     "execution_count": 12,
     "metadata": {},
     "output_type": "execute_result"
    }
   ],
   "source": [
    "y = apply_to_one(lambda x: x + 4)\n",
    "y"
   ]
  },
  {
   "cell_type": "markdown",
   "metadata": {},
   "source": [
    "대부분의 사람들은 그냥 def를 사용하라고 하지만 변수에 람다 함수도 할당이 가능하다."
   ]
  },
  {
   "cell_type": "code",
   "execution_count": 13,
   "metadata": {},
   "outputs": [],
   "source": [
    "another_double = lambda x: 2 * x  # 이 방법은 피하자"
   ]
  },
  {
   "cell_type": "code",
   "execution_count": 14,
   "metadata": {},
   "outputs": [],
   "source": [
    "def another_double(x):\n",
    "    return 2 * x"
   ]
  },
  {
   "cell_type": "markdown",
   "metadata": {},
   "source": [
    "함수의 인자에 기본값을 할당 할 수 있는데, 기본값 외에 값을 전달하고 싶을때는 값을 직접 명시 해주면 된다."
   ]
  },
  {
   "cell_type": "code",
   "execution_count": 16,
   "metadata": {},
   "outputs": [
    {
     "name": "stdout",
     "output_type": "stream",
     "text": [
      "my default message\n",
      "hello\n"
     ]
    }
   ],
   "source": [
    "def my_print(message=\"my default message\"):\n",
    "    print(message)\n",
    "\n",
    "my_print()\n",
    "my_print (\"hello\")"
   ]
  },
  {
   "cell_type": "markdown",
   "metadata": {},
   "source": [
    "가끔 인자의 이름을 명시해주면 편리함"
   ]
  },
  {
   "cell_type": "code",
   "execution_count": 17,
   "metadata": {},
   "outputs": [
    {
     "data": {
      "text/plain": [
       "'minsung kim'"
      ]
     },
     "execution_count": 17,
     "metadata": {},
     "output_type": "execute_result"
    }
   ],
   "source": [
    "def full_name(first=\"what's-his-name\", last=\"something\"):\n",
    "    return first + \" \" + last\n",
    "full_name(\"minsung\", \"kim\")"
   ]
  },
  {
   "cell_type": "markdown",
   "metadata": {},
   "source": [
    "# 2.7 문자열\n",
    "문자열(string)은 작음 따옴표('') or 큰따옴표(\"\")로 묶어서 나타낸다. 문자열을 묶을 때 동일한 따옴표를 사용해야 한다.\n",
    "- 파이썬은 몇몇 특수 문자를 인코딩할 때 역슬래시를 사용한다."
   ]
  },
  {
   "cell_type": "code",
   "execution_count": 18,
   "metadata": {},
   "outputs": [
    {
     "data": {
      "text/plain": [
       "1"
      ]
     },
     "execution_count": 18,
     "metadata": {},
     "output_type": "execute_result"
    }
   ],
   "source": [
    "tab_string = \"\\t\"\n",
    "len(tab_string)"
   ]
  },
  {
   "cell_type": "markdown",
   "metadata": {},
   "source": [
    "역슬래시를 역슬래시로 보이는 문자로 사용하고 싶다면 (파일의 PATH, 정규식 등..) 문자열 앞에 \"r\"을 붙여 raw string이라고 명시하면 된다."
   ]
  },
  {
   "cell_type": "code",
   "execution_count": 19,
   "metadata": {},
   "outputs": [
    {
     "ename": "SyntaxError",
     "evalue": "EOL while scanning string literal (<ipython-input-19-c5de3385c449>, line 1)",
     "output_type": "error",
     "traceback": [
      "\u001b[0;36m  File \u001b[0;32m\"<ipython-input-19-c5de3385c449>\"\u001b[0;36m, line \u001b[0;32m1\u001b[0m\n\u001b[0;31m    not_tab_string = r\"\u001b[0m\n\u001b[0m                       ^\u001b[0m\n\u001b[0;31mSyntaxError\u001b[0m\u001b[0;31m:\u001b[0m EOL while scanning string literal\n"
     ]
    }
   ],
   "source": [
    "not_tab_string = r\""
   ]
  },
  {
   "cell_type": "code",
   "execution_count": null,
   "metadata": {},
   "outputs": [],
   "source": []
  }
 ],
 "metadata": {
  "kernelspec": {
   "display_name": "Python 3",
   "language": "python",
   "name": "python3"
  },
  "language_info": {
   "codemirror_mode": {
    "name": "ipython",
    "version": 3
   },
   "file_extension": ".py",
   "mimetype": "text/x-python",
   "name": "python",
   "nbconvert_exporter": "python",
   "pygments_lexer": "ipython3",
   "version": "3.7.6"
  }
 },
 "nbformat": 4,
 "nbformat_minor": 4
}
