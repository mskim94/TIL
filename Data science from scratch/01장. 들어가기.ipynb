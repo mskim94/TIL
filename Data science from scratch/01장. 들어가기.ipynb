{
 "cells": [
  {
   "cell_type": "code",
   "execution_count": 1,
   "metadata": {},
   "outputs": [
    {
     "data": {
      "text/plain": [
       "{0: [1, 2],\n",
       " 1: [0, 2, 3],\n",
       " 2: [0, 1, 3],\n",
       " 3: [1, 2, 4],\n",
       " 4: [3, 5],\n",
       " 5: [4, 6, 7],\n",
       " 6: [5, 8],\n",
       " 7: [5, 8],\n",
       " 8: [6, 7, 9],\n",
       " 9: [8]}"
      ]
     },
     "execution_count": 1,
     "metadata": {},
     "output_type": "execute_result"
    }
   ],
   "source": [
    "# 핵심 인물 찾기\n",
    "users = [\n",
    "    {\"id\":0, \"name\": \"Hero\"},\n",
    "    {\"id\":1, \"name\": \"Dunn\"},\n",
    "    {\"id\":2, \"name\": \"Sue\"},\n",
    "    {\"id\":3, \"name\": \"Chi\"},\n",
    "    {\"id\":4, \"name\": \"Thor\"},\n",
    "    {\"id\":5, \"name\": \"Clive\"},\n",
    "    {\"id\":6, \"name\": \"Hicks\"},\n",
    "    {\"id\":7, \"name\": \"Devin\"},\n",
    "    {\"id\":8, \"name\": \"Kate\"},\n",
    "    {\"id\":9, \"name\": \"Klein\"}\n",
    "]\n",
    "\n",
    "friendship_pairs = [(0, 1), (0, 2), (1, 2), (1, 3), (2, 3), (3, 4),\n",
    "                   (4, 5), (5, 6), (5, 7), (6, 8), (7, 8), (8, 9)]\n",
    "\n",
    "# id가 1인 사용자의 모든 친구를 찾으려면 friendship_pairs의 모든 쌍을 순회해야한다. 많은 쌍이 있다면 시간이 오래걸린다. \n",
    "\n",
    "# dict(key: users.id, value: 사용자의 모든 친구 목록) 만들기\n",
    "friendships = {user[\"id\"]: [] for user in users}\n",
    "\n",
    "for i, j in friendship_pairs:\n",
    "    friendships[i].append(j)\n",
    "    friendships[j].append(i)\n",
    "\n",
    "friendships"
   ]
  },
  {
   "cell_type": "code",
   "execution_count": 2,
   "metadata": {},
   "outputs": [
    {
     "data": {
      "text/plain": [
       "2.4"
      ]
     },
     "execution_count": 2,
     "metadata": {},
     "output_type": "execute_result"
    }
   ],
   "source": [
    "# 네트워크상에서 각 사용자의 평균 연결 수는 몇개?\n",
    "def number_of_friends(user):\n",
    "    \"user의 친구는 몇명일까?\"\n",
    "    user_id = user[\"id\"]\n",
    "    friend_ids = friendships[user_id]\n",
    "    return len(friend_ids)\n",
    "\n",
    "\n",
    "total_connections = sum(number_of_friends(user) for user in users)\n",
    "\n",
    "total_connections  # 24\n",
    "\n",
    "num_users = len(users)\n",
    "avg_connections = total_connections / num_users\n",
    "\n",
    "avg_connections"
   ]
  },
  {
   "cell_type": "code",
   "execution_count": 5,
   "metadata": {},
   "outputs": [
    {
     "data": {
      "text/plain": [
       "[(1, 3),\n",
       " (2, 3),\n",
       " (3, 3),\n",
       " (5, 3),\n",
       " (8, 3),\n",
       " (0, 2),\n",
       " (4, 2),\n",
       " (6, 2),\n",
       " (7, 2),\n",
       " (9, 1)]"
      ]
     },
     "execution_count": 5,
     "metadata": {},
     "output_type": "execute_result"
    }
   ],
   "source": [
    "# 친구가 제일 많은 사람, 제일 적은 사람 순으로 내림 차순 정렬\n",
    "# (user_id, number_of_friends)로 구성된 리스트 생성\n",
    "num_friends_by_id = [(user[\"id\"], number_of_friends(user)) for user in users]\n",
    "# 정렬\n",
    "num_friends_by_id.sort(key=lambda id_and_friends: id_and_friends[1], reverse=True)\n",
    "\n",
    "num_friends_by_id\n",
    "# 네트워크에서 중심 역할을 하는 사람을 찾았다. 위 처럼 계산한 것을 네트워크 용어로 \"연결 중심성\"이라고 부른다.\n",
    "# 연결 중심성은 계산하기 쉽지만, 항상 기대하는 결과를 가져다 주지 않는다."
   ]
  },
  {
   "cell_type": "code",
   "execution_count": 10,
   "metadata": {},
   "outputs": [
    {
     "name": "stdout",
     "output_type": "stream",
     "text": [
      "[0, 2, 3, 0, 1, 3]\n",
      "{0: [1, 2], 1: [0, 2, 3], 2: [0, 1, 3], 3: [1, 2, 4], 4: [3, 5], 5: [4, 6, 7], 6: [5, 8], 7: [5, 8], 8: [6, 7, 9], 9: [8]}\n"
     ]
    }
   ],
   "source": [
    "# 데이터 과학자 추천하기\n",
    "# 친구의 친구를 소개해준다. 각 사용자의 친구에 대해 그 친구의 친구들을 살펴보고 사용자의 모든 친구에 대해 똑같은 작업을 반복하고 결과를 저장\n",
    "\n",
    "def foaf_ids_bad(user):\n",
    "    # \"foaf\": 친구의 친구(\"friend of a friend\")를 의미하는 약자이다.\n",
    "    return [foaf_id for friend_id in friendships[user[\"id\"]] for foaf_id in friendships[friend_id]]\n",
    "\n",
    "print(foaf_ids_bad(users[0]))  # users[0] : \"Hero\"\n",
    "print(friendships)"
   ]
  },
  {
   "cell_type": "markdown",
   "metadata": {},
   "source": [
    "Hero도 자신의 친구의 친구이므로 사용자 0이 두번 포함되어 있다. 사용자1, 2도 0의 친구이므로 포함, 사용자 3은 사용자1,2의 친구이므로 역시 포함"
   ]
  },
  {
   "cell_type": "code",
   "execution_count": 14,
   "metadata": {},
   "outputs": [
    {
     "name": "stdout",
     "output_type": "stream",
     "text": [
      "Counter({0: 2, 5: 1})\n"
     ]
    }
   ],
   "source": [
    "# 서로가 함께 아는 친구(mutual friends) 몇명인지, 동시에 사용자가 이미 아는 사람을 제외하는 함수\n",
    "from collections import Counter\n",
    "\n",
    "def friends_of_friends(user):\n",
    "    user_id = user[\"id\"]\n",
    "    return Counter(\n",
    "        foaf_id\n",
    "        for friend_id in friendships[user_id]  # 사용자의 친구 개개인에 대해\n",
    "        for foaf_id in friendships[friend_id]  # 그들의 친구를 세어보고\n",
    "        if foaf_id != user_id  # 사용자 자신과\n",
    "        and foaf_id not in friendships[user_id]  # 사용자의 친구는 제외\n",
    "    )\n",
    "print(friends_of_friends(users[3]))"
   ]
  },
  {
   "cell_type": "code",
   "execution_count": 17,
   "metadata": {},
   "outputs": [],
   "source": [
    "# 관심사 데이터 interests user_id, interest로 구성됨\n",
    "interests = [(0, \"Hadoop\"), (0, \"Big data\"), (0, \"HBase\"),(0, \"Java\"),\n",
    "            (0, \"Spark\"), (0, \"Storm\"), (0, \"Cassandra\"),\n",
    "            (1, \"NoSQL\"), (1, \"MongoDB\"), (1, \"Cassandra\"), (1, \"HBase\"),\n",
    "            (1, \"Postgres\"), (2, \"Python\"), (2, \"scikit-learn\"), (2, \"scipy\"),\n",
    "            (2, \"numpy\"), (2, \"statsmodels\"), (2, \"pandas\"), (3, \"R\"), (3, \"Python\"),\n",
    "            (3, \"statistics\"), (3, \"regression\"), (3, \"probability\"),\n",
    "            (4, \"machine learning\"), (4, \"regression\"), (4, \"decision trees\"),\n",
    "            (4, \"libsvm\"),(5, \"Python\"),(5, \"R\"),(5, \"Java\"),(5, \"C++\"),\n",
    "            (5, \"Haskell\"),(5, \"programming languages\"),(6, \"statistics\"),\n",
    "            (6, \"probability\"),(6, \"mathematics\"),(6, \"theory\"),\n",
    "            (7, \"machine learning\"),(7, \"scikit-learn\"),(7, \"Mahout\"),\n",
    "            (7, \"neural network\"),(8, \"neural network\"),(8, \"deep learning\"),\n",
    "            (8, \"Big data\"),(8, \"artificial intelligence\"),(9, \"Hadoop\"),\n",
    "            (9, \"Java\"), (9, \"MapReduce\"), (9, \"Bigdata\")]\n",
    "\n",
    "def data_scientists_who_like(target_interest):\n",
    "    \"\"\"특정 관심사를 갖고 있는 모든 사용자 id를 반환\"\"\"\n",
    "    return [user_id for user_id, user_interest in interests if user_interest == target_interest]\n",
    "# 코드를 호출할 때마다 관심사 데이터를 매번 처음부터 끝까지 훑어야 하는 단점 존재, 관심사로 사용자 index를 만들어 보자"
   ]
  },
  {
   "cell_type": "code",
   "execution_count": 20,
   "metadata": {},
   "outputs": [],
   "source": [
    "from collections import defaultdict\n",
    "\n",
    "# key: 관심사, value: 사용자 id\n",
    "user_ids_by_interest = defaultdict(list)\n",
    "\n",
    "for user_id, interest in interests:\n",
    "    user_ids_by_interest[interest].append(user_id)\n",
    "\n",
    "# Key: 사용자 id, value: 관심사\n",
    "interests_by_user_id = defaultdict(list)\n",
    "\n",
    "for user_id, interest in interests:\n",
    "    interests_by_user_id[user_id].append(interest)\n"
   ]
  },
  {
   "cell_type": "code",
   "execution_count": null,
   "metadata": {},
   "outputs": [],
   "source": []
  }
 ],
 "metadata": {
  "kernelspec": {
   "display_name": "Python 3",
   "language": "python",
   "name": "python3"
  },
  "language_info": {
   "codemirror_mode": {
    "name": "ipython",
    "version": 3
   },
   "file_extension": ".py",
   "mimetype": "text/x-python",
   "name": "python",
   "nbconvert_exporter": "python",
   "pygments_lexer": "ipython3",
   "version": "3.8.3"
  }
 },
 "nbformat": 4,
 "nbformat_minor": 4
}
