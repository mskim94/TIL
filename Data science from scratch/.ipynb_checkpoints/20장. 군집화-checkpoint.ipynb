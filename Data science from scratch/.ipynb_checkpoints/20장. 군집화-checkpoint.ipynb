{
 "cells": [
  {
   "cell_type": "markdown",
   "metadata": {},
   "source": [
    "# 군집화\n",
    "이 책의 모든 알고리즘은 **레이블** 이 있는 데이터로 모델을 학습해서 레이블이 없는 데이터의 레이블을 예측한다는 점에서 **지도 학습(supervised learning)** 알고리즘이라고 한다.\n",
    "\n",
    "하지만 **군집화(clustering)** 는 레이블이 없는 데이터를 사용하는 또는 레이블이 있더라도 그것을 사용하지 않는 **비지도 학습(unsupervised learning)** 의 일종이다. "
   ]
  },
  {
   "cell_type": "markdown",
   "metadata": {},
   "source": [
    "## 20.1 군집화 감 잡기\n",
    "대부분의 데이터는 어떤 방식으로든 **군집(cluster)** 을 이룬다. \n",
    "\n",
    "e.g. 백만장자들의 거주지 데이터를 보면 보통 베버리힐스나 맨해튼 쪽에서 군집을 이룬다. \n",
    "\n",
    "**우리가 그동안 살펴본 문제와는 달리, 군집화를 할 때는 '정답'이라는 것이 없다.**\n",
    "\n",
    "군집 평기에 사용되는 지수가 무엇이냐에 따라 더 최적인 군집이 있을 수는 있지만, 군집에는 자동적으로 레이블이 달리지도 않는다.\n",
    "데이터 하나하나 개별적으로 들여다 보며 직접 레이블을 달아야 한다."
   ]
  },
  {
   "cell_type": "markdown",
   "metadata": {},
   "source": [
    "## 20.2 모델\n",
    "각 입력값은 항상 그렇듯 숫자로 구성된 d-차원 공간의 벡터이다. 우리의 **목표**는 **유사한 입력값끼리 묶어서 군집을 찾고, 각 군집에 맞는 대푯값을 찾는 것**이다.\n",
    "\n",
    "e.g. 사용자들의 블로깅 패턴을 이해하기 위해, 수치형 벡터로 표현된 블로그 포스트의 제목을 군집화해 볼 수도 있다. \n",
    "\n",
    "가장 간단한 군집화 방법 중 하나는 군집의 개수 k를 미리 정해 두는 k-means이다.\n",
    "\n",
    "이 알고리즘은 각 데이터 포인트가 속한 군집의 중심적(mean)과 거리의 제곱 합을 최소화시키며 데이터를 $S_1,..., S_k$과 같은 군집으로 나눈다.\n",
    "\n",
    "n개의 데이터 포인트를 k개의 군집으로 할당하는 방법은 아주 다양하다. 바꿔 말하면, 최적의 군집을 찾는 것은 무척 어렵다. \n",
    "\n",
    "아래는 반복 연산으로 꽤 괜찮은 군집을 찾는 방법이다.\n",
    "\n",
    "1. d-차원의 공간에서 임의의 점 k개를 찍고, 이들을 각 군집의 중심점으로 간주한다.\n",
    "2. 각 데이터 포인트에서 가장 가까운 중심점을 기준으로 군집을 정한다.\n",
    "3. 소속된 군집이 바뀐 데이터 포인트가 하나라도 없다면 군집을 기록하고 종료한다.\n",
    "4. 소속된 군집이 바뀐 데이터 포인트가 하나라고 있다면 중심점을 다시 계산하고 2단계로 돌아간다.\n",
    "\n",
    "선형대수에서 만든 vector_mean을 사용하면 이렇게 동작하는 클래스를 간단하게 만들 수 있다.\n",
    "\n",
    "아래 코드는 두 벡터의 좌표상 차이를 측정하는 함수이다. 이 함수는 학습에 사용될 것이다."
   ]
  },
  {
   "cell_type": "code",
   "execution_count": 10,
   "metadata": {},
   "outputs": [],
   "source": [
    "from typing import List\n",
    "\n",
    "Vector = List[float]\n",
    "\n",
    "def num_differences(v1: Vector, v2: Vector) -> int:\n",
    "    assert len(v1) == len(v2)\n",
    "    return len([x1 for x1, x2 in zip(v1, v2) if x1 != x2])"
   ]
  },
  {
   "cell_type": "code",
   "execution_count": 11,
   "metadata": {},
   "outputs": [],
   "source": [
    "assert num_differences([1,2,3], [2,1,3]) == 2\n",
    "assert num_differences([1,2], [1,2]) == 0"
   ]
  },
  {
   "cell_type": "markdown",
   "metadata": {},
   "source": [
    "여러 벡터와 그들이 소속된 군집이 주어졌을 때, 해당 군집의 중심점을 계산해 주는 함수도 필요하다. 소속된 데이터 포인트가 아예 없는 군집도 있을 수 있다. 이런 경우 평균을 구할 수 없으니, 임의의 데이터 포인트를 중심점으로 사용하자."
   ]
  },
  {
   "cell_type": "code",
   "execution_count": 12,
   "metadata": {},
   "outputs": [],
   "source": [
    "from typing import List\n",
    "\n",
    "def vector_sum(vectors: List[Vector]) -> Vector:\n",
    "    \"\"\"모든 벡터의 각 성분들끼리 더한다.\"\"\"\n",
    "    # vectors가 비어있는지 확인\n",
    "    assert vectors, \"no vectors provided\"\n",
    "    \n",
    "    # 모든 벡터의 길이가 동일한지 확인\n",
    "    num_elements = len(vectors[0])\n",
    "    assert all(len(v) == num_elements for v in vectors), \"different sizes!\"\n",
    "    \n",
    "    # i번째 결과값은 모든 벡터의 i번째 성분을 더한 값\n",
    "    return [sum(vector[i] for vector in vectors)\n",
    "            for i in range(num_elements)]\n",
    "\n",
    "def scalar_multiply(c: float, v: Vector) -> Vector:\n",
    "    \"\"\"모든 성분을 c로 곱하기\"\"\"\n",
    "    return [c * v_i for v_i in v]\n",
    "\n",
    "def vector_mean(vectors: List[Vector]) -> Vector:\n",
    "    \"\"\"각 성분별 평균을 계산\"\"\"\n",
    "    n = len(vectors)\n",
    "    return scalar_multiply(1/n, vector_sum(vectors))"
   ]
  },
  {
   "cell_type": "code",
   "execution_count": 22,
   "metadata": {},
   "outputs": [],
   "source": [
    "def cluster_means(k: int,\n",
    "                 inputs: List[Vector],\n",
    "                 assignments: List[int]) -> List[Vector]:\n",
    "    # cluseters[i]는 군집 i에 해당하는 데이터 포인트를 담는다.\n",
    "    clusters = [[] for i in range(k)]\n",
    "    for input, assignment in zip(inputs, assignments):\n",
    "        clusters[assignment].append(input)\n",
    "        \n",
    "    # 군집이 비어 있으면 임의의 데이터 포인트를 사용하자.\n",
    "    return [vector_mean(cluster) if cluster else random.choice(inputs)\n",
    "           for cluster in clusters]"
   ]
  },
  {
   "cell_type": "markdown",
   "metadata": {},
   "source": [
    "군집화 알고리즘을 작성할 준비가 끝났다. 이번에도 tqdm을 써서 진척 상황을 확인할 것이다. 단, 여기서는 코드가 몇 번 수행될지 사전에 알 수 없기 때문에 itertools.count로 무한의 이터러블을 생성한 후 프로세스가 종료되면 return하자."
   ]
  },
  {
   "cell_type": "code",
   "execution_count": 26,
   "metadata": {},
   "outputs": [],
   "source": [
    "import itertools\n",
    "import random\n",
    "import tqdm\n",
    "\n",
    "def dot(v: Vector, w: Vector) -> float:\n",
    "    \"\"\"v_1 * w_1 + ... + v_n * w_n\"\"\"\n",
    "    assert len(v) == len(w),  \"vectors must be same length\"\n",
    "    \n",
    "    return sum(v_i * w_i for v_i, w_i in zip(v,w))\n",
    "\n",
    "def sum_of_squares(v: Vector) -> float:\n",
    "    \"\"\"v_1 * v_1 + ... v_n * v_n\"\"\"\n",
    "    return dot(v,v)\n",
    "\n",
    "def subtract(v: Vector, w: Vector) -> Vector:\n",
    "    \"\"\"각 성분끼리 뺀다.\"\"\"\n",
    "    assert len(v) == len(w), \"vectors must be the same length\"\n",
    "    \n",
    "    return [v_i - w_i for v_i, w_i in zip(v, w)]\n",
    "\n",
    "def squared_distance(v: Vector, w: Vector) -> float:\n",
    "    \"\"\"(v_1 - w_1)**2 + ... + (v_n - w_n)**2\"\"\"\n",
    "    return sum_of_squares(subtract(v, w))"
   ]
  },
  {
   "cell_type": "code",
   "execution_count": 27,
   "metadata": {},
   "outputs": [],
   "source": [
    "class KMeans:\n",
    "    def __init__(self, k: int) -> None:\n",
    "        self.k = k  # number of clusters\n",
    "        self.means = None\n",
    "        \n",
    "    def classify(self, input: Vector) -> int:\n",
    "        \"\"\"입력 데이터에 가장 인접한 군집의 인덱스를 반환\"\"\"\n",
    "        return min(range(self.k),\n",
    "                  key=lambda i: squared_distance(input, self.means[i]))\n",
    "    \n",
    "    def train(self, inputs: List[Vector]) -> None:\n",
    "        # 일단 임의로 군집을 할당한다.\n",
    "        assignments = [random.randrange(self.k) for _ in inputs]\n",
    "        \n",
    "        with tqdm.tqdm(itertools.count()) as t:\n",
    "            for _ in t:\n",
    "                # 중심점을 구한 후 군집을 새로 할당한다.\n",
    "                self.means = cluster_means(self.k, inputs, assignments)\n",
    "                new_assignments = [self.classify(input) for input in inputs]\n",
    "                \n",
    "                # 군집이 바뀐 수를 세고 종료할 것인지를 판단\n",
    "                num_changed = num_differences(assignments, new_assignments)\n",
    "                if num_changed == 0:\n",
    "                    return\n",
    "                \n",
    "                # 그렇지 않다면 새로 할당된 군집을 저장하고, 새 중심점을 구한다.\n",
    "                assignments = new_assignments\n",
    "                self.means = cluster_means(self.k, inputs, assignments)\n",
    "                t.set_description(f\"changed: {num_changed} / {len(inputs)}\")"
   ]
  },
  {
   "cell_type": "markdown",
   "metadata": {},
   "source": [
    "## 20.3 예시: 오프라인 모임\n",
    "사용자들의 거주지 데이터를 기반으로 모두가 만족할 수 있는 모임 장소를 선정하는 것이 목적"
   ]
  },
  {
   "cell_type": "code",
   "execution_count": 49,
   "metadata": {},
   "outputs": [
    {
     "name": "stderr",
     "output_type": "stream",
     "text": [
      "changed: 5 / 20: : 1it [00:00, 838.53it/s]\n"
     ]
    }
   ],
   "source": [
    "inputs: List[List[float]] = [[-14,-5],[13,13],[20,23],[-19,-11],[-9,-16],[21,27],[-49,15],[26,13],[-46,5],[-34,-1],[11,15],[-49,0],[-22,-16],[19,28],[-12,-8],[-13,-19],[-41,8],[-11,-6],[-25,-9],[-18,-3]]\n",
    "random.seed(12)  # 매번 동일한 결과를 얻기 위해서다.\n",
    "clusterer = KMeans(k=3)\n",
    "clusterer.train(inputs)\n",
    "means = sorted(clusterer.means)  # 유닛 테스트를 위해 정렬한다."
   ]
  },
  {
   "cell_type": "code",
   "execution_count": 50,
   "metadata": {},
   "outputs": [],
   "source": [
    "assert len(means) == 3\n",
    "assert squared_distance(means[0], [-44, 5]) < 1\n",
    "assert squared_distance(means[1], [-16, -10]) < 1\n",
    "assert squared_distance(means[2], [18, 20]) < 1"
   ]
  },
  {
   "cell_type": "code",
   "execution_count": 51,
   "metadata": {},
   "outputs": [
    {
     "data": {
      "text/plain": [
       "Text(0, 0.5, 'blocks north of city center')"
      ]
     },
     "execution_count": 51,
     "metadata": {},
     "output_type": "execute_result"
    },
    {
     "data": {
      "image/png": "[encoded data removed]",
      "text/plain": [
       "<Figure size 432x288 with 1 Axes>"
      ]
     },
     "metadata": {
      "needs_background": "light"
     },
     "output_type": "display_data"
    }
   ],
   "source": [
    "import matplotlib.pyplot as plt\n",
    "x = [inputs[x_i][0] for x_i in range(len(inputs))]\n",
    "y = [inputs[x_i][1] for x_i in range(len(inputs))]\n",
    "\n",
    "plt.scatter(x, y)\n",
    "plt.title('User Locations')\n",
    "plt.xlabel('blocks east of city center')\n",
    "plt.ylabel('blocks north of city center')"
   ]
  },
  {
   "cell_type": "markdown",
   "metadata": {},
   "source": [
    "[-44, 5], [-16, -10], [18, 20]에 중심점이 있는 군집 세 개를 찾아서 그 위치를 기반으로 모임 장소를 물색해 보았다."
   ]
  },
  {
   "cell_type": "code",
   "execution_count": 52,
   "metadata": {},
   "outputs": [
    {
     "name": "stderr",
     "output_type": "stream",
     "text": [
      "changed: 4 / 20: : 2it [00:00, 283.24it/s]\n"
     ]
    }
   ],
   "source": [
    "random.seed(0)\n",
    "clusterer = KMeans(k=2)\n",
    "clusterer.train(inputs)\n",
    "means = sorted(clusterer.means)\n",
    "\n",
    "assert len(means) == 2\n",
    "assert squared_distance(means[0], [-26, -5]) < 1\n",
    "assert squared_distance(means[1], [18, 20]) < 1"
   ]
  },
  {
   "cell_type": "markdown",
   "metadata": {},
   "source": [
    "## 20.4 k 값 선택하기\n",
    "앞의 예시에서는 외부 요인이 k값을 결정했지만, 그런 경우는 보통 드물다. k값을 정할 수 있는 방법은 매우 다양하다. 쉬운 방법 중 하나는 k값에 대해 오차(중심점과 각 데이터 포인트 사이의 거리)의 제곱 합을 그래프로 그리고, 그 그래프가 어디서 꺾이는지 관찰하는 것이다."
   ]
  },
  {
   "cell_type": "code",
   "execution_count": 55,
   "metadata": {},
   "outputs": [],
   "source": [
    "import matplotlib.pyplot as plt\n",
    "\n",
    "def squared_clustering_errors(inputs: List[Vector], k: int) -> float:\n",
    "    \"\"\"모든 입력값에 대해 k-means 군집화를 실행하고 오차의 제곱 합을 계산\"\"\"\n",
    "    clusterer = KMeans(k)\n",
    "    clusterer.train(inputs)\n",
    "    means = clusterer.means\n",
    "    assignments = [clusterer.classify(input) for input in inputs]\n",
    "    \n",
    "    return sum(squared_distance(input, means[cluster])\n",
    "              for input, cluster in zip(inputs, assignments))"
   ]
  },
  {
   "cell_type": "code",
   "execution_count": 56,
   "metadata": {},
   "outputs": [
    {
     "name": "stderr",
     "output_type": "stream",
     "text": [
      "0it [00:00, ?it/s]\n",
      "changed: 10 / 20: : 1it [00:00, 977.47it/s]\n",
      "changed: 2 / 20: : 3it [00:00, 1123.88it/s]\n",
      "changed: 2 / 20: : 2it [00:00, 1263.15it/s]\n",
      "changed: 5 / 20: : 2it [00:00, 936.65it/s]\n",
      "changed: 2 / 20: : 4it [00:00, 1044.01it/s]\n",
      "changed: 7 / 20: : 2it [00:00, 501.17it/s]\n",
      "changed: 5 / 20: : 2it [00:00, 774.14it/s]\n",
      "changed: 1 / 20: : 3it [00:00, 1242.51it/s]\n",
      "changed: 1 / 20: : 4it [00:00, 881.76it/s]\n",
      "changed: 3 / 20: : 3it [00:00, 636.75it/s]\n",
      "changed: 5 / 20: : 2it [00:00, 824.68it/s]\n",
      "changed: 3 / 20: : 2it [00:00, 748.11it/s]\n",
      "changed: 2 / 20: : 3it [00:00, 852.04it/s]\n",
      "changed: 1 / 20: : 3it [00:00, 776.20it/s]\n",
      "changed: 4 / 20: : 2it [00:00, 762.95it/s]\n",
      "changed: 1 / 20: : 5it [00:00, 788.11it/s]\n",
      "changed: 2 / 20: : 3it [00:00, 806.39it/s]\n",
      "changed: 1 / 20: : 5it [00:00, 842.40it/s]\n",
      "changed: 4 / 20: : 3it [00:00, 759.20it/s]\n"
     ]
    },
    {
     "data": {
      "text/plain": [
       "Text(0.5, 1.0, 'Total Error vs. # of Clusters')"
      ]
     },
     "execution_count": 56,
     "metadata": {},
     "output_type": "execute_result"
    },
    {
     "data": {
      "image/png": "[encoded data removed]",
      "text/plain": [
       "<Figure size 432x288 with 1 Axes>"
      ]
     },
     "metadata": {
      "needs_background": "light"
     },
     "output_type": "display_data"
    }
   ],
   "source": [
    "# 첫 번째부터 len(inputs)번째 군집까지 시각화\n",
    "ks = range(1, len(inputs) + 1)\n",
    "errors = [squared_clustering_errors(inputs, k) for k in ks]\n",
    "\n",
    "plt.plot(ks, errors)\n",
    "plt.xticks(ks)\n",
    "plt.xlabel(\"k\")\n",
    "plt.ylabel(\"total squared error\")\n",
    "plt.title(\"Total Error vs. # of Clusters\")\n",
    "# plt.show()"
   ]
  },
  {
   "cell_type": "markdown",
   "metadata": {},
   "source": [
    "위의 그림에서 우리가 눈으로 어림잡은 군집 수인 세 개가 '알맞은' 군집 수였다는 것을 확인할 수 있다."
   ]
  },
  {
   "cell_type": "markdown",
   "metadata": {},
   "source": [
    "## 20.5 예시: 색 군집화하기\n",
    "스티커 굿즈를 만드는데 프린터는 총 다섯가지 색밖에 출력할 수가 없다. \n",
    "\n",
    "이미지 파일은 보통 픽셀의 2차원 배열이고, 픽셀은 새을 나타내는 (Red, Green, Blue)로 구성된 3차원 벡터이다.\n",
    "이 것을 다섯 가지 색의 이미지로 바꾼다은 것은 다음의 과정을 의미한다.\n",
    "\n",
    "1. 다섯 가지 색을 고른다.\n",
    "2. 각 픽셀을 다섯 가지 색 중 하나로 매핑한다.\n",
    "\n",
    "이 문제는 k-means로 풀기에 적당한 형태이다. k-means를 사용하면 RGB 공간상에서 모든 픽셀을 다섯 개의 군집으로 나눌 수 있다. 그 다음에 각 픽셀을 각 군집의 중점색으로 칠하면 된다."
   ]
  },
  {
   "cell_type": "code",
   "execution_count": 57,
   "metadata": {},
   "outputs": [
    {
     "name": "stdout",
     "output_type": "stream",
     "text": [
      "Requirement already satisfied: pillow in /home/minsungkim/anaconda3/lib/python3.7/site-packages (7.2.0)\n",
      "Note: you may need to restart the kernel to use updated packages.\n"
     ]
    }
   ],
   "source": [
    "# %pip install pillow"
   ]
  },
  {
   "cell_type": "code",
   "execution_count": 58,
   "metadata": {},
   "outputs": [
    {
     "ename": "FileNotFoundError",
     "evalue": "[Errno 2] No such file or directory: 'girl_with_book.jpg'",
     "output_type": "error",
     "traceback": [
      "\u001b[0;31m---------------------------------------------------------------------------\u001b[0m",
      "\u001b[0;31mFileNotFoundError\u001b[0m                         Traceback (most recent call last)",
      "\u001b[0;32m<ipython-input-58-c639740e9c90>\u001b[0m in \u001b[0;36m<module>\u001b[0;34m\u001b[0m\n\u001b[1;32m      1\u001b[0m \u001b[0mimage_path\u001b[0m \u001b[0;34m=\u001b[0m \u001b[0;34mr\"girl_with_book.jpg\"\u001b[0m  \u001b[0;31m# 이미지가 있는 경로\u001b[0m\u001b[0;34m\u001b[0m\u001b[0;34m\u001b[0m\u001b[0m\n\u001b[1;32m      2\u001b[0m \u001b[0;32mimport\u001b[0m \u001b[0mmatplotlib\u001b[0m\u001b[0;34m.\u001b[0m\u001b[0mimage\u001b[0m \u001b[0;32mas\u001b[0m \u001b[0mmpimg\u001b[0m\u001b[0;34m\u001b[0m\u001b[0;34m\u001b[0m\u001b[0m\n\u001b[0;32m----> 3\u001b[0;31m \u001b[0mimg\u001b[0m \u001b[0;34m=\u001b[0m \u001b[0mmpimg\u001b[0m\u001b[0;34m.\u001b[0m\u001b[0mimread\u001b[0m\u001b[0;34m(\u001b[0m\u001b[0mimage_path\u001b[0m\u001b[0;34m)\u001b[0m \u001b[0;34m/\u001b[0m \u001b[0;36m256\u001b[0m  \u001b[0;31m# 0과 1 사이로 매핑한다.\u001b[0m\u001b[0;34m\u001b[0m\u001b[0;34m\u001b[0m\u001b[0m\n\u001b[0m",
      "\u001b[0;32m~/anaconda3/lib/python3.7/site-packages/matplotlib/image.py\u001b[0m in \u001b[0;36mimread\u001b[0;34m(fname, format)\u001b[0m\n\u001b[1;32m   1484\u001b[0m                     \u001b[0mresponse\u001b[0m \u001b[0;34m=\u001b[0m \u001b[0mio\u001b[0m\u001b[0;34m.\u001b[0m\u001b[0mBytesIO\u001b[0m\u001b[0;34m(\u001b[0m\u001b[0mresponse\u001b[0m\u001b[0;34m.\u001b[0m\u001b[0mread\u001b[0m\u001b[0;34m(\u001b[0m\u001b[0;34m)\u001b[0m\u001b[0;34m)\u001b[0m\u001b[0;34m\u001b[0m\u001b[0;34m\u001b[0m\u001b[0m\n\u001b[1;32m   1485\u001b[0m                 \u001b[0;32mreturn\u001b[0m \u001b[0mimread\u001b[0m\u001b[0;34m(\u001b[0m\u001b[0mresponse\u001b[0m\u001b[0;34m,\u001b[0m \u001b[0mformat\u001b[0m\u001b[0;34m=\u001b[0m\u001b[0mext\u001b[0m\u001b[0;34m)\u001b[0m\u001b[0;34m\u001b[0m\u001b[0;34m\u001b[0m\u001b[0m\n\u001b[0;32m-> 1486\u001b[0;31m     \u001b[0;32mwith\u001b[0m \u001b[0mimg_open\u001b[0m\u001b[0;34m(\u001b[0m\u001b[0mfname\u001b[0m\u001b[0;34m)\u001b[0m \u001b[0;32mas\u001b[0m \u001b[0mimage\u001b[0m\u001b[0;34m:\u001b[0m\u001b[0;34m\u001b[0m\u001b[0;34m\u001b[0m\u001b[0m\n\u001b[0m\u001b[1;32m   1487\u001b[0m         return (_pil_png_to_float_array(image)\n\u001b[1;32m   1488\u001b[0m                 \u001b[0;32mif\u001b[0m \u001b[0misinstance\u001b[0m\u001b[0;34m(\u001b[0m\u001b[0mimage\u001b[0m\u001b[0;34m,\u001b[0m \u001b[0mPIL\u001b[0m\u001b[0;34m.\u001b[0m\u001b[0mPngImagePlugin\u001b[0m\u001b[0;34m.\u001b[0m\u001b[0mPngImageFile\u001b[0m\u001b[0;34m)\u001b[0m \u001b[0;32melse\u001b[0m\u001b[0;34m\u001b[0m\u001b[0;34m\u001b[0m\u001b[0m\n",
      "\u001b[0;32m~/anaconda3/lib/python3.7/site-packages/PIL/Image.py\u001b[0m in \u001b[0;36mopen\u001b[0;34m(fp, mode)\u001b[0m\n\u001b[1;32m   2876\u001b[0m \u001b[0;34m\u001b[0m\u001b[0m\n\u001b[1;32m   2877\u001b[0m     \u001b[0;32mif\u001b[0m \u001b[0mfilename\u001b[0m\u001b[0;34m:\u001b[0m\u001b[0;34m\u001b[0m\u001b[0;34m\u001b[0m\u001b[0m\n\u001b[0;32m-> 2878\u001b[0;31m         \u001b[0mfp\u001b[0m \u001b[0;34m=\u001b[0m \u001b[0mbuiltins\u001b[0m\u001b[0;34m.\u001b[0m\u001b[0mopen\u001b[0m\u001b[0;34m(\u001b[0m\u001b[0mfilename\u001b[0m\u001b[0;34m,\u001b[0m \u001b[0;34m\"rb\"\u001b[0m\u001b[0;34m)\u001b[0m\u001b[0;34m\u001b[0m\u001b[0;34m\u001b[0m\u001b[0m\n\u001b[0m\u001b[1;32m   2879\u001b[0m         \u001b[0mexclusive_fp\u001b[0m \u001b[0;34m=\u001b[0m \u001b[0;32mTrue\u001b[0m\u001b[0;34m\u001b[0m\u001b[0;34m\u001b[0m\u001b[0m\n\u001b[1;32m   2880\u001b[0m \u001b[0;34m\u001b[0m\u001b[0m\n",
      "\u001b[0;31mFileNotFoundError\u001b[0m: [Errno 2] No such file or directory: 'girl_with_book.jpg'"
     ]
    }
   ],
   "source": [
    "image_path = r\"girl_with_book.jpg\"  # 이미지가 있는 경로\n",
    "import matplotlib.image as mpimg \n",
    "img = mpimg.imread(image_path) / 256  # 0과 1 사이로 매핑한다."
   ]
  },
  {
   "cell_type": "markdown",
   "metadata": {},
   "source": [
    "사실 img는 Numpy 배열이지만, 여기서는 이를 리스트의 리스트의 리스트로 생각하자.\n",
    "\n",
    "img[i][j] i행의 j번째 열의 픽셀이고, 각 픽셀은 색을 나타내도록 0부터 1사이의 [red, green, blue] 값을 가진다."
   ]
  },
  {
   "cell_type": "code",
   "execution_count": 59,
   "metadata": {},
   "outputs": [
    {
     "ename": "NameError",
     "evalue": "name 'img' is not defined",
     "output_type": "error",
     "traceback": [
      "\u001b[0;31m---------------------------------------------------------------------------\u001b[0m",
      "\u001b[0;31mNameError\u001b[0m                                 Traceback (most recent call last)",
      "\u001b[0;32m<ipython-input-59-3c4d1ab4fd7e>\u001b[0m in \u001b[0;36m<module>\u001b[0;34m\u001b[0m\n\u001b[0;32m----> 1\u001b[0;31m \u001b[0mtop_row\u001b[0m \u001b[0;34m=\u001b[0m \u001b[0mimg\u001b[0m\u001b[0;34m[\u001b[0m\u001b[0;36m0\u001b[0m\u001b[0;34m]\u001b[0m\u001b[0;34m\u001b[0m\u001b[0;34m\u001b[0m\u001b[0m\n\u001b[0m\u001b[1;32m      2\u001b[0m \u001b[0mtop_left_pixel\u001b[0m \u001b[0;34m=\u001b[0m \u001b[0mtop_row\u001b[0m\u001b[0;34m[\u001b[0m\u001b[0;36m0\u001b[0m\u001b[0;34m]\u001b[0m\u001b[0;34m\u001b[0m\u001b[0;34m\u001b[0m\u001b[0m\n\u001b[1;32m      3\u001b[0m \u001b[0mred\u001b[0m\u001b[0;34m,\u001b[0m \u001b[0mgreen\u001b[0m\u001b[0;34m,\u001b[0m \u001b[0mblue\u001b[0m \u001b[0;34m=\u001b[0m \u001b[0mtop_left_pixel\u001b[0m\u001b[0;34m\u001b[0m\u001b[0;34m\u001b[0m\u001b[0m\n",
      "\u001b[0;31mNameError\u001b[0m: name 'img' is not defined"
     ]
    }
   ],
   "source": [
    "top_row = img[0]\n",
    "top_left_pixel = top_row[0]\n",
    "red, green, blue = top_left_pixel"
   ]
  },
  {
   "cell_type": "markdown",
   "metadata": {},
   "source": [
    "행과 열에 무관하게 전체 픽셀에 대한 리스트는 다음과 같이 나타낼 수 있다."
   ]
  },
  {
   "cell_type": "code",
   "execution_count": 60,
   "metadata": {},
   "outputs": [
    {
     "ename": "NameError",
     "evalue": "name 'img' is not defined",
     "output_type": "error",
     "traceback": [
      "\u001b[0;31m---------------------------------------------------------------------------\u001b[0m",
      "\u001b[0;31mNameError\u001b[0m                                 Traceback (most recent call last)",
      "\u001b[0;32m<ipython-input-60-20521ada090b>\u001b[0m in \u001b[0;36m<module>\u001b[0;34m\u001b[0m\n\u001b[1;32m      1\u001b[0m \u001b[0;31m# .tolist()는 Numpy 배열을 파이썬 리스트로 변환한다.\u001b[0m\u001b[0;34m\u001b[0m\u001b[0;34m\u001b[0m\u001b[0;34m\u001b[0m\u001b[0m\n\u001b[0;32m----> 2\u001b[0;31m \u001b[0mpixels\u001b[0m \u001b[0;34m=\u001b[0m \u001b[0;34m[\u001b[0m\u001b[0mpixel\u001b[0m\u001b[0;34m.\u001b[0m\u001b[0mtolist\u001b[0m\u001b[0;34m(\u001b[0m\u001b[0;34m)\u001b[0m \u001b[0;32mfor\u001b[0m \u001b[0mrow\u001b[0m \u001b[0;32min\u001b[0m \u001b[0mimg\u001b[0m \u001b[0;32mfor\u001b[0m \u001b[0mpixel\u001b[0m \u001b[0;32min\u001b[0m \u001b[0mrow\u001b[0m\u001b[0;34m]\u001b[0m\u001b[0;34m\u001b[0m\u001b[0;34m\u001b[0m\u001b[0m\n\u001b[0m",
      "\u001b[0;31mNameError\u001b[0m: name 'img' is not defined"
     ]
    }
   ],
   "source": [
    "# .tolist()는 Numpy 배열을 파이썬 리스트로 변환한다.\n",
    "pixels = [pixel.tolist() for row in img for pixel in row]"
   ]
  },
  {
   "cell_type": "markdown",
   "metadata": {},
   "source": [
    "이를 군집화 알고리즘에 넣어 보자."
   ]
  },
  {
   "cell_type": "code",
   "execution_count": 61,
   "metadata": {},
   "outputs": [
    {
     "ename": "NameError",
     "evalue": "name 'pixels' is not defined",
     "output_type": "error",
     "traceback": [
      "\u001b[0;31m---------------------------------------------------------------------------\u001b[0m",
      "\u001b[0;31mNameError\u001b[0m                                 Traceback (most recent call last)",
      "\u001b[0;32m<ipython-input-61-298a57457aba>\u001b[0m in \u001b[0;36m<module>\u001b[0;34m\u001b[0m\n\u001b[1;32m      1\u001b[0m \u001b[0mclusterer\u001b[0m \u001b[0;34m=\u001b[0m \u001b[0mKMeans\u001b[0m\u001b[0;34m(\u001b[0m\u001b[0;36m5\u001b[0m\u001b[0;34m)\u001b[0m\u001b[0;34m\u001b[0m\u001b[0;34m\u001b[0m\u001b[0m\n\u001b[0;32m----> 2\u001b[0;31m \u001b[0mclusterer\u001b[0m\u001b[0;34m.\u001b[0m\u001b[0mtrain\u001b[0m\u001b[0;34m(\u001b[0m\u001b[0mpixels\u001b[0m\u001b[0;34m)\u001b[0m  \u001b[0;31m# 시간이 오래 걸릴 수도 있다.\u001b[0m\u001b[0;34m\u001b[0m\u001b[0;34m\u001b[0m\u001b[0m\n\u001b[0m",
      "\u001b[0;31mNameError\u001b[0m: name 'pixels' is not defined"
     ]
    }
   ],
   "source": [
    "clusterer = KMeans(5)\n",
    "clusterer.train(pixels)  # 시간이 오래 걸릴 수도 있다."
   ]
  },
  {
   "cell_type": "markdown",
   "metadata": {},
   "source": [
    "알고리즘을 돌리고 나면 새로운 이미지가 생성된다."
   ]
  },
  {
   "cell_type": "code",
   "execution_count": 62,
   "metadata": {},
   "outputs": [],
   "source": [
    "def recolor(pixel: Vector) -> Vector:\n",
    "    cluster = clusterer.classify(pixel)  # 가장 가까운 군집의 인덱스\n",
    "    return clusterer.means[cluster]  # 가장 가까운 군집의 중심점"
   ]
  },
  {
   "cell_type": "code",
   "execution_count": 63,
   "metadata": {},
   "outputs": [
    {
     "ename": "NameError",
     "evalue": "name 'img' is not defined",
     "output_type": "error",
     "traceback": [
      "\u001b[0;31m---------------------------------------------------------------------------\u001b[0m",
      "\u001b[0;31mNameError\u001b[0m                                 Traceback (most recent call last)",
      "\u001b[0;32m<ipython-input-63-878aa69d5937>\u001b[0m in \u001b[0;36m<module>\u001b[0;34m\u001b[0m\n\u001b[1;32m      1\u001b[0m new_img = [[recolor(pixel) for pixel in row]  # 주어진 행의 픽셀을 다시 칠하자.\n\u001b[0;32m----> 2\u001b[0;31m           for row in img]  # 이미지의 모든 행에 대해\n\u001b[0m",
      "\u001b[0;31mNameError\u001b[0m: name 'img' is not defined"
     ]
    }
   ],
   "source": [
    "new_img = [[recolor(pixel) for pixel in row]  # 주어진 행의 픽셀을 다시 칠하자.\n",
    "          for row in img]  # 이미지의 모든 행에 대해"
   ]
  },
  {
   "cell_type": "markdown",
   "metadata": {},
   "source": [
    "plt.imshow로 이미지를 출력할 수 있다."
   ]
  },
  {
   "cell_type": "code",
   "execution_count": 64,
   "metadata": {},
   "outputs": [
    {
     "ename": "NameError",
     "evalue": "name 'new_img' is not defined",
     "output_type": "error",
     "traceback": [
      "\u001b[0;31m---------------------------------------------------------------------------\u001b[0m",
      "\u001b[0;31mNameError\u001b[0m                                 Traceback (most recent call last)",
      "\u001b[0;32m<ipython-input-64-9b0c7774a4ee>\u001b[0m in \u001b[0;36m<module>\u001b[0;34m\u001b[0m\n\u001b[0;32m----> 1\u001b[0;31m \u001b[0mplt\u001b[0m\u001b[0;34m.\u001b[0m\u001b[0mimshow\u001b[0m\u001b[0;34m(\u001b[0m\u001b[0mnew_img\u001b[0m\u001b[0;34m)\u001b[0m\u001b[0;34m\u001b[0m\u001b[0;34m\u001b[0m\u001b[0m\n\u001b[0m\u001b[1;32m      2\u001b[0m \u001b[0mplt\u001b[0m\u001b[0;34m.\u001b[0m\u001b[0maxis\u001b[0m\u001b[0;34m(\u001b[0m\u001b[0;34m'off'\u001b[0m\u001b[0;34m)\u001b[0m\u001b[0;34m\u001b[0m\u001b[0;34m\u001b[0m\u001b[0m\n\u001b[1;32m      3\u001b[0m \u001b[0mplt\u001b[0m\u001b[0;34m.\u001b[0m\u001b[0mshow\u001b[0m\u001b[0;34m(\u001b[0m\u001b[0;34m)\u001b[0m\u001b[0;34m\u001b[0m\u001b[0;34m\u001b[0m\u001b[0m\n",
      "\u001b[0;31mNameError\u001b[0m: name 'new_img' is not defined"
     ]
    }
   ],
   "source": [
    "plt.imshow(new_img)\n",
    "plt.axis('off')\n",
    "plt.show()"
   ]
  },
  {
   "cell_type": "markdown",
   "metadata": {},
   "source": [
    "## 20.6 상향식 계층 군집화\n",
    "군집화를 할 수 있는 다른 방법으로는 상향식으로 군집들을 묶는 방법이 있다. 아래와 같은 방법으로 진행한다.\n",
    "\n",
    "1. 각 데이터 포인트를 하나의 군집으로 간주한다.\n",
    "2. 군집이 두 개 이상이라면 가장 가까운 두 개의 군집을 찾아 하나의 군집으로 묶는다. \n",
    "\n",
    "위의 반복 연산이 완전히 종료되면 최종적으로 단 하나의 거대한 군집만이 남는다. 다만, 군집들을 묶어 나가는 중간 과정을 모두 기록해 두기 때문에, 언제든 묶인 군집을 다시 풀 수 있다. \n",
    "\n",
    "e.g. 세 개의 군집을 원한다면 마지막 두 번의 병합만 되돌리면 된다.\n",
    "\n",
    "군집을 표현할 때는 간단한 표기법을 쓰자. 데이터 값은 NamedTuple로 표현된 잎(leaf) 군집에 넣도록 하자."
   ]
  },
  {
   "cell_type": "code",
   "execution_count": 65,
   "metadata": {},
   "outputs": [],
   "source": [
    "from typing import NamedTuple, Union\n",
    "\n",
    "class Leaf(NamedTuple):\n",
    "    value: Vector\n",
    "        \n",
    "leaf1 = Leaf([10, 20])\n",
    "leaf2 = Leaf([30, -15])"
   ]
  },
  {
   "cell_type": "markdown",
   "metadata": {},
   "source": [
    "이를 이용해 역시 NamedTuple로 표현되는 병합된 군집을 만들 것이다."
   ]
  },
  {
   "cell_type": "code",
   "execution_count": 66,
   "metadata": {},
   "outputs": [],
   "source": [
    "class Merged(NamedTuple):\n",
    "    children: tuple\n",
    "    order: int"
   ]
  },
  {
   "cell_type": "code",
   "execution_count": 68,
   "metadata": {},
   "outputs": [
    {
     "name": "stdout",
     "output_type": "stream",
     "text": [
      "Merged(children=(Leaf(value=[10, 20]), Leaf(value=[30, -15])), order=1)\n"
     ]
    }
   ],
   "source": [
    "print(merged)\n",
    "merged = Merged((leaf1, leaf2), order=1)\n",
    "\n",
    "Cluster = Union[Leaf, Merged]"
   ]
  },
  {
   "cell_type": "markdown",
   "metadata": {},
   "source": [
    "아래 코드는 군집에 포함된 값들을 모두 반환하는 함수"
   ]
  },
  {
   "cell_type": "code",
   "execution_count": 69,
   "metadata": {},
   "outputs": [],
   "source": [
    "def get_values(cluster: Cluster) -> List[Vector]:\n",
    "    if isinstance(cluster, Leaf):\n",
    "        return [cluster.value]\n",
    "    \n",
    "    else:\n",
    "        return [value\n",
    "               for child in cluster.children\n",
    "               for value in get_values(child)]"
   ]
  },
  {
   "cell_type": "code",
   "execution_count": 70,
   "metadata": {},
   "outputs": [],
   "source": [
    "assert get_values(merged) == [[10,20], [30, -15]]"
   ]
  },
  {
   "cell_type": "markdown",
   "metadata": {},
   "source": [
    "가장 가까운 두 개의 군집을 묶기 위해서는 군집 간 거리를 먼저 정의할 수 있어야 한다. 여기서는 두 군집 간의 최소 거리를 사용해서 군집화를 할 것인데, 이는 서로 경계면이 가장 가깝게 맞닿아 있는 군집끼리 묶겠다는 것을 의미한다. (이렇게 하면 막상 가깝지 않으면서 체인처럼 이어진 형태의 군집이 생성되기도 한다.) 구형의 군집을 만들고 싶은 경우, 두 군집 간의 최대 거리를 사용하면 된다. 이 두 가지의 접근법 외에 평균 거리도 자주 사용된다."
   ]
  },
  {
   "cell_type": "code",
   "execution_count": 80,
   "metadata": {},
   "outputs": [],
   "source": [
    "import math\n",
    "from typing import Callable\n",
    "\n",
    "def subtract(v: Vector, w: Vector) -> Vector:\n",
    "    \"\"\"각 성분끼리 뺀다.\"\"\"\n",
    "    assert len(v) == len(w), \"vectors must be the same length\"\n",
    "    \n",
    "    return [v_i - w_i for v_i, w_i in zip(v, w)]\n",
    "\n",
    "def dot(v: Vector, w: Vector) -> float:\n",
    "    \"\"\"v_1 * w_1 + ... + v_n * w_n\"\"\"\n",
    "    assert len(v) == len(w),  \"vectors must be same length\"\n",
    "    \n",
    "    return sum(v_i * w_i for v_i, w_i in zip(v,w))\n",
    "\n",
    "def sum_of_squares(v: Vector) -> float:\n",
    "    \"\"\"v_1 * v_1 + ... v_n * v_n\"\"\"\n",
    "    return dot(v,v)\n",
    "\n",
    "def squared_distance(v: Vector, w: Vector) -> float:\n",
    "    \"\"\"(v_1 - w_1)**2 + ... + (v_n - w_n)**2\"\"\"\n",
    "    return sum_of_squares(subtract(v, w))\n",
    "\n",
    "def distance(v: Vector, w: Vector) -> float:\n",
    "    \"\"\"벡터 v와 w 간의 거리를 계산\"\"\"\n",
    "    return math.sqrt(squared_distance(v,w))"
   ]
  },
  {
   "cell_type": "code",
   "execution_count": 81,
   "metadata": {},
   "outputs": [],
   "source": [
    "def cluster_distance(cluster1: Cluster,\n",
    "                    cluster2: Cluster,\n",
    "                    distance_agg: Callable = min) -> float:\n",
    "    \"\"\"\n",
    "    cluster1에 속하는 점과 cluster2에 속하는 점 사이의 모든 거리를 계산하고\n",
    "    결과로 나오는 리스트에 distance_agg를 적용\n",
    "    \"\"\"\n",
    "    return distance_agg([distance(v1, v2)\n",
    "                        for v1 in get_values(cluster1)\n",
    "                        for v2 in get_values(cluster2)])"
   ]
  },
  {
   "cell_type": "markdown",
   "metadata": {},
   "source": [
    "**병합 순서는 우리가 어떤 순서로 병합을 했는지 파악하고, 이를 다시 분해하기 위해 필요하다.**\n",
    "\n",
    "숫자가 작을수록 나중에 병합했다는 것을 의미한다. 즉, 병합한 것을 다시 분해하고 싶을 때, 병합 순서가 낮은 것부터 높은 것까지 순차적으로 살펴보면 된다. 잎 군집은 한 번도 병합된 적이 없으니, 그들의 병합 순서는 무한대로 정한다. 그리고 잎 군집에는 .order 속성이 없으므로 함수도 하나 만들어주자."
   ]
  },
  {
   "cell_type": "code",
   "execution_count": 82,
   "metadata": {},
   "outputs": [],
   "source": [
    "def get_mere_order(cluster: Cluster) -> float:\n",
    "    if isinstance(cluster, Leaf):\n",
    "        return float('inf')  # 한 번도 병합된 적이 없다. \n",
    "    else: \n",
    "        return cluster.order"
   ]
  },
  {
   "cell_type": "markdown",
   "metadata": {},
   "source": [
    "잎 군집에는 자식도 없으므로, 그에 대응하는 함수도 만들자."
   ]
  },
  {
   "cell_type": "code",
   "execution_count": 83,
   "metadata": {},
   "outputs": [],
   "source": [
    "from typing import Tuple\n",
    "def get_children(cluster: Cluster):\n",
    "    if isinstance(cluster, Leaf):\n",
    "        raise TypeError(\"Leaf has no children\")\n",
    "        \n",
    "    else:\n",
    "        return cluster.children"
   ]
  },
  {
   "cell_type": "markdown",
   "metadata": {},
   "source": [
    "위의 모든 코드들을 작서하였고 이제 군집화 알고리즘을 작성할 준비가 다 되었다."
   ]
  },
  {
   "cell_type": "code",
   "execution_count": 86,
   "metadata": {},
   "outputs": [],
   "source": [
    "def bottom_up_cluster(inputs: List[Vector],\n",
    "                     distance_agg: Callable = min) -> Cluster:\n",
    "    # 모든 잎으로 시작한다.\n",
    "    clusters: List[Cluster] = [Leaf(input) for input in inputs]\n",
    "        \n",
    "    def pair_distance(pair: Tuple[Cluster, Cluster]) -> float:\n",
    "        return cluster_distance(pair[0], pair[1], distance_agg)\n",
    "    \n",
    "    # 한 개 이상의 군집이 존재한다면...\n",
    "    while len(clusters) > 1: \n",
    "        # 가장 가까운 두 개의 군집을 찾아\n",
    "        c1, c2 = min(((cluster1, cluster2)\n",
    "                    for i, cluster1 in enumerate(clusters)\n",
    "                    for cluster2 in clusters[:i]),\n",
    "                    key=pair_distance)\n",
    "        \n",
    "        # 군집의 리스트에서 제거한다.\n",
    "        clusters = [c for c in clusters if c != c1 and c != c2]\n",
    "        \n",
    "        # (order=남은 군집의 수)로 두 군집을 병합하고\n",
    "        merged_cluster = Merged((c1, c2), order=len(clusters))\n",
    "        \n",
    "        # 병합된 군집을 추가\n",
    "        clusters.append(merged_cluster)\n",
    "        \n",
    "    # 군집이 하나 밖에 남지 않은 경우 반환\n",
    "    return clusters[0]"
   ]
  },
  {
   "cell_type": "markdown",
   "metadata": {},
   "source": [
    "사용 방법은 간단하다."
   ]
  },
  {
   "cell_type": "code",
   "execution_count": 87,
   "metadata": {},
   "outputs": [],
   "source": [
    "base_cluster = bottom_up_cluster(inputs)"
   ]
  },
  {
   "cell_type": "code",
   "execution_count": 88,
   "metadata": {},
   "outputs": [
    {
     "data": {
      "text/plain": [
       "Merged(children=(Merged(children=(Merged(children=(Merged(children=(Merged(children=(Leaf(value=[19, 28]), Leaf(value=[21, 27])), order=18), Leaf(value=[20, 23])), order=14), Leaf(value=[26, 13])), order=3), Merged(children=(Leaf(value=[11, 15]), Leaf(value=[13, 13])), order=16)), order=1), Merged(children=(Merged(children=(Merged(children=(Merged(children=(Merged(children=(Leaf(value=[-49, 0]), Leaf(value=[-46, 5])), order=11), Leaf(value=[-41, 8])), order=9), Leaf(value=[-49, 15])), order=5), Leaf(value=[-34, -1])), order=4), Merged(children=(Merged(children=(Merged(children=(Merged(children=(Leaf(value=[-22, -16]), Leaf(value=[-19, -11])), order=10), Leaf(value=[-25, -9])), order=8), Merged(children=(Merged(children=(Merged(children=(Leaf(value=[-11, -6]), Leaf(value=[-12, -8])), order=17), Leaf(value=[-14, -5])), order=15), Leaf(value=[-18, -3])), order=13)), order=7), Merged(children=(Leaf(value=[-13, -19]), Leaf(value=[-9, -16])), order=12)), order=6)), order=2)), order=0)"
      ]
     },
     "execution_count": 88,
     "metadata": {},
     "output_type": "execute_result"
    }
   ],
   "source": [
    "base_cluster"
   ]
  },
  {
   "cell_type": "markdown",
   "metadata": {},
   "source": [
    "최상단에 있는 숫자들은 병합된 숫자를 일컫는다. 20개의 입력값을 받았으므로, 거대한 군집 하나를 얻는 데 19번의 병합을 했다. 첫 번째 병합에서는 잎 [19, 28]과 잎[21, 27]을 합쳐서 군집 18을 만들었다. 마지막 병합에서 군집 0을 만들었다.\n",
    "\n",
    "두 개의 군집만 원한다면 첫번째 분기('0')에서 6개 데이터 포인트가 있는 군집 하나와 나머지로 구성된 군집으로 나눌 것이다. 세 개의 군집을 원한다면 두 번째 분기('1')에서 한 번 더 나눠서, 첫 번재 군집이 ([19, 28], [21, 27], [20, 23], [26, 13])과 ([11, 15], [13, 13])으로 나뉘도록 할 것이다. 더 많은 군집을 원한다면 이 방식을 반복하면 된다.\n",
    "\n",
    "하지만 보통 이렇게 텍스트로 지저분하게 나열된 것을 눈을 찡그리며 보고 싶지는 않을 것이다. 대신, 특정 개수의 군집을 원할 대 필요한 만큼 분해를 해서 군집을 반환해 주는 함수를 만들어 보자."
   ]
  },
  {
   "cell_type": "code",
   "execution_count": null,
   "metadata": {},
   "outputs": [],
   "source": []
  }
 ],
 "metadata": {
  "kernelspec": {
   "display_name": "Python 3",
   "language": "python",
   "name": "python3"
  },
  "language_info": {
   "codemirror_mode": {
    "name": "ipython",
    "version": 3
   },
   "file_extension": ".py",
   "mimetype": "text/x-python",
   "name": "python",
   "nbconvert_exporter": "python",
   "pygments_lexer": "ipython3",
   "version": "3.7.6"
  }
 },
 "nbformat": 4,
 "nbformat_minor": 4
}
