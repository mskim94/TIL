{
 "cells": [
  {
   "cell_type": "markdown",
   "metadata": {},
   "source": [
    "# 6.1 Diagonalization of Symmetric Matrices"
   ]
  },
  {
   "cell_type": "markdown",
   "metadata": {},
   "source": [
    "## 용어 정리\n",
    "- symmetric matrix: ${A}^T = A$ 만족하는 matrix\n",
    "- Diagonalization: 대각화\n",
    "    - A is said to be **diagonalizable** $\\to$ $A = PD{P}^{-1}$\n",
    "    \n",
    "- spectrum(eigenvalue)"
   ]
  },
  {
   "cell_type": "markdown",
   "metadata": {},
   "source": [
    "## Summary\n",
    "\n",
    "### Theorem 1.\n",
    "If $A$ is **symmetric**, 두 eigenvectors from different eigenspaces are **orthogonal**\n",
    "\n",
    "\n",
    "#### Orthognally Diagonalizable\n",
    "A is said to be orthogonally diagonalizable, if there are an orthogonal matrix P with ${P}^{-1} = {P}^{T}$ and a diagonal matrix D such that $A = PD{P}^T = PD{P}^{-1}$\n",
    "\n",
    "### Theorem 2.\n",
    "n x n matrix A is **orthogonally diagonalizable** $\\Longleftrightarrow$ A is a **symmetric**\n",
    "\n",
    "#### Steps: Orthogonally Diagonalization\n",
    "1. Check if $A^T = A$ (symmetric matrix 확인)\n",
    "2. Calculate **eigenspaces** for distinct eigenvalues\n",
    "3. Find **orthogonal basis** for each eigenspace by the **Gram-Schmidt** process\n",
    "4. Obtain **orthonormal basis** by **normalization**\n",
    "5. Construct $P$ and $D$\n",
    "\n",
    "### Theorem 3. The Spectral Theorem for Symmetric Matrices\n",
    "n x n **symmetric** matrix $A$ has the following properties\n",
    "- a. A has **n real eigenvalues**, counting multiplicities\n",
    "- b. The **dimension of the eigenspace** for each eigenvalue $\\lambda$ equals the multiplicity of $\\lambda$\n",
    "- c. **Eigenvectors** corresponding to **different eigenvalues** are **orthogonal**\n",
    "- d. A is orthogonally diagonalizable\n",
    "\n",
    "\n",
    "#### Spectral Decomposition\n",
    "A가 orthogonally diagonalizable하다고 가정하자, A를 Spectral Decomposition 하면, $A = {\\lambda}_1{u}_1{u}_1^T + {\\lambda}_2{u}_2{u}_2^T + \\dots + {\\lambda}_n{u}_n{u}_n^T$\n",
    "\n",
    "\n",
    "#### $A$ is a symmetric $\\to$ ${A}^2$ is symmetric\n",
    "#### $A$ is a orthogonally diagonalizable $\\to$ ${A}^2$ is orthogonally diagonalizable"
   ]
  },
  {
   "cell_type": "markdown",
   "metadata": {},
   "source": [
    "# 6.2 Quadratic Forms"
   ]
  },
  {
   "cell_type": "markdown",
   "metadata": {},
   "source": [
    "## 용어 정리\n",
    "- cross product: quadratic form 에서 다른 항의 곱으로 표현된 term\n",
    "    - e.g. ${x}_1{x}_2$"
   ]
  },
  {
   "cell_type": "markdown",
   "metadata": {},
   "source": [
    "## Summary\n",
    "\n",
    "#### Quadratic Form\n",
    "${x}^Tx = {x}_1^2 + {x}_2^2 + \\dots + {x}_n^2$ (다항식의 모든 항의 차수가 2차)\n",
    "- $Q(x) = {x}^{T}Ax$, A is n x n **symmetric** matrix, A: the matrix of the quadratic form\n",
    "\n",
    "#### Change of Variable in a Quadratic Form (cross product를 없애는 방법)\n",
    "$x = Py$ $\\to$ $y = {P}^{-1}x$, $P$ is n x n invertible matrix (P = \\[${b}_1 {b}_2 \\dots {b}_n$\\])\n",
    "- $x = {y}_1{b}_1 + {y}_2{b}_2 + \\dots + {y}_n{b}_n$, y is the **coordinate vector** of x relative to the basis of $\\mathbb{R}^n$ determined by the columns of $P$\n",
    "- A is symmetric matrix ($A = PD{P}^T = PD{P}^{-1}$) $\\Longleftrightarrow$ A is orthogonally diagonalizable (${P}^TAP = D$)\n",
    "- ${x}^TAx = {(Py)}^TA{(Py)} = {y}^T{P}^TAPy = {y}^T({P}^TAP)y$ (${P}^TAP$: diagonal matrix) $\\Longrightarrow$ no cross-product terms\n",
    "\n",
    "### Theorem 4. The Principal Axes Theorem\n",
    "A를 symmetric matrix라고 하자, **$x = Py$** orthogonal change of variable은 quadratic form ${x}^TAx$ 를 cross-product term이 없는 quadratic form ${y}^TDy$로 변환시켜준다.\n",
    "- **columns of $P$** 를 **principal axes**라고 한다.\n",
    "\n",
    "#### Classifying Quadratic Forms\n",
    "$Q(x) = {x}^TAx$ is a real-valued function with domain $\\mathbb{R}^n$\n",
    "- **positive define** if $Q(x) > 0$ for all $x \\neq 0$\n",
    "- **negative define** if $Q(x) < 0$ for all $x \\neq 0$\n",
    "- **indefine** if $Q(x)$ assumes both positive and negative values\n",
    "- **positive semidefine** if $Q(x) \\ge 0$ for all x\n",
    "- **negative semidefine** if $Q(x) \\le 0$ for all x\n",
    "\n",
    "\n",
    "### Theorem 5. Quadratic Forms and Eigenvalues\n",
    "Let A be an n x n symmetric matrix. Then a quadratic form ${x}^TAx$ is:\n",
    "- a. **positive definite** $\\Longleftrightarrow$ the eigenvalues of A are all positive\n",
    "- b. **negative definite** $\\Longleftrightarrow$ the eigenvalues of A are all negative\n",
    "- c. **indefinite** $\\Longleftrightarrow$ A has both positive and negative eigenvalues"
   ]
  },
  {
   "cell_type": "markdown",
   "metadata": {},
   "source": [
    "# 6.3 Constrained Optimization"
   ]
  },
  {
   "cell_type": "markdown",
   "metadata": {},
   "source": [
    "## 용어 정리"
   ]
  },
  {
   "cell_type": "markdown",
   "metadata": {},
   "source": [
    "## Summary\n",
    "\n",
    "#### $Q(x) = {x}^TAx$ constraint (제약 조건) 하에서 min, max 찾기\n",
    "- constraint: $x^Tx = {x}_1^2 + {x}_2^2 + \\dots + {x}_1^n = 1$\n",
    "\n",
    "$\\Longrightarrow$ $Q(x)$의 coefficient의 가장 큰 값이 maximum\n",
    "\n",
    "### Theorem 6.\n",
    "Let A be a symmetric matrix\n",
    "- M is the greatest eigenvalue ${\\lambda}_1$ of $A$ and m is the least eigenvalue of $A$\n",
    "- The value of ${x}^TAx$ is is $M$ when x is a unit eigenvector ${u}_1$ corresponding to $M$\n",
    "- The value of ${x}^TAx$ is m when x is a unit eigenvector corresponding to $m$\n",
    "\n",
    "### Theorem 7.\n",
    "Let A, ${\\lambda}_1$ and ${u}_1$이 각각 최대 eigenvalue, eigenvector일때, Then the maximum value of ${x}^TAx$ subject to the constraints, ${x}^Tx = 1$, ${x}^T{u}_1 = 0$ is 두번째로 큰 eigenvalue, ${\\lambda}_2$이고 this maximum is attained when $x$ is an eigenvector ${u}_2$ corresponding to ${\\lambda_2}$\n",
    "\n",
    "### Theorem 8.\n",
    "Theorem6, 7과 같이 제약조건이 ${x}^Tx = 1, {x}^T{u}_1 = 0, ..., {x}^T{u}_{k-1} = 0$일때, eigenvalue ${\\lambda}_k$는 최대값을 갖고, 최대값의 발생 위치는 $x = {u}_k$이다.\n",
    "\n",
    "\n",
    "#### The Singular Values of an m x n Matrix\n",
    "Let A be an m x n matrix\n",
    "- ${A}^TA is a n x n symmetrix matrix\n",
    "- ${A}^TA is orthogonally diagonalizable\n",
    "- \\{${v}_1,..., {v}_n$\\} is orthonormal basis for $\\mathbb{R}^n$, consisting of eigenvectors of ${A}^TA$\n",
    "- ${\\lambda}_1,...,{\\lambda}_n$ be the associated eigenvalues of ${A}^TA$\n",
    "- ${\\left\\lVert{Av}_i\\right\\rVert}^2$ = $({Av}_i^T)({Av}_i)$ = ${v}_i^T{A}^T{Av}_i$ = ${v}_i^T{\\lambda}_i{v}_i = {\\lambda_i}$ nonnegative!\n",
    "- ${\\lambda}_1 \\ge {\\lambda}_2 \\ge \\dots \\ge {\\lambda}_n \\ge 0$\n",
    "- The **singular values of $A$ are the square roots of the eigenvalues of ${A}^TA$ : ${\\sigma}_i = \\sqrt{{\\lambda}_i}$\n",
    "\n",
    "### Theorem 9.\n",
    "Let $\\{{v}_1,...,{v}_n\\}$ is **orthonormal** basis of $\\mathbb{R}^n$ consisting of eigenvectors of ${A}^TA$, ${A}^TA$의 eigenvalues는 ${\\lambda}_1 \\ge {\\lambda}_2 \\ge \\dots \\ge {\\lambda}_n \\ge 0$을 만족하고 $A$ has $r$ nonzero singular values. Then $\\{A{v}_1,...,A{v}_r\\}$ is an orthogonal basis for $Col A$, and rank $A$ = $r$ \n",
    "\n",
    "### Theorem 10. The Singular value Decomposition  (SVD)\n",
    "Let $A$ be an m x n matrix with rank $r$\n",
    "Then there exists an m x m matrix $\\sum$ as in for which the diagonal entries in $D$ are the first $r$ singular values of $A$, ${\\sigma}_1 \\ge {\\sigma}_2 \\ge \\dots \\ge {\\sigma}_r > 0$, and there exist an m x m orthogonal matrix $U$ and an n x n orthogonal matrix $V$ such that $A = U\\sum$ ${V}^T$\n",
    "- columns of $U$: left singular vectors of $A$\n",
    "- columns of $V$: right singular vectors of $A$\n",
    "\n",
    "#### Bases for Fundamental Subspaces\n",
    "Row $A$ 와 $Nul A$는 orthogonal, Col $A$ (Row ${A}^T$)는 Nul ${A}^T$와 orthogonal하다.\n",
    "\n",
    "### Theorem. The Invertible Matrix Theorem (concluded)\n",
    "Let $A$ be an n x n invertible matrix. THen the following statments are quivalent.\n",
    "- u. ${(Col A)}^{\\bot} = \\{0\\}$\n",
    "- v. ${(Nul A)}^{\\bot} = \\mathbb{R}^n$\n",
    "- w. $Row A$ = $\\mathbb{R}^n$\n",
    "- x. $A$ has $n$ nonzero singular values.\n",
    "\n",
    "#### Reduced SVD\n",
    "- $A = U\\sum{V}^T$\n",
    "- $A = {U}_rD{V}_r^T$\n",
    "- SVD에서 했던 것 처럼 확장을 할 필요가 없다.\n",
    "\n",
    "#### Pseudoinverse (the Moore-Penrose Inverse)\n",
    "- $A = {U}_rD{V}_r^T$\n",
    "- ${A}^{+} = {V}_r{D}^{-1}{U}_r^T$\n",
    "- $Ax = b$\n",
    "- $\\hat{x} = {A}^{+}b = {V}_r{D}^{-1}{U}_r^Tb$\n",
    "- $A\\hat{x} = {U}_rD{V}_r^T{V}_r{D}^{-1}{U}_r^Tb$ = ${U}_r{U}_r^Tb = \\hat{b}$\n",
    "- **orthogonal projection of b onto col A**\n",
    "$\\Longrightarrow$ $\\hat{x}$ is a least-squares solution of $Ax = b$!"
   ]
  },
  {
   "cell_type": "code",
   "execution_count": null,
   "metadata": {},
   "outputs": [],
   "source": [
    "111"
   ]
  }
 ],
 "metadata": {
  "kernelspec": {
   "display_name": "Python 3",
   "language": "python",
   "name": "python3"
  },
  "language_info": {
   "codemirror_mode": {
    "name": "ipython",
    "version": 3
   },
   "file_extension": ".py",
   "mimetype": "text/x-python",
   "name": "python",
   "nbconvert_exporter": "python",
   "pygments_lexer": "ipython3",
   "version": "3.7.6"
  }
 },
 "nbformat": 4,
 "nbformat_minor": 4
}
