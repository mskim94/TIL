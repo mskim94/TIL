{
 "cells": [
  {
   "cell_type": "markdown",
   "metadata": {},
   "source": [
    "# Eigenvectors and eigenvalues"
   ]
  },
  {
   "cell_type": "markdown",
   "metadata": {},
   "source": [
    "## 용어 정리\n",
    "- EigenVector: n x n Matrix A의 eigenvector는 $Ax = \\lambda x$를 만족하는 **nonzero vector** x\n",
    "- +) EigenVetor(고유벡터): A를 선형변환으로 보았을 때, 선형변환에 의해 변환 결과가 자기 자신의 상수배가 되는 0이 아닌 vector.\n",
    "\n",
    "- EigenValue: $Ax = \\lambda x$의 만족하는 nontrivial solution x 에서 scalar $\\lambda$\n",
    "- +) EigenValue(고유값): 상수배의 값을 Eigenvalue라고 한다.\n",
    "\n",
    "* Eigenvector는 nonzero vector이지만(정의), eigenvalue는 0이 되어도 된다.\n",
    "\n",
    "- Eigenspace: $\\lambda$가 "
   ]
  },
  {
   "cell_type": "markdown",
   "metadata": {},
   "source": [
    "# Summary\n"
   ]
  },
  {
   "cell_type": "code",
   "execution_count": null,
   "metadata": {},
   "outputs": [],
   "source": []
  }
 ],
 "metadata": {
  "kernelspec": {
   "display_name": "Python 3",
   "language": "python",
   "name": "python3"
  },
  "language_info": {
   "codemirror_mode": {
    "name": "ipython",
    "version": 3
   },
   "file_extension": ".py",
   "mimetype": "text/x-python",
   "name": "python",
   "nbconvert_exporter": "python",
   "pygments_lexer": "ipython3",
   "version": "3.7.6"
  }
 },
 "nbformat": 4,
 "nbformat_minor": 4
}
