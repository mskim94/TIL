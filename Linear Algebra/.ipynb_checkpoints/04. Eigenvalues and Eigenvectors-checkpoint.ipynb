{
 "cells": [
  {
   "cell_type": "markdown",
   "metadata": {},
   "source": [
    "# 4.1 Eigenvectors and eigenvalues"
   ]
  },
  {
   "cell_type": "markdown",
   "metadata": {},
   "source": [
    "## 용어 정리\n",
    "- EigenVector: n x n Matrix A의 eigenvector는 $Ax = \\lambda x$를 만족하는 **nonzero vector** x\n",
    "- +) EigenVetor(고유벡터): A를 선형변환으로 보았을 때, 선형변환에 의해 변환 결과가 자기 자신의 상수배가 되는 0이 아닌 vector.\n",
    "\n",
    "- EigenValue: $Ax = \\lambda x$의 만족하는 nontrivial solution x 에서 scalar $\\lambda$\n",
    "- +) EigenValue(고유값): 상수배의 값을 Eigenvalue라고 한다.\n",
    "\n",
    "* Eigenvector는 nonzero vector이지만(정의), eigenvalue는 0이 되어도 된다.\n",
    "\n",
    "- Eigenspace: $\\lambda$에 해당하는 A의 Eigenspace는 matrix $A - \\lambda I$의 null space이다.\n",
    "- +) zero vector + eigen vector corresponding to $\\lambda$ \n",
    "- +) Zero vector는 eigen vector를 포함하지 않지만, eigen space에는 포함된다.\n"
   ]
  },
  {
   "cell_type": "markdown",
   "metadata": {},
   "source": [
    "## Summary\n",
    "\n",
    "### Theorem 1.\n",
    "**triangular** matrix의 eigenvalue는 diagonal의 entries이다.\n",
    "- $(A - \\lambda I) = 0$ has a nontrivial solution $\\Longleftrightarrow$ the equation has a free variable(not invitible)\n",
    "\n",
    "- $\\lambda$ is an eigenvalue of ${A}^{T}$ $\\Longleftrightarrow$ $\\lambda$ is an eigenvalue of $A$\n",
    "- 0 is an eigenvalue of $A$ $\\Longleftrightarrow$ A is **not invertible**\n",
    "\n",
    "### Theorem 2.\n",
    "If n x n matrix A의 **distinct** eigenvalues ${\\lambda}_1,..., {\\lambda}_r$에 해당하는 eigenvector가 ${v}_1,...,{v}_r$, the set {${v}_1,...,{v}_r$} is **linearly independent**이다."
   ]
  },
  {
   "cell_type": "markdown",
   "metadata": {},
   "source": [
    "# 4.2 The Characteristic Equation"
   ]
  },
  {
   "cell_type": "markdown",
   "metadata": {},
   "source": [
    "## 용어 정리\n",
    "- characteristic equation: det($A - \\lambda I$) = 0"
   ]
  },
  {
   "cell_type": "markdown",
   "metadata": {},
   "source": [
    "## Summary\n",
    "\n",
    "#### The Characteristic Equation\n",
    "$\\lambda$ is an eigenvalue of an n x n matrix A $\\Longleftrightarrow$ $\\lambda$ satisfies the characteristic equation det($A - \\lambda I$) = 0\n",
    "\n",
    "#### Similarity\n",
    "A and B가 n x n matrices이고 A와 B가 **similar**면, invertible matrix $P$는 ${P}^{-1}AP = B$ or $A = PB{P}^{-1}$ 만족한다.\n",
    "\n",
    "### Theorem 3.\n",
    "If n x n matrices A and B가 **similar**, A and B는 **same** **characteristic polynomial**을 갖고, **same eigenvalue**를 갖는다.\n",
    "\n",
    "#### $QR$ Algorithm (not in detail)\n",
    "- If A = $QR$ with Q invertible, then A is similar to ${A}_1 = RQ$\n",
    "    - $R = {Q}^{-1}A$ ${A}_1 = {Q}^{-1}AQ$\n",
    "    - ${Q}^{-1} = {Q}^T$, R = upper triangular\n",
    "- $A = {Q}_1{R}_1, {A}_1 = {R}_1{Q}_1$ $\\to$ ${A}_1 = {Q}_2{R}_2, {A}_2 = {R}_2{Q}_2$ $\\to$ ... \n",
    "${A}_k는 triangular matrix로 수렴한다. 특정 조건이 필요하다."
   ]
  },
  {
   "cell_type": "code",
   "execution_count": null,
   "metadata": {},
   "outputs": [],
   "source": []
  }
 ],
 "metadata": {
  "kernelspec": {
   "display_name": "Python 3",
   "language": "python",
   "name": "python3"
  },
  "language_info": {
   "codemirror_mode": {
    "name": "ipython",
    "version": 3
   },
   "file_extension": ".py",
   "mimetype": "text/x-python",
   "name": "python",
   "nbconvert_exporter": "python",
   "pygments_lexer": "ipython3",
   "version": "3.8.5"
  }
 },
 "nbformat": 4,
 "nbformat_minor": 4
}
