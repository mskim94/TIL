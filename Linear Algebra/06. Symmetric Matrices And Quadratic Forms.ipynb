{
 "cells": [
  {
   "cell_type": "markdown",
   "metadata": {},
   "source": [
    "# 6.1 Diagonalization of Symmetric Matrices"
   ]
  },
  {
   "cell_type": "markdown",
   "metadata": {},
   "source": [
    "## 용어 정리\n",
    "- symmetric matrix: ${A}^T = A$ 만족하는 matrix\n",
    "- Diagonalization: 대각화\n",
    "    - A is said to be **diagonalizable** $\\to$ $A = PD{P}^{-1}$\n",
    "    \n",
    "- spectrum(eigenvalue)"
   ]
  },
  {
   "cell_type": "markdown",
   "metadata": {},
   "source": [
    "## Summary\n",
    "\n",
    "### Theorem 1.\n",
    "If $A$ is **symmetric**, 두 eigenvectors from different eigenspaces are **orthogonal**\n",
    "\n",
    "\n",
    "#### Orthognally Diagonalizable\n",
    "A is said to be orthogonally diagonalizable, if there are an orthogonal matrix P with ${P}^{-1} = {P}^{T}$ and a diagonal matrix D such that $A = PD{P}^T = PD{P}^{-1}$\n",
    "\n",
    "### Theorem 2.\n",
    "n x n matrix A is **orthogonally diagonalizable** $\\Longleftrightarrow$ A is a **symmetric**\n",
    "\n",
    "#### Steps: Orthogonally Diagonalization\n",
    "1. Check if $A^T = A$ (symmetric matrix 확인)\n",
    "2. Calculate **eigenspaces** for distinct eigenvalues\n",
    "3. Find **orthogonal basis** for each eigenspace by the **Gram-Schmidt** process\n",
    "4. Obtain **orthonormal basis** by **normalization**\n",
    "5. Construct $P$ and $D$\n",
    "\n",
    "### Theorem 3. The Spectral Theorem for Symmetric Matrices\n",
    "n x n **symmetric** matrix $A$ has the following properties\n",
    "- a. A has **n real eigenvalues**, counting multiplicities\n",
    "- b. The **dimension of the eigenspace** for each eigenvalue $\\lambda$ equals the multiplicity of $\\lambda$\n",
    "- c. **Eigenvectors** corresponding to **different eigenvalues** are **orthogonal**\n",
    "- d. A is orthogonally diagonalizable\n",
    "\n",
    "\n",
    "#### Spectral Decomposition\n",
    "A가 orthogonally diagonalizable하다고 가정하자, A를 Spectral Decomposition 하면, $A = {\\lambda}_1{u}_1{u}_1^T + {\\lambda}_2{u}_2{u}_2^T + \\dots + {\\lambda}_n{u}_n{u}_n^T$\n",
    "\n",
    "\n",
    "#### $A$ is a symmetric $\\to$ ${A}^2$ is symmetric\n",
    "#### $A$ is a orthogonally diagonalizable $\\to$ ${A}^2$ is orthogonally diagonalizable"
   ]
  },
  {
   "cell_type": "markdown",
   "metadata": {},
   "source": [
    "# 6.2 Quadratic Forms"
   ]
  },
  {
   "cell_type": "markdown",
   "metadata": {},
   "source": [
    "## 용어 정리\n",
    "- cross product: quadratic form 에서 다른 항의 곱으로 표현된 term\n",
    "    - e.g. ${x}_1{x}_2$"
   ]
  },
  {
   "cell_type": "markdown",
   "metadata": {},
   "source": [
    "## Summary\n",
    "\n",
    "#### Quadratic Form\n",
    "${x}^Tx = {x}_1^2 + {x}_2^2 + \\dots + {x}_n^2$ (다항식의 모든 항의 차수가 2차)\n",
    "- $Q(x) = {x}^{T}Ax$, A is n x n **symmetric** matrix, A: the matrix of the quadratic form"
   ]
  },
  {
   "cell_type": "code",
   "execution_count": null,
   "metadata": {},
   "outputs": [],
   "source": []
  }
 ],
 "metadata": {
  "kernelspec": {
   "display_name": "Python 3",
   "language": "python",
   "name": "python3"
  },
  "language_info": {
   "codemirror_mode": {
    "name": "ipython",
    "version": 3
   },
   "file_extension": ".py",
   "mimetype": "text/x-python",
   "name": "python",
   "nbconvert_exporter": "python",
   "pygments_lexer": "ipython3",
   "version": "3.8.5"
  }
 },
 "nbformat": 4,
 "nbformat_minor": 4
}
