{
 "cells": [
  {
   "cell_type": "markdown",
   "metadata": {},
   "source": [
    "# 4.1 Eigenvectors and eigenvalues"
   ]
  },
  {
   "cell_type": "markdown",
   "metadata": {},
   "source": [
    "## 용어 정리\n",
    "- EigenVector: n x n Matrix A의 eigenvector는 $Ax = \\lambda x$를 만족하는 **nonzero vector** x\n",
    "- +) EigenVetor(고유벡터): A를 선형변환으로 보았을 때, 선형변환에 의해 변환 결과가 자기 자신의 상수배가 되는 0이 아닌 vector.\n",
    "- +)즉, A를 선형변환으로 보았을때 방향은 변하지 않고 크기만 변환되는 벡터\n",
    "\n",
    "- EigenValue: $Ax = \\lambda x$의 만족하는 nontrivial solution x 에서 scalar $\\lambda$\n",
    "- +) EigenValue(고유값): 상수배의 값을 Eigenvalue라고 한다.\n",
    "- +) 변환 크기\n",
    "\n",
    "* Eigenvector는 nonzero vector이지만(정의), eigenvalue는 0이 되어도 된다.\n",
    "\n",
    "- Eigenspace: $\\lambda$에 해당하는 A의 Eigenspace는 matrix $A - \\lambda I$의 null space이다.\n",
    "- +) zero vector + eigen vector corresponding to $\\lambda$ \n",
    "- +) Zero vector는 eigen vector를 포함하지 않지만, eigen space에는 포함된다.\n"
   ]
  },
  {
   "cell_type": "markdown",
   "metadata": {},
   "source": [
    "## Summary\n",
    "\n",
    "### Theorem 1.\n",
    "**triangular** matrix의 eigenvalue는 diagonal의 entries이다.\n",
    "- $(A - \\lambda I) = 0$ has a nontrivial solution $\\Longleftrightarrow$ the equation has a free variable(not invitible)\n",
    "\n",
    "- $\\lambda$ is an eigenvalue of ${A}^{T}$ $\\Longleftrightarrow$ $\\lambda$ is an eigenvalue of $A$\n",
    "- 0 is an eigenvalue of $A$ $\\Longleftrightarrow$ A is **not invertible**\n",
    "\n",
    "### Theorem 2.\n",
    "If n x n matrix A의 **distinct** eigenvalues ${\\lambda}_1,..., {\\lambda}_r$에 해당하는 eigenvector가 ${v}_1,...,{v}_r$, the set {${v}_1,...,{v}_r$} is **linearly independent**이다."
   ]
  },
  {
   "cell_type": "markdown",
   "metadata": {},
   "source": [
    "# 4.2 The Characteristic Equation"
   ]
  },
  {
   "cell_type": "markdown",
   "metadata": {},
   "source": [
    "## 용어 정리\n",
    "- characteristic equation: det($A - \\lambda I$) = 0"
   ]
  },
  {
   "cell_type": "markdown",
   "metadata": {},
   "source": [
    "## Summary\n",
    "\n",
    "#### The Characteristic Equation\n",
    "$\\lambda$ is an eigenvalue of an n x n matrix A $\\Longleftrightarrow$ $\\lambda$ satisfies the characteristic equation det($A - \\lambda I$) = 0\n",
    "\n",
    "#### Similarity\n",
    "A and B가 n x n matrices이고 A와 B가 **similar**면, invertible matrix $P$는 ${P}^{-1}AP = B$ or $A = PB{P}^{-1}$ 만족한다.\n",
    "\n",
    "### Theorem 3.\n",
    "If n x n matrices A and B가 **similar**, A and B는 **same** **characteristic polynomial**을 갖고, **same eigenvalue**를 갖는다.\n",
    "\n",
    "#### $QR$ Algorithm (not in detail)\n",
    "- If A = $QR$ with Q invertible, then A is similar to ${A}_1 = RQ$\n",
    "    - $R = {Q}^{-1}A$ ${A}_1 = {Q}^{-1}AQ$\n",
    "    - ${Q}^{-1} = {Q}^T$, R = upper triangular\n",
    "- $A = {Q}_1{R}_1, {A}_1 = {R}_1{Q}_1$ $\\to$ ${A}_1 = {Q}_2{R}_2, {A}_2 = {R}_2{Q}_2$ $\\to$ ... \n",
    "${A}_k는 triangular matrix로 수렴한다. 특정 조건이 필요하다."
   ]
  },
  {
   "cell_type": "markdown",
   "metadata": {},
   "source": [
    "# 4.3 Diagonalization"
   ]
  },
  {
   "cell_type": "markdown",
   "metadata": {},
   "source": [
    "## 용어 정리"
   ]
  },
  {
   "cell_type": "markdown",
   "metadata": {},
   "source": [
    "## Summary\n",
    "\n",
    "#### Diagonalization\n",
    "A가 diagonal matrix에 similar, 즉, $A = PD{P}^{-1}$이면, square matrix A는 diagonalizable하다고 한다.\n",
    "- ${A}^2 = PD{P}^{-1}PD{P}^{-1}$ $\\to$ ${A}^2 = P{D}^2{P}^{-1}$ ... ${A}^{k} = P{D}^{k}{P}^{-1}$\n",
    "\n",
    "### Theorem 4. The Diagonalization Theorem\n",
    "- n x n matrix A가 diagonalizable $\\Longleftrightarrow$ A는 n개의 linearly independent eigenvectors를 갖는다.\n",
    "- $A = PD{P}^{-1}$ with D a diagonal matrix $\\Longleftrightarrow$ P의 columns는 A의 **n개의 linearly independent eigenvectors**\n",
    "\n",
    "- $A = PD{P}^{-1}$ $\\Longrightarrow$ A has n linearly indepedent eigenvectors **eigenvalues no need to be distinct**\n",
    "\n",
    "#### How to Diagonalization\n",
    "- 1. Find eigenvalues: det($A - \\lambda I$) = 0\n",
    "- 2. Find a basis for each eigenspace ($A - \\lambda I$)x = 0\n",
    "- 3. Check if there are **n independent eigenvectors**\n",
    "- 4. Construct P and D\n",
    "- +) P는 eigen vector들로 구성된 matrix, D는 대각선 entry들이 eigenvalue로 된 matrix\n",
    "\n",
    "- n x n matrix A는 n개의 basis eigenvector가 필요 만약 없다면 diagonalization 불가능\n",
    "\n",
    "### Theorem 5.\n",
    "An n x n matrix with n **distinct eigenvalues** is **diagonalizable**\n",
    "- n개의 다른 eigenvalue 있다 $\\to$ n개의 linear independent한 다른 eigenvector가 있다.\n",
    "\n",
    "\n",
    "### Theorem 6.\n",
    "**distinct** eigenvalues ${\\lambda}_1, {\\lambda}_2,...,{\\lambda}_p$라 하면\n",
    "- a. For 1 $\\leq$ $k$ $\\leq$ p, ${\\lambda}_k$의 eigenspace의 dimension은 ${\\lambda}_k$ eigenvalue의 multiplicity와 같거나 작다.\n",
    "- b. distintct eigenspace의 차수의 합이 n과 같을때 matrix A는 diagonalizable 하고 각 ${\\lambda}_k$에 대한 eigenspace의 dimension은 ${\\lambda}_k$의 multiplicity와 같다."
   ]
  },
  {
   "cell_type": "markdown",
   "metadata": {},
   "source": [
    "# 4.4 Eigenvectors and Linear Transformation"
   ]
  },
  {
   "cell_type": "markdown",
   "metadata": {},
   "source": [
    "## 용어 정리"
   ]
  },
  {
   "cell_type": "markdown",
   "metadata": {},
   "source": [
    "# Summary\n",
    "\n",
    "#### The Matrix of a Linear Transformation (다른 dimension으로의 Transformation)\n",
    "vector x in V ($\\mathbb{R}^n$) ${T}: \\Longrightarrow$ image $T(x)$ in $W$ ($\\mathbb{R}^m$)\n",
    "- x를 coordinate 시켜 [${x}]_{B}$, image $T(x)$를 coordinate 시켜 [$T(x)]_{C}$ 이면 둘 사이의 Transformation은 어떤 관계가 있을까?\n",
    "    - 그 관계를 $M$이라고 하고 matrix for $T$ relative to the bases $B$ and $C$\n",
    "    \n",
    "\n",
    "#### Linear Transformation from V into V (같은 vectorspace에서 Linear Transformation)\n",
    "$\\begin{matrix}\n",
    "x & \\rightarrow^{T} & T(x) \\\\\n",
    "\\downarrow & \\, & \\uparrow \\\\\n",
    "[x]_{B} & \\rightarrow^[T]_{B} & [T(x)]_{B} \\\\\n",
    "\\end{matrix}$ $[T]_{B}$: matrix for T relative to the bases $B$ or $B$-matrix for $T$\n",
    "\n",
    "- 활용: Linear Transformation T를 통해 변환된 image를 구할때 각각의 vector를 coordinate하여 $[T]_{B}$를 통해 image를 구해 다시 원 image를 구할수 있다.\n",
    "\n",
    "### Theorem 7. Diagonal Matrix Representation(Linear Transformation on $\\mathbb{R}^{n}$)\n",
    "$A = PD{P}^{-1}$라 가정하고 $D$는 diagonal n x n matrix이다. If $B$가 P의 columns로 부터 형성된 $\\mathbb{R}^{n}$에 대한 basis면, $D$는 t0ransformation $x \\mapsto Ax$에 대한 $B$-matrix이다.\n",
    "\n",
    "#### Similarity of Matrix Representations\n",
    "- $A = PD{P}^{-1}$\n",
    "- $A = PC{P}^{-1}$\n",
    "\n",
    "A와 C와 similar한 관계에 있으면 A의 $B$-matrix는 C이다.\n",
    "- $\\begin{matrix}\n",
    "x & \\rightarrow^{A} & T(x) \\\\\n",
    "P^{-1}\\downarrow & \\, & \\uparrow P \\\\\n",
    "u & \\rightarrow^[C] & Cu \\\\\n",
    "\\end{matrix}$"
   ]
  },
  {
   "cell_type": "markdown",
   "metadata": {},
   "source": [
    "# 4.5 Complex Eigenvalues"
   ]
  },
  {
   "cell_type": "markdown",
   "metadata": {},
   "source": [
    "## 용어 정리\n",
    "- complex eigenvalue: 허수인 eigenvalue"
   ]
  },
  {
   "cell_type": "markdown",
   "metadata": {},
   "source": [
    "## Summary\n",
    "\n",
    "#### Matrix Eigenvalue-Eigenvector Theory for $\\mathbb{C}^{n}$\n",
    "complex scalar $\\lambda$가 det($A -\\lambda I$) = 0을 만족한다. $\\Longleftrightarrow$ $Ax = \\lambda x$를 만족하는 **nonzero** vector x가 $\\mathbb{C}^{n}$에 있다.\n",
    "\n",
    "#### Eigenvalues and Eigenvectors of a Real Matrix That Acts on $\\mathbb{C}^{n}$\n",
    "When $A$ is real, its **complex eigenvalues** occur in **conjugate pairs**\n",
    "\n",
    "- P를 [Re V, Im v]로 잡으면 A와 Similar한 C는 $\\begin{bmatrix}\n",
    "                                               a & -b \\\\\n",
    "                                               b & a \\\\\n",
    "                                               \\end{bmatrix}$ 형태로 나옴\n",
    "- e.g.\n",
    "$A = \\begin{bmatrix}\n",
    "      -0.5 & -0.6 \\\\\n",
    "      0.75 & 1.1 \\\\\n",
    "      \\end{bmatrix}$, ${\\lambda}_{1} = 0.8 - 0.6i$, ${v}_1 = \\begin{bmatrix}\n",
    "                                                              -2-4i \\\\\n",
    "                                                              5 \\\\\n",
    "                                                              \\end{bmatrix}$\n",
    "    - $P = [Re {v}_1 Im{v}_1]$ = $\\begin{bmatrix}\n",
    "                               -2 & -4 \\\\\n",
    "                               5 & 0 \\\\\n",
    "                               \\end{bmatrix}$\n",
    "    - $C = {P}^{-1}AP$ = $\\begin{bmatrix}\n",
    "                           0.8 & -0.6 \\\\\n",
    "                           0.6 & 0.8 \\\\\n",
    "                           \\end{bmatrix}$\n",
    "                           \n",
    "### Theorem 8.\n",
    "Let A be a real 2 x 2 matrix with a complex eigenvalues $\\lambda = a - bi(b \\neq 0)$ and an associated eigenvector $v$ in $\\mathbb{C}^{n}$,\n",
    "- $A = PC{P}^{-1}$ \n",
    "- $P = [Re v Im V]$ \n",
    "- $C = \\begin{bmatrix}\n",
    "      a & -b \\\\\n",
    "      b & a \\\\\n",
    "      \\end{bmatrix}$"
   ]
  },
  {
   "cell_type": "code",
   "execution_count": null,
   "metadata": {},
   "outputs": [],
   "source": []
  }
 ],
 "metadata": {
  "kernelspec": {
   "display_name": "Python 3",
   "language": "python",
   "name": "python3"
  },
  "language_info": {
   "codemirror_mode": {
    "name": "ipython",
    "version": 3
   },
   "file_extension": ".py",
   "mimetype": "text/x-python",
   "name": "python",
   "nbconvert_exporter": "python",
   "pygments_lexer": "ipython3",
   "version": "3.7.6"
  }
 },
 "nbformat": 4,
 "nbformat_minor": 4
}
