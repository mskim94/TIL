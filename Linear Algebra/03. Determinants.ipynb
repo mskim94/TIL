{
 "cells": [
  {
   "cell_type": "markdown",
   "metadata": {},
   "source": [
    "# 3.1 Introduction to Determinants"
   ]
  },
  {
   "cell_type": "markdown",
   "metadata": {},
   "source": [
    "## 용어 정리\n",
    "\n",
    "- Determinants: \n",
    "    - e.g.\n",
    "        - $A = \\begin{bmatrix}\n",
    "                {a}_{11} & {a}_{12} \\\\\n",
    "                {a}_{21} & {a}_{22} \\\\\n",
    "                \\end{bmatrix}$\n",
    "        - $detA = {a}_{11}{a}_{22} - {a}_{12}{a}_{21}$\n",
    "    - invertible $\\leftrightarrow$ its determinant is **nonzero**\n",
    "   "
   ]
  },
  {
   "cell_type": "markdown",
   "metadata": {},
   "source": [
    "## Summary\n",
    "\n",
    "#### Determinant of 2 x 2 Matrix\n",
    "- $A = \\begin{bmatrix}\n",
    "        {a}_{11} & {a}_{12} \\\\\n",
    "        {a}_{21} & {a}_{22} \\\\\n",
    "        \\end{bmatrix}$\n",
    "- $detA = {a}_{11}{a}_{22} - {a}_{12}{a}_{21}$\n",
    "\n",
    "\n",
    "#### Determinant of 3 x 3 Matrix\n",
    "\n",
    "- $A = \\begin{bmatrix}\n",
    "        {a}_{11} & {a}_{12} & {a}_{13}\\\\\n",
    "        {a}_{21} & {a}_{22} & {a}_{23}\\\\\n",
    "        {a}_{31} & {a}_{32} & {a}_{33}\\\\\n",
    "        \\end{bmatrix}$ (${a}_{11} \\neq 0$)~ $\\begin{bmatrix}\n",
    "        {a}_{11} & {a}_{12} & {a}_{13}\\\\\n",
    "        {a}_{11}{a}_{21} & {a}_{11}{a}_{22} & {a}_{11}{a}_{23}\\\\\n",
    "        {a}_{11}{a}_{31} & {a}_{11}{a}_{32} & {a}_{11}{a}_{33}\\\\\n",
    "        \\end{bmatrix}$ : 2nd row x ${a}_{11}$, 3rd row x ${a}_{11}$ \n",
    "- ~ $\\begin{bmatrix}\n",
    "        {a}_{11} & {a}_{12} & {a}_{13}\\\\\n",
    "        0 & {a}_{11}{a}_{22} - {a}_{12}{a}_{21} & {a}_{11}{a}_{23} - {a}_{13}{a}_{21}\\\\\n",
    "        0 & {a}_{11}{a}_{32} - {a}_{12}{a}_{31}& {a}_{11}{a}_{33} - {a}_{13}{a}_{31}\\\\        \n",
    "        \\end{bmatrix}$ : 2nd row - ${a}_{21}$ x 1st row, 3rd row - ${a}_{31}$ x 1st row\n",
    "\n",
    "- ~ $\\begin{bmatrix}\n",
    "        {a}_{11} & {a}_{12} & {a}_{13}\\\\\n",
    "        0 & {a}_{11}{a}_{22} - {a}_{12}{a}_{21} & {a}_{11}{a}_{23} - {a}_{13}{a}_{21}\\\\\n",
    "        0 & {a}_{11}{a}_{32} - {a}_{12}{a}_{31}& {a}_{11}{a}_{33} - {a}_{13}{a}_{31}\\\\        \n",
    "        \\end{bmatrix}$ : 2nd row - ${a}_{21}$ x 1st row, 3rd row - ${a}_{31}$ x 1st row\n",
    "\n",
    "- ~ $\\begin{bmatrix}\n",
    "        {a}_{11} & {a}_{12} & {a}_{13}\\\\\n",
    "        0 & {a}_{11}{a}_{22} - {a}_{12}{a}_{21} & {a}_{11}{a}_{23} - {a}_{13}{a}_{21}\\\\\n",
    "        0 & 0 & {a}_{11}\\triangle \\\\        \n",
    "        \\end{bmatrix}$ : 3rd row x $({a}_{11}{a}_{22} - {a}_{12}{a}_{21})$ - 2nd row x $({a}_{11}{a}_{31} - {a}_{12}{a}_{31})$\n",
    "\n",
    "- ${a}_{11}\\triangle nonzero, {a}_{11} \\neq 0 \\to \\triangle \\neq 0$\n",
    "\n",
    "- $\\triangle = {a}_{11}{a}_{22}{a}_{33} + {a}_{12}{a}_{23}{a}_{31} + {a}_{13}{a}_{21}{a}_{32} - {a}_{11}{a}_{23}{a}_{33} - {a}_{12}{a}_{21}{a}_{33} - {a}_{13}{a}_{22}{a}_{31}$\n",
    "\n",
    "- $\\triangle = {a}_{11}det \\begin{bmatrix}\n",
    "        {a}_{22} & {a}_{23} \\\\\n",
    "        {a}_{32} & {a}_{33} \\\\\n",
    "        \\end{bmatrix} - {a}_{12} det \\begin{bmatrix}\n",
    "        {a}_{21} & {a}_{23} \\\\\n",
    "        {a}_{31} & {a}_{33} \\\\\n",
    "        \\end{bmatrix} + {a}_{13} det \\begin{bmatrix}\n",
    "        {a}_{21} & {a}_{22} \\\\\n",
    "        {a}_{31} & {a}_{32} \\\\\n",
    "        \\end{bmatrix}$\n",
    "        \n",
    "- $\\triangle = {a}_{11} det{A}_{11} - {a}_{12} det{A}_{12} + {a}_{13} det{A}_{13}$ (${A}_{11}$: 1st row, 1st column을 제외한 entry로 구성된 Matrix)\n",
    "\n",
    "#### Determinant\n",
    "$det A = {a}_{11} det{A}_{11} - {a}_{12} det{A}_{12} + ... + {(-1)^{1+n}}{a}_{1n}det{A}_{1n}$ = $\\sum\\limits_{j=1}\\limits^{n}{(-1)}^{1+j}{a}_{1j}det{A}_{1j}$\n",
    "\n",
    "\n",
    "#### Cofactor\n",
    "${C}_{ij} = {(-1)}^{i+j}det{A}_{ij} = {(-1)}^{i+j}\\left|{A}_{ij}\\right|$\n",
    "- Cofactor expansion: det $A$ = ${a}_{11}{C}_{11}$ + ${a}_{12}{C}_{12}$ + ...+ ${a}_{1n}{C}_{1n}$\n",
    "- Cofactor에는 부호까지 포함되어 있다.\n",
    "\n",
    "### Theorem 1.\n",
    "1st row로만 Cofactor expansion 전개가 가능한 것이 아니라, $i$th row, $j$th column으로도 가능하다. 결과는 모두 det $A$ ($\\left|A\\right|$)\n",
    "- $i$th row using the cofactors is det $A$ = ${a}_{i1}{C}_{i1} + {a}_{i2}{C}_{i2} + \\dots + {a}_{in}{C}_{in}$\n",
    "- $j$th column using the cofactors is det $A$ = ${a}_{1j}{C}_{1j} + {a}_{2j}{C}_{2j} + \\dots + {a}_{nj}{C}_{nj}$\n",
    "\n",
    "\n",
    "### Theorem 2.\n",
    "Matrix A가 triangular matrix라면. det $A$는 A의 diagonal entries의 곱이다."
   ]
  },
  {
   "cell_type": "markdown",
   "metadata": {},
   "source": [
    "# 3.2 Properties of Determinants"
   ]
  },
  {
   "cell_type": "markdown",
   "metadata": {},
   "source": [
    "## 용어 정리\n"
   ]
  },
  {
   "cell_type": "markdown",
   "metadata": {},
   "source": [
    "## Summary\n",
    "\n",
    "### Theorem 3. Row Operations\n",
    "Let A be a square matrix, \n",
    "- a. Matrix A에 replacement를 하여 Matrix B가 만들어지면, det $B$ = det $A$\n",
    "- b. Matrix A의 two rows가 interchange되어 Matrix B가 만들어지면, det $B$ = **-** det $A$\n",
    "- c. Matrix A에 $k$ multiplied 되어 Matrix B가 만들어지면, det $B$ = $k$ det $A$\n",
    "\n",
    "- a, b, c의 성질을 이용 Matrix 형태를 조작해 det를 편하게 구할 수 있다.\n",
    "\n",
    "### Theorem 4.\n",
    "A square matrix $A$ is invertible $\\Longleftrightarrow$ det $A \\neq 0$\n",
    "\n",
    "### Theorem 5.\n",
    "A가 n x n matrix라면, det ${A}^{T}$ = det $A$\n",
    "\n",
    "### Theorem 6.\n",
    "A and B가 n x n matrices라면, det $AB$ = det $A$ det $B$\n",
    "- det $(A + B)$ $\\neq$ det $A$ + det $B$ **in general**"
   ]
  },
  {
   "cell_type": "markdown",
   "metadata": {},
   "source": [
    "# 3.3 Cramer's Rule, Volume, and Linear Transformations"
   ]
  },
  {
   "cell_type": "markdown",
   "metadata": {},
   "source": [
    "## 용어 정리"
   ]
  },
  {
   "cell_type": "markdown",
   "metadata": {},
   "source": [
    "## Summary\n",
    "\n",
    "### Theorem 7. Cramer's Rule\n",
    "Let A be an invertible n x n matrix. $\\mathbb{R}^n$ 안의 어떤 $b$에 대해 $Ax = b$의 unique solution x는 ${x}_{i} = \\frac{det{A}_{i}(b)}{detA}$, $i$ = 1,2,..., n\n",
    "- (${A}_{i}(b)$: $i$번째 column을 b로 치환한 것)\n",
    "\n",
    "\n",
    "- e.g.\n",
    "- $3{x}_1 - 2{x}_2 = 6$\n",
    "- $-5{x}_1 + 4{x}_2 = 8$\n",
    "$A = \\begin{bmatrix}\n",
    "      3 & -2 \\\\\n",
    "      -5 & 4 \\\\\n",
    "      \\end{bmatrix}$,\n",
    "${A}_1(b) = \\begin{bmatrix}\n",
    "      6 & -2 \\\\\n",
    "      8 & 4 \\\\\n",
    "      \\end{bmatrix}$,\n",
    "${A}_1(b) = \\begin{bmatrix}\n",
    "      3 & 6 \\\\\n",
    "      -5 & 8 \\\\\n",
    "      \\end{bmatrix}$\n",
    "${x}_1 = \\frac{det{A}_1(b)}{detA}$ = $\\frac{24 + 16}{2} = 20$,\n",
    "${x}_2 = \\frac{det{A}_2(b)}{detA}$ = $\\frac{24 + 30}{2} = 27$\n",
    "\n",
    "**Matrix size가 커지면 비효율적**\n",
    "\n",
    "#### A Formula for ${A}^{-1}$\n",
    "$Ax = {e}_{j}, x = {A}^{-1}{e}_{j}$\n",
    "- ($i-j$) entry of ${A}^{-1}$ = ${x}_{i}$ = $\\frac{det{A}_i({e}_{j})}{detA}$\n",
    "- $det{A}_i({e}_{j})$ = $(-1)^{j+i}det{A}_{ji} = {C}_{ji}$ ($det{A}_i({e}_{j})$: $i$번째 column을 ${e}_{j}$로 치환)\n",
    "${A}^{-1} = \\frac{1}{detA} \\begin{bmatrix}\n",
    "                            {C}_{11} & {C}_{21} & \\dots & {C}_{n1} \\\\\n",
    "                            {C}_{12} & {C}_{22} & \\dots & {C}_{n2} \\\\\n",
    "                            \\vdots & \\vdots & \\, & \\vdots \\\\\n",
    "                            {C}_{1n} & {C}_{2n} & \\dots & {C}_{nn} \\\\\n",
    "                            \\end{bmatrix}$ \n",
    "- $\\begin{bmatrix}\n",
    "    {C}_{11} & {C}_{21} & \\dots & {C}_{n1} \\\\\n",
    "    {C}_{12} & {C}_{22} & \\dots & {C}_{n2} \\\\\n",
    "    \\vdots & \\vdots & \\, & \\vdots \\\\\n",
    "    {C}_{1n} & {C}_{2n} & \\dots & {C}_{nn} \\\\\n",
    "    \\end{bmatrix}$: adjugate of A(adj A) or classical adjoint of A\n",
    "    \n",
    "### Theorem 8. An Inverse Formula\n",
    "Let A be an invertible n x n matrix, ${A}^{-1} = \\frac{1}{detA} adjA$\n",
    "\n",
    "\n",
    "#### Determinants as Area or Volume\n",
    "$\\mathbb{R}^2$ $\\to$ Area, $\\mathbb{R}^3$ $\\to$ Volume\n",
    "\n",
    "### Theorem 9.\n",
    "- If A is a 2 x 2 matrix, the area of the parallelogram is determined by the columns of A is $\\left|det A\\right|$\n",
    "- the Volume of the parallelepiped determined by the columns of A is $\\left|det A\\right|$\n",
    "\n",
    "\n",
    "### Theorem 10.\n",
    "Let T: $\\mathbb{R}^2 \\to \\mathbb{R}^2$ be a linear transformation determined by a 2 x 2 matrix A.\n",
    "- If $S$ is a parallelogram in $\\mathbb{R}^2$, then {area of $T(S)$} = $\\left|det A\\right|$ {area of $S$}\n",
    "- If $T$ is determined by a 3 x 3 matrix A, and if $V$ is a parallelepiped in $\\mathbb{R}^3$, then {area of $T(V)$} = $\\left|detA\\right|${Volume of $V$}\n",
    "\n",
    "### Generalization of Theorem 10.\n",
    "도형을 사각형으로 근사 $\\to$ linear Tranformation을 진행하면 도형도 Transformation되고 사각형도 근사되어 Transformation된 도형의 넓이나 부피를 구할 수 있다."
   ]
  },
  {
   "cell_type": "code",
   "execution_count": null,
   "metadata": {},
   "outputs": [],
   "source": []
  }
 ],
 "metadata": {
  "kernelspec": {
   "display_name": "Python 3",
   "language": "python",
   "name": "python3"
  },
  "language_info": {
   "codemirror_mode": {
    "name": "ipython",
    "version": 3
   },
   "file_extension": ".py",
   "mimetype": "text/x-python",
   "name": "python",
   "nbconvert_exporter": "python",
   "pygments_lexer": "ipython3",
   "version": "3.7.6"
  }
 },
 "nbformat": 4,
 "nbformat_minor": 4
}
