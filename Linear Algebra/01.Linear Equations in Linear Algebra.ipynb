{
 "cells": [
  {
   "cell_type": "markdown",
   "metadata": {},
   "source": [
    "# 1.1 Systems of Linear Equations"
   ]
  },
  {
   "cell_type": "markdown",
   "metadata": {},
   "source": [
    "### 용어 정리"
   ]
  },
  {
   "cell_type": "markdown",
   "metadata": {},
   "source": [
    "- Linear quation \n",
    ": ${a}_1{x}_1 + {a}_2{x}_2 + ... + {a}_n{x}_n = b$\n",
    "    - ${a}_1, {a}_2, ..., {a}_n$ 은 coefficient 라고 하며 real number와 imaginary number 모두 가능하나, ${x}_n$의 차수는 1차여야 한다.\n",
    "- A system of linear equations: linear equation의 모음\n",
    "- equivalent: linear equation들이 같은 해를 가지면 equivalent하다고 부른다.\n",
    "- A system of linear equations는 1. no solution : **incosistent** 2. one solution or many solutions : **consistent**\n",
    "\n",
    "- augmented matrix: 계수항과 상수항을 모두 표시한 matrix\n",
    "- elementary row operations:\n",
    "    - replacement: matrix의 row끼리 위치를 바꾸거나 +,-등의 연산\n",
    "    - scaling: row에 *,/ 연산을 하는 것\n",
    "    - interchange: matrix의 row의 위치를 바꾸는 것 \n",
    "- row equivalent: elementary row opearations를 거쳐 각각 서로의 row 형태로 될 수 있는 것 "
   ]
  },
  {
   "cell_type": "markdown",
   "metadata": {},
   "source": [
    "# Summary\n",
    "- linear equation: ${a}_1{x}_1 + {a}_2{x}_2 + ... + {a}_n{x}_n = b$\n",
    "- system of linear equations: linear equation의 모음\n",
    "- consistent: linear equation의 solution이 존재\n",
    "- inconsistent: linear equation의 solution이 존재 하지 않는다."
   ]
  },
  {
   "cell_type": "markdown",
   "metadata": {},
   "source": [
    "# 1.2 Row Reduction and Echelon Forms"
   ]
  },
  {
   "cell_type": "markdown",
   "metadata": {},
   "source": [
    "### 용어 정리\n",
    "- nonzero row and column: 최소 1개 라도 0이 아닌 row나 column\n",
    "- a leading entry of row: 어떤 행의 제일 왼쪽의 nonzero row(nonzero row에서 가장 왼쪽에 위치한 원소)\n",
    "- enchelon form: 모든 rows of all zeros가 nonzero rows보다 아래에 위치하고 nonzero row의 leading entry의 위치가 그 위의 leading entry 보다 우측에 위치하는 matrix form\n",
    "   - e.g.\n",
    "    - $A=\\begin{bmatrix}\n",
    "    \\# & * & * & * & * & * &\\\\\n",
    "    0 & 0 & \\# & * & * & * &\\\\\n",
    "    0 & 0 & 0 & \\# & * & * &\\\\\n",
    "    \\end{bmatrix}\n",
    "    $\n",
    "    (\\#: leading entry)\n",
    "\n",
    "- reduced enchelon form: 각 nonzero의 leading entry가 1이고 각 column의 leading entry를 제외하고 모두 0인 enchelon form\n",
    "- pivot position: reduced enchelon form에서 leading entry의 위치를 pivot postion이라고 한다.\n",
    "   - e.g.\n",
    "    - $A=\\begin{bmatrix}\n",
    "    1 & 0 & * & 0 & * & * &\\\\\n",
    "    0 & 1 & 0 & 0 & * & * &\\\\\n",
    "    0 & 0 & 0 & 1 & * & * &\\\\\n",
    "    \\end{bmatrix}\n",
    "    $\n",
    "    (pivot position: column별로 1들의 위치)\n"
   ]
  },
  {
   "cell_type": "markdown",
   "metadata": {},
   "source": [
    "## Summary\n",
    "### Row reduction algorithm\n",
    "- step1. matrix의 가장 왼쪽의 nonzero column의 제일 첫 원소가 0인지 아닌지 확인\n",
    "    - if 0이라면 아래의 다른 row들과 interchange 진행\n",
    "- step2. pivot column의 첫원소를 제외하고 모두 0으로 만들기 위해 replacement를 진행\n",
    "- step3. 다음 pivot column을 정하고 step1, step2를 반복 진행\n",
    "- 위의 step들을 **forward phase**라고 함\n",
    "\n",
    "\n",
    "- matrix를 forward phase를 통해 enchelon form으로 변환 \n",
    "\n",
    "- step4. enchelon form으로 변환된 matrix에서 최우측의 pivot의 column에서 pivot을 제외한 모든 원소를 elemetary row operation을 통해 0으로 만든다.\n",
    "- step5. 다음 pivot colum을 정하고 pivot을 제외한 원소들을 모두 0으로 만든다.\n",
    "- 위의 step들을 **backward phase**라고 함\n",
    "\n",
    "- 위의 모든 과정들이 끝나면  matrix는 reduced enchelon form으로 변환된다.\n",
    "\n",
    "### Theorem1. Uniqueness of the Reduced Echelon Form\n",
    "각 matrix는 하나의 유일한 reduced echelon matrix를 갖는다."
   ]
  },
  {
   "cell_type": "markdown",
   "metadata": {},
   "source": [
    "### Solution of linear systems\n",
    "- ${x}_1 - 5{x}_3 = 1$\n",
    "- ${x}_2 + {x}_3 = 4$\n",
    "- 0 = 0\n",
    "- 위의 collection of linear equations을 augmented matrix로 표현\n",
    "- $\\begin{bmatrix}\n",
    "1 & 0 & -5 & 1\\\\\n",
    "0 & 1 & 1 & 4\\\\\n",
    "0 & 0 & 0 & 0\\\\\n",
    "\\end{bmatrix}\n",
    "$\n",
    "- ${x}_3$를 free variable로 둔다.\n",
    "- ${x}_1 = 4 - {x}_3$\n",
    "- ${x}_1 = 1 + 5{x}_3$과 같이 ${x}_3$로 표현이 가능하다. => ${x}_3$의 값에 따라 ${x}_1$, ${x}_2$의 값이 정해진다. => consistent\n",
    "\n",
    "### Theorem2. Existence and Uniqueness Theorem\n",
    "- linear system의 해가 존재한다면 augmented matrix의 가장 우측 column은 pivot column이 아니다. \n",
    "\n",
    "- augmented matrix의 echelon form은 [0 ... 0  b] 형태의 row를 갖지 않는다.\n",
    "\n",
    "- linear system이 해를 갖는다면 \n",
    "    - free variable이 없다면 해가 1개이고(unique solution)\n",
    "    - free variable이 1개라도 존재한다면 해는 무수히 많다.(infinitely many solutions)"
   ]
  },
  {
   "cell_type": "code",
   "execution_count": null,
   "metadata": {},
   "outputs": [],
   "source": [
    "\n"
   ]
  }
 ],
 "metadata": {
  "kernelspec": {
   "display_name": "Python 3",
   "language": "python",
   "name": "python3"
  },
  "language_info": {
   "codemirror_mode": {
    "name": "ipython",
    "version": 3
   },
   "file_extension": ".py",
   "mimetype": "text/x-python",
   "name": "python",
   "nbconvert_exporter": "python",
   "pygments_lexer": "ipython3",
   "version": "3.7.6"
  }
 },
 "nbformat": 4,
 "nbformat_minor": 4
}
