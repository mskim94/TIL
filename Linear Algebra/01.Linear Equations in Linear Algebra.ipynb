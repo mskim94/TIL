{
 "cells": [
  {
   "cell_type": "markdown",
   "metadata": {},
   "source": [
    "# 1.1 Systems of Linear Equations"
   ]
  },
  {
   "cell_type": "markdown",
   "metadata": {},
   "source": [
    "## 용어 정리\n",
    "\n",
    "- Linear quation \n",
    ": ${a}_1{x}_1 + {a}_2{x}_2 + ... + {a}_n{x}_n = b$\n",
    "    - ${a}_1, {a}_2, ..., {a}_n$ 은 coefficient 라고 하며 real number와 imaginary number 모두 가능하나, ${x}_n$의 차수는 1차여야 한다.\n",
    "- A system of linear equations: linear equation의 모음\n",
    "- equivalent: linear equation들이 같은 해를 가지면 equivalent하다고 부른다.\n",
    "- A system of linear equations는 1. no solution : **incosistent** 2. one solution or many solutions : **consistent**\n",
    "\n",
    "- augmented matrix: 계수항과 상수항을 모두 표시한 matrix\n",
    "- elementary row operations:\n",
    "    - replacement: matrix의 row끼리 위치를 바꾸거나 +,-등의 연산\n",
    "    - scaling: row에 *,/ 연산을 하는 것\n",
    "    - interchange: matrix의 row의 위치를 바꾸는 것 \n",
    "- row equivalent: elementary row opearations를 거쳐 각각 서로의 row 형태로 될 수 있는 것 "
   ]
  },
  {
   "cell_type": "markdown",
   "metadata": {},
   "source": [
    "## Summary\n",
    "- linear equation: ${a}_1{x}_1 + {a}_2{x}_2 + ... + {a}_n{x}_n = b$\n",
    "- system of linear equations: linear equation의 모음\n",
    "- consistent: linear equation의 solution이 존재\n",
    "- inconsistent: linear equation의 solution이 존재 하지 않는다."
   ]
  },
  {
   "cell_type": "markdown",
   "metadata": {},
   "source": [
    "# 1.2 Row Reduction and Echelon Forms"
   ]
  },
  {
   "cell_type": "markdown",
   "metadata": {},
   "source": [
    "## 용어 정리\n",
    "- nonzero row and column: 최소 1개 라도 0이 아닌 row나 column\n",
    "- a leading entry of row: 어떤 행의 제일 왼쪽의 nonzero row(nonzero row에서 가장 왼쪽에 위치한 원소)\n",
    "- enchelon form: 모든 rows of all zeros가 nonzero rows보다 아래에 위치하고 nonzero row의 leading entry의 위치가 그 위의 leading entry 보다 우측에 위치하는 matrix form\n",
    "   - e.g.\n",
    "    - $A=\\begin{bmatrix}\n",
    "    \\# & * & * & * & * & * &\\\\\n",
    "    0 & 0 & \\# & * & * & * &\\\\\n",
    "    0 & 0 & 0 & \\# & * & * &\\\\\n",
    "    \\end{bmatrix}\n",
    "    $\n",
    "    (\\#: leading entry)\n",
    "\n",
    "- reduced enchelon form: 각 nonzero의 leading entry가 1이고 각 column의 leading entry를 제외하고 모두 0인 enchelon form\n",
    "- pivot position: reduced enchelon form에서 leading entry의 위치를 pivot postion이라고 한다.\n",
    "   - e.g.\n",
    "    - $A=\\begin{bmatrix}\n",
    "    1 & 0 & * & 0 & * & * &\\\\\n",
    "    0 & 1 & 0 & 0 & * & * &\\\\\n",
    "    0 & 0 & 0 & 1 & * & * &\\\\\n",
    "    \\end{bmatrix}\n",
    "    $\n",
    "    (pivot position: column별로 1들의 위치)\n"
   ]
  },
  {
   "cell_type": "markdown",
   "metadata": {},
   "source": [
    "## Summary\n",
    "### Row reduction algorithm\n",
    "- step1. matrix의 가장 왼쪽의 nonzero column의 제일 첫 원소가 0인지 아닌지 확인\n",
    "    - if 0이라면 아래의 다른 row들과 interchange 진행\n",
    "- step2. pivot column의 첫원소를 제외하고 모두 0으로 만들기 위해 replacement를 진행\n",
    "- step3. 다음 pivot column을 정하고 step1, step2를 반복 진행\n",
    "- 위의 step들을 **forward phase**라고 함\n",
    "\n",
    "\n",
    "- matrix를 forward phase를 통해 enchelon form으로 변환 \n",
    "\n",
    "- step4. enchelon form으로 변환된 matrix에서 최우측의 pivot의 column에서 pivot을 제외한 모든 원소를 elemetary row operation을 통해 0으로 만든다.\n",
    "- step5. 다음 pivot colum을 정하고 pivot을 제외한 원소들을 모두 0으로 만든다.\n",
    "- 위의 step들을 **backward phase**라고 함\n",
    "\n",
    "- 위의 모든 과정들이 끝나면  matrix는 reduced enchelon form으로 변환된다.\n",
    "\n",
    "### Theorem1. Uniqueness of the Reduced Echelon Form\n",
    "각 matrix는 하나의 유일한 reduced echelon matrix를 갖는다."
   ]
  },
  {
   "cell_type": "markdown",
   "metadata": {},
   "source": [
    "### Solution of linear systems\n",
    "- ${x}_1 - 5{x}_3 = 1$\n",
    "- ${x}_2 + {x}_3 = 4$\n",
    "- 0 = 0\n",
    "- 위의 collection of linear equations을 augmented matrix로 표현\n",
    "- $\\begin{bmatrix}\n",
    "1 & 0 & -5 & 1\\\\\n",
    "0 & 1 & 1 & 4\\\\\n",
    "0 & 0 & 0 & 0\\\\\n",
    "\\end{bmatrix}\n",
    "$\n",
    "- ${x}_3$를 free variable로 둔다.\n",
    "- ${x}_1 = 4 - {x}_3$\n",
    "- ${x}_1 = 1 + 5{x}_3$과 같이 ${x}_3$로 표현이 가능하다. => ${x}_3$의 값에 따라 ${x}_1$, ${x}_2$의 값이 정해진다. => consistent\n",
    "\n",
    "### Theorem2. Existence and Uniqueness Theorem\n",
    "- linear system의 해가 존재한다면 augmented matrix의 가장 우측 column은 pivot column이 아니다. \n",
    "\n",
    "- augmented matrix의 echelon form은 [0 ... 0  b] 형태의 row를 갖지 않는다. [0 ... 0  b] 형태의 row를 갖는다면 solution이 없다.\n",
    "\n",
    "- linear system이 해를 갖는다면 \n",
    "    - free variable이 없다면 해가 1개이고(unique solution)\n",
    "    - free variable이 1개라도 존재한다면 해는 무수히 많다.(infinitely many solutions)"
   ]
  },
  {
   "cell_type": "markdown",
   "metadata": {},
   "source": [
    "# 1.3 Vector Equations"
   ]
  },
  {
   "cell_type": "markdown",
   "metadata": {},
   "source": [
    "## 용어 정리\n",
    "- span{${v}_1, {v}_2, ... , {v}_p$}\n",
    ": ${v}_1, {v}_2, ... , {v}_p$이 생성하는 공간, ${c}_1{v}_1 + {c}_2{v}_2 + ... + {c}_p{v}_p$의 linear combination의 형태로 표현이 가능한것"
   ]
  },
  {
   "cell_type": "markdown",
   "metadata": {},
   "source": [
    "## Summary\n",
    "\n",
    "- vector의 두가지 표현\n",
    "    - $u = \\begin{bmatrix}\n",
    "                3 \\\\\n",
    "                1 \\\\\n",
    "           \\end{bmatrix}$ (vector는 bold체)\n",
    "    - $\\vec{u} = (3,-1)$\n",
    "    - $({w}_1, {w}_2)$ $\\neq$ $[{w}_1, {w}_2]$\n",
    "    \n",
    "- Algebraic properties of $\\mathbb{R}^n$\n",
    "    - $\\mathbb{R}^n$ = {u, v, w}\n",
    "    - scalar = {c, d}\n",
    "        - (1) u + v = v + u\n",
    "        - (2) (u + v) + w = u + (v + w)\n",
    "        - (3) u + 0 = 0 + u = 0\n",
    "        - (4) u + (-u) = -u + u = 0\n",
    "        - (5) c(u + v) = cu + cv\n",
    "        - (6) (c + d)u = cu + du\n",
    "        - (7) c(du) = (cd)u\n",
    "        - (8) 1u = u\n",
    "        \n",
    "- Linear combinations\n",
    "    - $\\mathbb{R}^n$ = {${v}_1, {v}_2, ... , {v}_p$}\n",
    "    - scalar = {${c}_1, {c}_2, ... , {c}_p$}\n",
    "    \n",
    "    - $y = {c}_1{v}_1 + {c}_2{v}_2 + ... + {c}_p{v}_p$\n",
    "    - y는 ${v}_1, {v}_2, ... , {v}_p$의 linear combination이다.\n",
    "    - ${c}_1, {c}_2, ... , {c}_p$는 weights이다.\n",
    "\n",
    "- span\n",
    "    - Is a vector b in Span{${v}_1, {v}_2, ... , {v}_p$}?\n",
    "    - Does the following vector equation have a solution?\n",
    "        - ${x}_1{v}_1 + {x}_2{v}_2 + ... + {x}_p{v}_p = b$\n",
    "    - Does the following augmented matrix have a solution?\n",
    "        - [${v}_1 {v}_2 ... {v}_n b$]\n",
    "    - 위의 모든 질문들은 동치이다."
   ]
  },
  {
   "cell_type": "markdown",
   "metadata": {},
   "source": [
    "# 1.4 The Matrix Equation Ax = b"
   ]
  },
  {
   "cell_type": "markdown",
   "metadata": {},
   "source": [
    "## 용어 정리"
   ]
  },
  {
   "cell_type": "markdown",
   "metadata": {},
   "source": [
    "## Summary\n",
    "\n",
    "### Theorem3\n",
    "- A is m x n matrix, with columns ${a}_1,...,{a}_n$, b is in $\\mathbb{R}^m$\n",
    "- matrix equation: Ax = b\n",
    "- vector equation: ${x}_1{a}_1 + {x}_2{a}_2 + ... + {x}_n{a}_n = b$\n",
    "- augmented matrix: [${a}_1 {a}_2 ... {a}_n b$]\n",
    "- 위의 수식들은 모두 같은 solution set을 갖는다. solution에 대한 다른 관점이다.\n",
    "\n",
    "### Theorem4\n",
    "- A is m x n matrix, with columns ${a}_1, ..., {a}_n$이고\n",
    "- a. $\\mathbb{R}^m$ 내의 각각의 b에 대해, Ax = b는 solution을 가진다.\n",
    "- b. $\\mathbb{R}^m$ 내의 각각의 b는 A의 column들의 linear combination이다.\n",
    "- c. A의 column들은 $\\mathbb{R}^m$을 span한다.\n",
    "- d. A는 모든 row들에서 pivot position을 갖는다.\n",
    "\n",
    "### Theorem5\n",
    "If A가 m x n 행렬이고, u, v가 $\\mathbb{R}^n$ 공간의 vector이며 c는 스칼라이면\n",
    "A(u + v) = Au + Av\n",
    "A(cu) = c(Au)를 만족한다."
   ]
  },
  {
   "cell_type": "markdown",
   "metadata": {},
   "source": [
    "# 1.5 Solution Sets of Linear Systems"
   ]
  },
  {
   "cell_type": "markdown",
   "metadata": {},
   "source": [
    "## 용어 정리\n",
    "\n",
    "- Homogeneous Linear Systems: Ax = 0 형태의 equation\n",
    "- trivial solution: free variable이 없다 ➡️ solution이 1개이다.\n",
    "- nontrivial solution: free variable이 적어도 1개 ➡️ 해가 1개 이상이다. "
   ]
  },
  {
   "cell_type": "markdown",
   "metadata": {},
   "source": [
    "## Summary\n",
    "- Homogeneous Linear System Ax = 0의 해는 항상 span{${v}_1, ... , {v}_p$}로 표현 가능하다.\n",
    "- Nonhomogeneous system: Ax = b\n",
    "\n",
    "### Theorem 6.\n",
    "Ax = b가 consistent(해가 1개 or 무수히 많다)이고 p를 해라고 가정하면 (Ap = b) Ax = b의 해 집합은 w = p + ${v}_h$이다. \n",
    "${v}_h$는 Ax = 0(homogeneous equation)의 어느 해이다."
   ]
  },
  {
   "cell_type": "markdown",
   "metadata": {},
   "source": [
    "# 1.6 Linear Independence"
   ]
  },
  {
   "cell_type": "markdown",
   "metadata": {},
   "source": [
    "## 용어 정리\n"
   ]
  },
  {
   "cell_type": "markdown",
   "metadata": {},
   "source": [
    "## Summary\n",
    "- Linearly Independent: vector equation ${x}_1{v}_1 + ... + {x}_p{v}_p = 0$이 오직 trivial solution (free variable 존재 ➡️ solution이 1개) 이면 $\\mathbb{R}^n$ 안의 vector 집합 {${v}_1,...,{v}_p $}은 linearly independent라고 한다.\n",
    "\n",
    "- Linearly Dependent: 존재하는 ${c}_1,...,{c}_p$ weight 중 하나라도 0이 아니라면 $\\mathbb{R}^n$안의 집합 {${v}_1,...,{v}_p$}을 linearly dependent라고 한다.\n",
    "\n",
    "- Sets of one Vector: 집합에 한개의 vector V만 존재하고 그 집합이 linearly independent이면 v $\\neq$ 0 이다.\n",
    "- Sets of Two Vectors: 집합 {${v}_1, {v}_2$}가 두 vector 중 하나가 다른 한 vector의 곱 형태로 표현이 가능하다면 linearly dependent이다.\n",
    "    - linearly independent $\\leftrightarrow$ neither of vectors is a **multiple** of the other\n",
    "\n",
    "### Theorem7. Characterization of Linearly Depedent Sets\n",
    "An indexed set S = {${v}_1,...,{v]_p$}의 2개 이상의 vector가 linearly dependentd 이면 S 집합 안의 적어도 한개의 vector는 다른 vector들의 linear combination으로 나타낼 수 있다.\n",
    "\n",
    "### Theorem8.\n",
    "set이 각 vector들이 column의 수가 row의 수보다 많으면 그 set은 linearly dependent이다.\n",
    "- e.g. n x p인 Matrix A에서 p > n이면 linearly dependent이다.\n",
    "\n",
    "### Theorem9.\n",
    "set이 zero vector를 포함한다면 그 set은 linearly dependent이다."
   ]
  },
  {
   "cell_type": "markdown",
   "metadata": {},
   "source": [
    "# 1.7 Introduction to Linear Transformation"
   ]
  },
  {
   "cell_type": "markdown",
   "metadata": {},
   "source": [
    "## 용어 정리\n",
    "- Transformation: 어떤 vector를 다른 vector로 보내는 행위 자체\n",
    "- **image** of X in transformation: transformatin T에 의해 이동된 x ( = T(x) )\n",
    "- **range** of T: image의 모든 set"
   ]
  },
  {
   "cell_type": "markdown",
   "metadata": {},
   "source": [
    "## Summary\n",
    "- Transformation: $\\mathbb{R}^n$에서 $\\mathbb{R}^m$으로의 transformation T는 $\\mathbb{R}^n$안의 vector x를 $\\mathbb{R}^m$의 T(x) vector로 할당한다.\n",
    "    - 표현: $T$: $\\mathbb{R}^n$ $\\to$ $\\mathbb{R}^m$\n",
    "    \n",
    "- Linear Transformation: T(u + v) = T(u) + T(v), T(cu) = cT(u)이면 transformation T는 linear이다.\n",
    "    - 모든 matrix transformation은 linear transformation이다."
   ]
  },
  {
   "cell_type": "markdown",
   "metadata": {},
   "source": [
    "# 1.8 The Matrix of a Linear Transformation"
   ]
  },
  {
   "cell_type": "markdown",
   "metadata": {},
   "source": [
    "## 용어 정리"
   ]
  },
  {
   "cell_type": "markdown",
   "metadata": {},
   "source": [
    "## Summary\n",
    "### Theorem10\n",
    "$T$: $\\mathbb{R}^n$ $\\to$ $\\mathbb{R}^m$이 linear transformation이라 하자. $\\mathbb{R}^n$에 있는 모든 x에 대해 T(x) = Ax을 만족하는 unique한 matrix A가 존재한다.\n",
    "\n",
    "- 반시계 방향으로 $\\varphi$만큼 회전 transformation: \n",
    "$$\\begin{bmatrix}\n",
    "cos\\varphi & -sin\\varphi \\\\\n",
    "sin\\varphi & cos\\varphi \\\\\n",
    "\\end{bmatrix}\n",
    "$$\n",
    "\n",
    "- ${x}_1$축 transformation: \n",
    "$$\\begin{bmatrix}\n",
    "1 & 0 \\\\\n",
    "0 & -1 \\\\\n",
    "\\end{bmatrix}\n",
    "$$\n",
    "\n",
    "- ${x}_2$축 transformation: \n",
    "$$\\begin{bmatrix}\n",
    "-1 & 0 \\\\\n",
    "0 & 1 \\\\\n",
    "\\end{bmatrix}\n",
    "$$\n",
    "\n",
    "- ${x}_1$방향으로 k만큼 transformation:\n",
    "$$\\begin{bmatrix}\n",
    "k & 0 \\\\\n",
    "0 & 1 \\\\\n",
    "\\end{bmatrix}\n",
    "$$\n",
    "\n",
    "### Onto\n",
    "$T$: $\\mathbb{R}^n$ $\\to$ $\\mathbb{R}^m$에서 $\\mathbb{R}^m$안의 각각의 b가 $\\mathbb{R}^n$안의 적어도 한개의 x의 image이면 onto $\\mathbb{R}^m$라고 한다. 즉, $\\mathbb{R}^m$ = range\n",
    "\n",
    "### One-to-one\n",
    "$T$: $\\mathbb{R}^n$ $\\to$ $\\mathbb{R}^m$에서 $\\mathbb{R}^m$안의 각각의 b가 $\\mathbb{R}^n$안의 모든 x의 image이면 one-to-one $\\mathbb{R}^m$라고 한다.\n",
    "\n",
    "\n",
    "### Theorem11.\n",
    "$T$: $\\mathbb{R}^n$ $\\to$ $\\mathbb{R}^m$라 하자. $T$가 one-to-one이면 equation $T(x) = 0$은 only trivial solution을 갖는다.\n",
    "\n",
    "### Theorem12.\n",
    "- $T$: $\\mathbb{R}^n$ onto $\\mathbb{R}^m$ 이면 A의 columns는 $\\mathbb{R}^m$을 span한다. (필요 충분 조건)\n",
    "- $T$가 one-to-one이면 A의 column들은 linearly independent이다. (필요 충분 조건)\n"
   ]
  },
  {
   "cell_type": "code",
   "execution_count": null,
   "metadata": {},
   "outputs": [],
   "source": [
    "\n",
    "\n"
   ]
  },
  {
   "cell_type": "code",
   "execution_count": null,
   "metadata": {},
   "outputs": [],
   "source": []
  }
 ],
 "metadata": {
  "kernelspec": {
   "display_name": "Python 3",
   "language": "python",
   "name": "python3"
  },
  "language_info": {
   "codemirror_mode": {
    "name": "ipython",
    "version": 3
   },
   "file_extension": ".py",
   "mimetype": "text/x-python",
   "name": "python",
   "nbconvert_exporter": "python",
   "pygments_lexer": "ipython3",
   "version": "3.7.6"
  }
 },
 "nbformat": 4,
 "nbformat_minor": 4
}
