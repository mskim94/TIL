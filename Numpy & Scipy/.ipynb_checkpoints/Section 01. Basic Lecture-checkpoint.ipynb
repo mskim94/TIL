{
 "cells": [
  {
   "cell_type": "markdown",
   "metadata": {},
   "source": [
    "# 행렬 및 벡터 표현법"
   ]
  },
  {
   "cell_type": "markdown",
   "metadata": {},
   "source": [
    "#### 기본 데이터 정확도\n",
    "- double precision(float64)  $\\to$ 대부분의 Algorithm에서 정확도가 높다.\n",
    "- complex128\n"
   ]
  },
  {
   "cell_type": "code",
   "execution_count": 2,
   "metadata": {},
   "outputs": [],
   "source": [
    "import numpy as np"
   ]
  },
  {
   "cell_type": "code",
   "execution_count": 3,
   "metadata": {},
   "outputs": [
    {
     "name": "stdout",
     "output_type": "stream",
     "text": [
      "[[ 1.   2.5  3. ]\n",
      " [-1.  -2.  -1.5]\n",
      " [ 4.   5.5  6. ]] [7. 5. 3.]\n"
     ]
    }
   ],
   "source": [
    "# 2D array로 행렬 표현\n",
    "a = np.array([[1, 2.5, 3], [-1, -2, -1.5], [4, 5.5, 6]])\n",
    "\n",
    "# 1D array로 벡터 표현\n",
    "b = np.array([7.0, 5.0, 3.0])\n",
    "\n",
    "print(a, b)"
   ]
  },
  {
   "cell_type": "code",
   "execution_count": 4,
   "metadata": {},
   "outputs": [
    {
     "name": "stdout",
     "output_type": "stream",
     "text": [
      "(3, 3)\n",
      "3\n"
     ]
    }
   ],
   "source": [
    "# 행렬, 벡터의 사이즈 확인: shape\n",
    "print(a.shape)\n",
    "\n",
    "# check 1st row size\n",
    "print(a.shape[0])"
   ]
  },
  {
   "cell_type": "code",
   "execution_count": 5,
   "metadata": {},
   "outputs": [
    {
     "name": "stdout",
     "output_type": "stream",
     "text": [
      "[[1.+2.j 3.+1.j 1.+0.j]\n",
      " [1.+2.j 2.-1.j 7.+0.j]]\n"
     ]
    }
   ],
   "source": [
    "# Complex 행렬 및 complex 벡터 표현\n",
    "a = np.array([[1+2j, 3+1j, 1], [1+2j, 2-1j, 7+0j]])\n",
    "print(a)\n",
    "# complex를 코드로 표현할때 허수 부분에 반드시 숫자와 같이 써야한다. 허수 표현으로 j를 사용"
   ]
  },
  {
   "cell_type": "code",
   "execution_count": 6,
   "metadata": {},
   "outputs": [
    {
     "ename": "TypeError",
     "evalue": "can't convert complex to float",
     "output_type": "error",
     "traceback": [
      "\u001b[0;31m---------------------------------------------------------------------------\u001b[0m",
      "\u001b[0;31mTypeError\u001b[0m                                 Traceback (most recent call last)",
      "\u001b[0;32m<ipython-input-6-b7ac1bf5effa>\u001b[0m in \u001b[0;36m<module>\u001b[0;34m\u001b[0m\n\u001b[1;32m      7\u001b[0m \u001b[0ma\u001b[0m \u001b[0;34m=\u001b[0m \u001b[0mnp\u001b[0m\u001b[0;34m.\u001b[0m\u001b[0marray\u001b[0m\u001b[0;34m(\u001b[0m\u001b[0;34m[\u001b[0m\u001b[0;34m[\u001b[0m\u001b[0;36m1\u001b[0m\u001b[0;34m,\u001b[0m\u001b[0;36m2.5\u001b[0m\u001b[0;34m,\u001b[0m \u001b[0;36m3\u001b[0m\u001b[0;34m]\u001b[0m\u001b[0;34m,\u001b[0m \u001b[0;34m[\u001b[0m\u001b[0;34m-\u001b[0m\u001b[0;36m1\u001b[0m\u001b[0;34m,\u001b[0m \u001b[0;34m-\u001b[0m\u001b[0;36m2\u001b[0m\u001b[0;34m,\u001b[0m \u001b[0;34m-\u001b[0m\u001b[0;36m1.5\u001b[0m\u001b[0;34m]\u001b[0m\u001b[0;34m,\u001b[0m \u001b[0;34m[\u001b[0m\u001b[0;36m4\u001b[0m\u001b[0;34m,\u001b[0m \u001b[0;36m5.5\u001b[0m\u001b[0;34m,\u001b[0m \u001b[0;36m6\u001b[0m\u001b[0;34m]\u001b[0m\u001b[0;34m]\u001b[0m\u001b[0;34m)\u001b[0m\u001b[0;34m\u001b[0m\u001b[0;34m\u001b[0m\u001b[0m\n\u001b[1;32m      8\u001b[0m \u001b[0;31m# a의 dtype은 np.float64이다, 값에 접근하여 허수로 바꾸려고 하면 바꿀 수 없다. 처음 선언 부터 명시적으로 dtype을 정해주어야한다.\u001b[0m\u001b[0;34m\u001b[0m\u001b[0;34m\u001b[0m\u001b[0;34m\u001b[0m\u001b[0m\n\u001b[0;32m----> 9\u001b[0;31m \u001b[0ma\u001b[0m\u001b[0;34m[\u001b[0m\u001b[0;36m1\u001b[0m\u001b[0;34m,\u001b[0m\u001b[0;36m1\u001b[0m\u001b[0;34m]\u001b[0m \u001b[0;34m=\u001b[0m \u001b[0;36m0\u001b[0m \u001b[0;34m+\u001b[0m \u001b[0;36m0j\u001b[0m\u001b[0;34m\u001b[0m\u001b[0;34m\u001b[0m\u001b[0m\n\u001b[0m\u001b[1;32m     10\u001b[0m \u001b[0;31m# 행렬과 벡터를 만들때 dtype을 습관적으로 사용하자!!\u001b[0m\u001b[0;34m\u001b[0m\u001b[0;34m\u001b[0m\u001b[0;34m\u001b[0m\u001b[0m\n",
      "\u001b[0;31mTypeError\u001b[0m: can't convert complex to float"
     ]
    }
   ],
   "source": [
    "# 행렬과 벡터 값 접근\n",
    "# 두 가지 방법으로 접근 가능 1.[], 2.[][]\n",
    "a = np.array([[1,2.5, 3], [-1, -2, -1.5], [4, 5.5, 6]])\n",
    "a[1,1], a[1][1]\n",
    "\n",
    "# 행렬과 벡터 값에 접근할때, 명시적으로 데이터 타입을 선언해주지 않고 선언 후 변환을 할때 불가능 한 경우가 있다.\n",
    "a = np.array([[1,2.5, 3], [-1, -2, -1.5], [4, 5.5, 6]])\n",
    "# a의 dtype은 np.float64이다, 값에 접근하여 허수로 바꾸려고 하면 바꿀 수 없다. 처음 선언 부터 명시적으로 dtype을 정해주어야한다.\n",
    "a[1,1] = 0 + 0j\n",
    "# 행렬과 벡터를 만들때 dtype을 습관적으로 사용하자!!"
   ]
  },
  {
   "cell_type": "code",
   "execution_count": 7,
   "metadata": {},
   "outputs": [],
   "source": [
    "# 명시적 타입 변환\n",
    "a = np.array([[1,2.5, 3], [-1, -2, -1.5], [4, 5.5, 6]], dtype=np.float64)\n",
    "a = a.astype(dtype=np.complex128)\n",
    "a[1,1] = 0+0j\n",
    "a\n",
    "\n",
    "# 암묵적 타입 변환\n",
    "a = np.array([[1,2.5, 3], [-1, -2, -1.5], [4, 5.5, 6]], dtype=np.float64)\n",
    "c = np.array([[0, 1.5-1j, 2],[1, 2, -3.5],[0, 1.5, 7.5]], dtype=np.complex128)\n",
    "d = a + c\n",
    "# type이 다른 두 변수를 연산으로 하면 type이 변한다. 확실한 스펙을 모르면 안하는걸 추천!"
   ]
  },
  {
   "cell_type": "code",
   "execution_count": 8,
   "metadata": {},
   "outputs": [
    {
     "data": {
      "text/plain": [
       "((3, 4),\n",
       " array([[1.+0.j, 2.+0.j, 1.+2.j, 1.+0.j],\n",
       "        [2.+0.j, 1.+0.j, 3.+0.j, 1.+0.j],\n",
       "        [5.+0.j, 0.+0.j, 1.+0.j, 4.+0.j]]))"
      ]
     },
     "execution_count": 8,
     "metadata": {},
     "output_type": "execute_result"
    }
   ],
   "source": [
    "# 연습문제\n",
    "## practice 1.\n",
    "a = np.array([[1,2,4,1],[2,1,3,1],[5,2,1,4]], dtype=np.complex128)\n",
    "a[0][2] = 1 + 2j\n",
    "a[2,1] = 0\n",
    "a.shape, a"
   ]
  },
  {
   "cell_type": "markdown",
   "metadata": {},
   "source": [
    "# 간단한 행렬 입출력 방법"
   ]
  },
  {
   "cell_type": "code",
   "execution_count": 9,
   "metadata": {},
   "outputs": [],
   "source": [
    "# 텍스트(txt)파일로 부터 행렬 혹은 벡터 읽기\n",
    "# np.genfromtxt('파일 이름', delimiter='', dtype)"
   ]
  },
  {
   "cell_type": "code",
   "execution_count": 10,
   "metadata": {},
   "outputs": [],
   "source": [
    "# 실수 출력 포멧\n",
    "# 1. floating 포맷, 소수점 4자리: '%0.4f'\n",
    "# 2. scientific 포맷, 소주점 2자리: '%0.2e', 15 자리 이상 출력은 무의미"
   ]
  },
  {
   "cell_type": "code",
   "execution_count": 11,
   "metadata": {},
   "outputs": [],
   "source": [
    "# 행렬 혹은 벡터 텍스트 파일로 출력\n",
    "# np.savetxt(\"파일이름\", \"data\", fmt=\"%0.4f\", delimiter)"
   ]
  },
  {
   "cell_type": "markdown",
   "metadata": {},
   "source": [
    "# 행렬 관련 편리한 기능"
   ]
  },
  {
   "cell_type": "code",
   "execution_count": 12,
   "metadata": {},
   "outputs": [
    {
     "name": "stdout",
     "output_type": "stream",
     "text": [
      "[[1. 0. 0.]\n",
      " [0. 1. 0.]\n",
      " [0. 0. 1.]] [[1. 0. 0.]\n",
      " [0. 1. 0.]\n",
      " [0. 0. 1.]] [[1. 0. 0.]\n",
      " [0. 1. 0.]\n",
      " [0. 0. 1.]]\n"
     ]
    }
   ],
   "source": [
    "# np.eye\n",
    "a = np.eye(2,3, k=1, dtype=np.float64)\n",
    "\n",
    "# np.identity\n",
    "a = np.identity(3, dtype=np.float64)\n",
    "b = np.eye(3)\n",
    "c = np.eye(3,3)\n",
    "print(a, b, c)"
   ]
  },
  {
   "cell_type": "code",
   "execution_count": 13,
   "metadata": {},
   "outputs": [
    {
     "data": {
      "text/plain": [
       "array([[1, 1, 0],\n",
       "       [1, 1, 1]])"
      ]
     },
     "execution_count": 13,
     "metadata": {},
     "output_type": "execute_result"
    }
   ],
   "source": [
    "# tri: lower triangular matrix\n",
    "a = np.tri(2,3, k=1, dtype=np.int)\n",
    "# band index를 포함한 아래의 모든 entry들을 1로 채운 matrix \n",
    "a"
   ]
  },
  {
   "cell_type": "code",
   "execution_count": 14,
   "metadata": {},
   "outputs": [
    {
     "name": "stdout",
     "output_type": "stream",
     "text": [
      "[[0. 0. 0.]\n",
      " [0. 0. 0.]] [[1. 1. 1.]\n",
      " [1. 1. 1.]] [[7 7 7]\n",
      " [7 7 7]]\n"
     ]
    }
   ],
   "source": [
    "# zeros\n",
    "a = np.zeros((2,3))\n",
    "\n",
    "# ones\n",
    "b = np.ones((2,3))\n",
    "\n",
    "#full\n",
    "c = np.full((2,3), 7)\n",
    "\n",
    "# zeros, ones, full의 argument는 tuple dtype!!!\n",
    "print(a, b, c)"
   ]
  },
  {
   "cell_type": "code",
   "execution_count": 15,
   "metadata": {},
   "outputs": [
    {
     "data": {
      "text/plain": [
       "array([[0.36086187, 0.66295026, 0.1990107 , 0.21166367],\n",
       "       [0.52759929, 0.33085835, 0.74234844, 0.47106802],\n",
       "       [0.00792105, 0.81966574, 0.89658823, 0.3607262 ]])"
      ]
     },
     "execution_count": 15,
     "metadata": {},
     "output_type": "execute_result"
    }
   ],
   "source": [
    "# random 값으로 채워넣기\n",
    "a = np.random.rand(3, 4)\n",
    "# rand는 0~1사이의 값\n",
    "a"
   ]
  },
  {
   "cell_type": "code",
   "execution_count": 16,
   "metadata": {},
   "outputs": [],
   "source": [
    "# 연습 문제\n",
    "## Practice 1.\n",
    "a = np.identity(20, dtype=np.float64)\n",
    "# print(a, fmt='%0.1e')\n",
    "\n",
    "## Practice 2.\n",
    "img_mat = np.random.rand(3,3)\n",
    "img_mat = img_mat.astype(dtype=np.complex128)"
   ]
  },
  {
   "cell_type": "markdown",
   "metadata": {},
   "source": [
    "# 행렬 기본 조작 (1)"
   ]
  },
  {
   "cell_type": "code",
   "execution_count": 17,
   "metadata": {},
   "outputs": [],
   "source": [
    "# np.copy\n",
    "a = np.array([[1, 2.5, 3], [-1, -2, -1.5], [4, 5.5, 6]], dtype=np.float64)\n",
    "b = a  # 서로 같은 메모리를 참조, b를 조작하면 a도 변한다.\n",
    "# copy를 이용\n",
    "b = np.copy(a)  # 독립적으로 활용 가능"
   ]
  },
  {
   "cell_type": "code",
   "execution_count": 18,
   "metadata": {},
   "outputs": [],
   "source": [
    "# np.reshape\n",
    "a = np.array([[1, 2.5, 3], [-1, -2, -1.5]])\n",
    "b = np.reshape(a, 6)  # 반드시 모든 entry의 개수가 같아야 한다.\n",
    "b = np.reshape(a, (3,2))"
   ]
  },
  {
   "cell_type": "code",
   "execution_count": 19,
   "metadata": {},
   "outputs": [],
   "source": [
    "# np.tril(a, k=band_id): band_id를 포함 lower 부분 copy\n",
    "# np.triu(a, k=band_id): band_id를 포함 upper 부분 copy\n",
    "# 독립적 활용 가능"
   ]
  },
  {
   "cell_type": "code",
   "execution_count": 20,
   "metadata": {},
   "outputs": [
    {
     "data": {
      "text/plain": [
       "(array([[1, 2, 3],\n",
       "        [4, 5, 6],\n",
       "        [7, 8, 9]]),\n",
       " array([2, 6]))"
      ]
     },
     "execution_count": 20,
     "metadata": {},
     "output_type": "execute_result"
    }
   ],
   "source": [
    "# np.diag: band를 뽑아 1D array(벡터)로 만듦\n",
    "a = np.array([[1,2,3], [4,5,6], [7,8,9]])\n",
    "b = np.diag(a, k=1)\n",
    "# b는 수정 불가! read-only!\n",
    "a, b"
   ]
  },
  {
   "cell_type": "code",
   "execution_count": 21,
   "metadata": {},
   "outputs": [
    {
     "data": {
      "text/plain": [
       "array([[0., 0., 0., 0., 0.],\n",
       "       [1., 0., 0., 0., 0.],\n",
       "       [0., 2., 0., 0., 0.],\n",
       "       [0., 0., 3., 0., 0.],\n",
       "       [0., 0., 0., 4., 0.]])"
      ]
     },
     "execution_count": 21,
     "metadata": {},
     "output_type": "execute_result"
    }
   ],
   "source": [
    "# np.diag의 다른 기능\n",
    "b = np.array([1,2,3,4], dtype=np.float64)\n",
    "a = np.diag(b, k=-1)\n",
    "# 입력이 1D array이면 square matrix 생성, a, b는 독립적 행동 가능\n",
    "a\n"
   ]
  },
  {
   "cell_type": "code",
   "execution_count": 22,
   "metadata": {},
   "outputs": [
    {
     "data": {
      "text/plain": [
       "array([[1., 0., 0., 0.],\n",
       "       [0., 3., 0., 0.],\n",
       "       [0., 0., 2., 0.],\n",
       "       [0., 0., 0., 4.]])"
      ]
     },
     "execution_count": 22,
     "metadata": {},
     "output_type": "execute_result"
    }
   ],
   "source": [
    "# np.diagflat\n",
    "M = np.array([[1, 3], [2, 4]], dtype=np.float64)\n",
    "a = np.diagflat(M)\n",
    "# M을 1D array로 만든뒤, square matrix 생성, 1D, 2D array 이외도 사용 가능\n",
    "a"
   ]
  },
  {
   "cell_type": "code",
   "execution_count": 23,
   "metadata": {},
   "outputs": [
    {
     "data": {
      "text/plain": [
       "12"
      ]
     },
     "execution_count": 23,
     "metadata": {},
     "output_type": "execute_result"
    }
   ],
   "source": [
    "# trace\n",
    "a = np.array([[1,2,3], [4,5,6], [7,8,9]])\n",
    "val = np.trace(a, offset=-1)\n",
    "val"
   ]
  },
  {
   "cell_type": "code",
   "execution_count": 24,
   "metadata": {},
   "outputs": [
    {
     "name": "stdout",
     "output_type": "stream",
     "text": [
      "[1 2 3 4 5 6 7 8 9] [1 2 3 4 5 6 7 8 9]\n"
     ]
    }
   ],
   "source": [
    "# flatten, np.ravel\n",
    "a = np.array([[1,2,3], [4,5,6], [7,8,9]])\n",
    "b = a.flatten()\n",
    "c = np.ravel(a)\n",
    "print(b, c)\n",
    "# flatten은 matrix 를 1D array로 만든뒤 copy, 독립적 활용 가능\n",
    "# ravel은 같은 메모리 참조, 독립적 활용 불가능, np.copy(a.ravel()) == a.flatten()"
   ]
  },
  {
   "cell_type": "code",
   "execution_count": 25,
   "metadata": {},
   "outputs": [
    {
     "data": {
      "text/plain": [
       "(array([[1, 0, 0, 0, 0, 0, 0, 0, 0, 0, 0, 0, 0, 0, 0],\n",
       "        [0, 2, 0, 0, 0, 0, 0, 0, 0, 0, 0, 0, 0, 0, 0],\n",
       "        [0, 0, 3, 0, 0, 0, 0, 0, 0, 0, 0, 0, 0, 0, 0],\n",
       "        [0, 0, 0, 0, 0, 0, 0, 0, 0, 0, 0, 0, 0, 0, 0],\n",
       "        [0, 0, 0, 0, 5, 0, 0, 0, 0, 0, 0, 0, 0, 0, 0],\n",
       "        [0, 0, 0, 0, 0, 6, 0, 0, 0, 0, 0, 0, 0, 0, 0],\n",
       "        [0, 0, 0, 0, 0, 0, 0, 0, 0, 0, 0, 0, 0, 0, 0],\n",
       "        [0, 0, 0, 0, 0, 0, 0, 0, 0, 0, 0, 0, 0, 0, 0],\n",
       "        [0, 0, 0, 0, 0, 0, 0, 0, 9, 0, 0, 0, 0, 0, 0],\n",
       "        [0, 0, 0, 0, 0, 0, 0, 0, 0, 0, 0, 0, 0, 0, 0],\n",
       "        [0, 0, 0, 0, 0, 0, 0, 0, 0, 0, 0, 0, 0, 0, 0],\n",
       "        [0, 0, 0, 0, 0, 0, 0, 0, 0, 0, 0, 0, 0, 0, 0],\n",
       "        [0, 0, 0, 0, 0, 0, 0, 0, 0, 0, 0, 0, 0, 0, 0],\n",
       "        [0, 0, 0, 0, 0, 0, 0, 0, 0, 0, 0, 0, 0, 0, 0],\n",
       "        [0, 0, 0, 0, 0, 0, 0, 0, 0, 0, 0, 0, 0, 0, 0]]),\n",
       " 26)"
      ]
     },
     "execution_count": 25,
     "metadata": {},
     "output_type": "execute_result"
    }
   ],
   "source": [
    "# 연습 문제\n",
    "## Practice 1.\n",
    "input_mat = np.array([[1,2,3,4,5], [6,7,8,9,10], [11,12,13,14,15]])\n",
    "fixed_mat = input_mat.reshape(5,3)\n",
    "bt = np.triu(fixed_mat)\n",
    "sq_mat = np.diagflat(bt)\n",
    "sum_trace = sq_mat.trace()\n",
    "sq_mat, sum_trace"
   ]
  },
  {
   "cell_type": "markdown",
   "metadata": {},
   "source": [
    "# 행렬 기본 조작(2)"
   ]
  },
  {
   "cell_type": "code",
   "execution_count": 26,
   "metadata": {},
   "outputs": [
    {
     "data": {
      "text/plain": [
       "array([[ 1,  2,  3],\n",
       "       [ 4,  5,  6],\n",
       "       [-1, -2, -3],\n",
       "       [-4, -5, -6],\n",
       "       [-7, -8, -9]])"
      ]
     },
     "execution_count": 26,
     "metadata": {},
     "output_type": "execute_result"
    }
   ],
   "source": [
    "# np.hstack: 옆으로 붙임, 행의 개수가 일치해야함\n",
    "# np.vstack: 아래로 붙임, 열의 개수가 일치해야함\n",
    "a = np.array([[1,2,3], [4,5,6]])\n",
    "b = np.array([[-1, -2], [-3, -4]])\n",
    "new_mat = np.hstack((a,b))  # tuple의 형태로 입력되어야 한다.\n",
    "new_mat\n",
    "\n",
    "c = np.array([[1,2,3], [4,5,6]])\n",
    "d = np.array([[-1, -2, -3], [-4, -5, -6], [-7, -8, -9]])\n",
    "new_matr = np.vstack((c, d))\n",
    "new_matr"
   ]
  },
  {
   "cell_type": "code",
   "execution_count": 27,
   "metadata": {},
   "outputs": [],
   "source": [
    "# transpose, .T\n",
    "a = np.array([[1,2,3], [4,5,6], [7,8,9]])\n",
    "b = a.transpose()  # 같은 메모리 참조, 조작 시 영향 받지 않으려면 copy 필요\n",
    "b = a.T  # 같은 메모리 참조, b = np.copy(a.transpose())를 사용하면 독립적으로 활용 가능"
   ]
  },
  {
   "cell_type": "code",
   "execution_count": 30,
   "metadata": {},
   "outputs": [
    {
     "data": {
      "text/plain": [
       "(array([[1., 3., 1.],\n",
       "        [1., 2., 7.]]),\n",
       " array([[-2.,  1.,  0.],\n",
       "        [ 2., -1.,  0.]]),\n",
       " array([[1.+2.j, 3.-1.j, 1.-0.j],\n",
       "        [1.-2.j, 2.+1.j, 7.-0.j]]))"
      ]
     },
     "execution_count": 30,
     "metadata": {},
     "output_type": "execute_result"
    }
   ],
   "source": [
    "# real, imag, conjugate\n",
    "com_mat = np.array([[1-2j, 3+1j, 1], [1+2j, 2-1j, 7]])\n",
    "real_part = com_mat.real  # 같은 메모리 값 참조\n",
    "imag_part = com_mat.imag  # 같은 메모리 값 참조\n",
    "cjg_mat = com_mat.conjugate()  # copy\n",
    "real_part, imag_part, cjg_mat"
   ]
  },
  {
   "cell_type": "code",
   "execution_count": 31,
   "metadata": {},
   "outputs": [
    {
     "data": {
      "text/plain": [
       "(array([[ 5, 10, 15],\n",
       "        [20, 25, 30],\n",
       "        [35, 40, 45]]),\n",
       " array([[ 5, 10, 15],\n",
       "        [20, 25, 30],\n",
       "        [35, 40, 45]]))"
      ]
     },
     "execution_count": 31,
     "metadata": {},
     "output_type": "execute_result"
    }
   ],
   "source": [
    "# Scalar Multiplication\n",
    "a = np.array([[1,2,3], [4,5,6], [7,8,9]])\n",
    "r = 5\n",
    "result = r*a\n",
    "result_1 = a*r\n",
    "result, result_1  # element-wise operation"
   ]
  },
  {
   "cell_type": "code",
   "execution_count": 34,
   "metadata": {},
   "outputs": [
    {
     "data": {
      "text/plain": [
       "(array([[-5, 14],\n",
       "        [ 5, 10]]),\n",
       " array([[-5, 14],\n",
       "        [ 5, 10]]))"
      ]
     },
     "execution_count": 34,
     "metadata": {},
     "output_type": "execute_result"
    }
   ],
   "source": [
    "# matrix multiplication\n",
    "A = np.array([[1,2,3], [3,2,1]])\n",
    "B = np.array([[2,1], [1,2], [-3,3]])\n",
    "result = A @ B\n",
    "result_1 = np.matmul(A, B)\n",
    "result, result_1\n",
    "# 기존에 np.dot을 사용했는데 이 강의에서는 .dot의 다양한 기능 때문에 사용을 비추천 함"
   ]
  },
  {
   "cell_type": "code",
   "execution_count": 37,
   "metadata": {},
   "outputs": [],
   "source": [
    "# inner product\n",
    "# result = np.vdot(u,v)  # real vector\n",
    "# complex vector를 inner product를 하게 되면 conjugate가 빠진채로 계산됨"
   ]
  },
  {
   "cell_type": "code",
   "execution_count": 39,
   "metadata": {},
   "outputs": [
    {
     "data": {
      "text/plain": [
       "array([[-5.+0.j, 14.+5.j],\n",
       "       [ 5.+0.j, 10.+3.j]])"
      ]
     },
     "execution_count": 39,
     "metadata": {},
     "output_type": "execute_result"
    }
   ],
   "source": [
    "A = np.array([[1,2,3], [3,2,1]])\n",
    "B = np.array([[2,1+1j], [1,2-1j], [-3,3+2j]])\n",
    "\n",
    "result = np.dot(A,B)\n",
    "result"
   ]
  },
  {
   "cell_type": "code",
   "execution_count": null,
   "metadata": {},
   "outputs": [],
   "source": []
  }
 ],
 "metadata": {
  "kernelspec": {
   "display_name": "Python 3",
   "language": "python",
   "name": "python3"
  },
  "language_info": {
   "codemirror_mode": {
    "name": "ipython",
    "version": 3
   },
   "file_extension": ".py",
   "mimetype": "text/x-python",
   "name": "python",
   "nbconvert_exporter": "python",
   "pygments_lexer": "ipython3",
   "version": "3.7.6"
  }
 },
 "nbformat": 4,
 "nbformat_minor": 4
}
