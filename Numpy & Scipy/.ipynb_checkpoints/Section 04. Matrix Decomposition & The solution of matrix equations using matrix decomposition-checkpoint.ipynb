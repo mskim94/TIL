{
 "cells": [
  {
   "cell_type": "markdown",
   "metadata": {},
   "source": [
    "# 행렬 분해 (1)\n",
    "\n",
    "## LU Decomposition\n",
    "- 선형 대수 강좌에서는 LU decomposition 에서 interchange를 사용하지 않았다. Decomposition을 진행하는 경우 pivot position이 0인 경우 interchange가 필요하다.\n",
    "$\\to$ Row interchange $\\Longrightarrow$ pivoting\n",
    "- 기본 형태: A = LU\n",
    "- SciPy: A = PLU\n",
    "    - P: pivoting 결과를 담고 있는 permutation 행렬(row interchange의 정보가 들어있다.), Identity matrix\n",
    "\n",
    "- **linalg.lu**\n",
    "- P, L, U = linalg.lu(A)"
   ]
  },
  {
   "cell_type": "code",
   "execution_count": 4,
   "metadata": {},
   "outputs": [],
   "source": [
    "import numpy as np\n",
    "from scipy import linalg"
   ]
  },
  {
   "cell_type": "code",
   "execution_count": 5,
   "metadata": {},
   "outputs": [
    {
     "name": "stdout",
     "output_type": "stream",
     "text": [
      "P:  [[0. 0. 0. 1.]\n",
      " [0. 1. 0. 0.]\n",
      " [0. 0. 1. 0.]\n",
      " [1. 0. 0. 0.]] L:  [[ 1.          0.          0.          0.        ]\n",
      " [ 0.66666667  1.          0.          0.        ]\n",
      " [-0.33333333  1.          1.          0.        ]\n",
      " [-0.33333333 -0.8         0.13333333  1.        ]] U:  [[-6.00000000e+00  0.00000000e+00  7.00000000e+00 -3.00000000e+00\n",
      "   1.00000000e+00]\n",
      " [ 0.00000000e+00 -5.00000000e+00 -1.66666667e+00 -6.00000000e+00\n",
      "   3.33333333e-01]\n",
      " [ 0.00000000e+00  0.00000000e+00 -2.22044605e-16  6.00000000e+00\n",
      "   8.00000000e+00]\n",
      " [ 0.00000000e+00  0.00000000e+00  0.00000000e+00 -1.60000000e+00\n",
      "  -2.46666667e+00]]\n"
     ]
    }
   ],
   "source": [
    "A = np.array([[2,4,-1,5,-2],[-4,-5,3,-8,1],[2,-5,-4,1,8],[-6,0,7,-3,1]])\n",
    "P, L, U = linalg.lu(A)\n",
    "print(\"P: \", P, \"L: \", L, \"U: \", U)"
   ]
  },
  {
   "cell_type": "markdown",
   "metadata": {},
   "source": [
    "## LU Decomposition for Solver\n",
    "- A = PLU\n",
    "- linalg.lu_factor\n",
    "- lu, piv = linalg.lu_factor(A)\n",
    "    - lu: L과 U를 한 행렬에 저장\n",
    "    - piv: 1D array(vector): row interchange 정보 저장\n",
    "        - piv: [3(0),1(1),2(2),3(3)]: \n",
    "            - (0)$\\leftrightarrow$3\n",
    "            - (1)$\\leftrightarrow$1\n",
    "            - (2)$\\leftrightarrow$2\n",
    "            - (3)$\\leftrightarrow$3\n",
    "            "
   ]
  },
  {
   "cell_type": "code",
   "execution_count": 15,
   "metadata": {},
   "outputs": [
    {
     "name": "stdout",
     "output_type": "stream",
     "text": [
      "LU:  [[ 9.          5.          8.          7.        ]\n",
      " [ 0.11111111  1.44444444  1.11111111  7.22222222]\n",
      " [ 0.55555556  0.84615385 -1.38461538 -2.        ]\n",
      " [ 0.77777778  0.76923077  0.77777778 -3.44444444]]\n",
      "\n",
      "piv:  [3 1 2 3]\n",
      "L:  [[1.         0.         0.         0.        ]\n",
      " [0.11111111 1.         0.         0.        ]\n",
      " [0.55555556 0.84615385 1.         0.        ]\n",
      " [0.77777778 0.76923077 0.77777778 1.        ]]\n",
      "\n",
      "U:  [[ 9.          5.          8.          7.        ]\n",
      " [ 0.          1.44444444  1.11111111  7.22222222]\n",
      " [ 0.          0.         -1.38461538 -2.        ]\n",
      " [ 0.          0.          0.         -3.44444444]]\n",
      "A:  [[7. 5. 6. 6.]\n",
      " [1. 2. 2. 8.]\n",
      " [5. 4. 4. 8.]\n",
      " [7. 5. 6. 6.]]\n"
     ]
    }
   ],
   "source": [
    "A = np.array([[7,5,6,6],[1,2,2,8],[5,4,4,8],[9,5,8,7]])\n",
    "lu, piv = linalg.lu_factor(A)\n",
    "# L, U 구축\n",
    "L = np.tril(lu,k=-1) + np.eye(lu.shape[0], lu.shape[1])\n",
    "U = np.triu(lu)\n",
    "print(\"LU: \", lu)\n",
    "print()\n",
    "print(\"piv: \", piv)\n",
    "print(\"L: \", L)\n",
    "print()\n",
    "print(\"U: \", U)\n",
    "\n",
    "# P 구축\n",
    "perm = np.copy(piv)\n",
    "P = np.identity(4)[perm,:]\n",
    "A = P@L@U\n",
    "A = (L@U)[perm,:]\n",
    "print(\"A: \", A)"
   ]
  },
  {
   "cell_type": "markdown",
   "metadata": {},
   "source": [
    "## LU Decomposition Solver\n",
    "- linalg.lu_factor의 결과를 활용하여 $Ax = b$를 푸는 solver\n",
    "- Ax = b의 형태에서 b를 바꿔가면서 해를 구할때 유용\n",
    "- linalg.lu_solve\n",
    "- x = linalg.lu_solve((lu, piv), b)\n",
    "    - lu, piv = linalg.lu_factor(A)"
   ]
  },
  {
   "cell_type": "code",
   "execution_count": 18,
   "metadata": {},
   "outputs": [
    {
     "name": "stdout",
     "output_type": "stream",
     "text": [
      "[-0.16129032  0.19354839  0.12903226  0.06451613]\n",
      "\n",
      "computing time by using LU Decomposition:  0.0003471530508249998\n"
     ]
    }
   ],
   "source": [
    "import timeit\n",
    "\n",
    "A = np.array([[7,5,6,6],[1,2,2,8],[5,4,4,8],[9,5,8,7]])\n",
    "b = np.ones((4,))\n",
    "\n",
    "lu, piv = linalg.lu_factor(A)\n",
    "\n",
    "start = timeit.default_timer()\n",
    "x = linalg.lu_solve((lu, piv), b)\n",
    "end = timeit.default_timer()\n",
    "print(x)\n",
    "print()\n",
    "print(\"computing time by using LU Decomposition: \", end-start)\n"
   ]
  },
  {
   "cell_type": "code",
   "execution_count": 21,
   "metadata": {},
   "outputs": [
    {
     "name": "stdout",
     "output_type": "stream",
     "text": [
      "[-0.16129032  0.19354839  0.12903226  0.06451613]\n",
      "\n",
      "computing time by using general solve method:  0.0015140679897740483\n"
     ]
    }
   ],
   "source": [
    "start = timeit.default_timer()\n",
    "x = linalg.solve(A, b)\n",
    "end = timeit.default_timer()\n",
    "print(x)\n",
    "print()\n",
    "print(\"computing time by using general solve method: \", end-start)"
   ]
  },
  {
   "cell_type": "markdown",
   "metadata": {},
   "source": [
    "#### linalg.solve method는 LU Decomposition을 해서 풀지만 실제로 Decomposition 된것의 이점은 활용하지 못함"
   ]
  },
  {
   "cell_type": "markdown",
   "metadata": {},
   "source": [
    "### 1000 x 1000 matrix 에서 .solve V.S .lu_solve V.S .solve_banded 연산 속도 비교"
   ]
  },
  {
   "cell_type": "code",
   "execution_count": 35,
   "metadata": {},
   "outputs": [
    {
     "name": "stdout",
     "output_type": "stream",
     "text": [
      "A:  [[5. 1. 0. ... 0. 0. 0.]\n",
      " [1. 5. 1. ... 0. 0. 0.]\n",
      " [0. 1. 5. ... 0. 0. 0.]\n",
      " ...\n",
      " [0. 0. 0. ... 5. 1. 0.]\n",
      " [0. 0. 0. ... 1. 5. 1.]\n",
      " [0. 0. 0. ... 0. 1. 5.]]\n"
     ]
    }
   ],
   "source": [
    "diag_line = 5 * np.ones((1000,))\n",
    "first_band_line = np.ones((999,))\n",
    "minus_band_line = np.ones((999,))\n",
    "\n",
    "A = np.diag(diag_line) + np.diag(first_band_line, k=1) + np.diag(minus_band_line, k=-1)\n",
    "b = np.ones((1000,))\n",
    "print(\"A: \", A)\n"
   ]
  },
  {
   "cell_type": "code",
   "execution_count": 36,
   "metadata": {},
   "outputs": [
    {
     "name": "stdout",
     "output_type": "stream",
     "text": [
      "computing time:  0.014596219989471138\n"
     ]
    }
   ],
   "source": [
    "# .solve\n",
    "start = timeit.default_timer()\n",
    "x = linalg.solve(A, b)\n",
    "end = timeit.default_timer()\n",
    "\n",
    "print(\"computing time: \", end - start)\n"
   ]
  },
  {
   "cell_type": "code",
   "execution_count": 37,
   "metadata": {},
   "outputs": [
    {
     "name": "stdout",
     "output_type": "stream",
     "text": [
      "computing time:  0.0007312569650821388\n"
     ]
    }
   ],
   "source": [
    "# .lu_solve\n",
    "lu, piv = linalg.lu_factor(A)\n",
    "start = timeit.default_timer()\n",
    "x = linalg.lu_solve((lu, piv), b)\n",
    "end = timeit.default_timer()\n",
    "\n",
    "print(\"computing time: \", end - start)"
   ]
  },
  {
   "cell_type": "code",
   "execution_count": 38,
   "metadata": {},
   "outputs": [
    {
     "name": "stdout",
     "output_type": "stream",
     "text": [
      "computing time:  0.00027194502763450146\n"
     ]
    }
   ],
   "source": [
    "# .solve_banded\n",
    "zr = np.zeros((1,))\n",
    "ones = np.ones((999,))\n",
    "\n",
    "first_band_row = np.hstack((zr, ones))\n",
    "mid_band_row = 5 * np.ones((1000,))\n",
    "last_band_row = np.hstack((ones, zr))\n",
    "\n",
    "band_A = np.vstack((first_band_row, mid_band_row))\n",
    "band_A = np.vstack((band_A, last_band_row))\n",
    "\n",
    "start = timeit.default_timer()\n",
    "x = linalg.solve_banded((1,1), band_A, b)\n",
    "end = timeit.default_timer()\n",
    "\n",
    "print(\"computing time: \", end-start)"
   ]
  },
  {
   "cell_type": "markdown",
   "metadata": {},
   "source": [
    "#### .solve_banded > .lu_solve > .solve"
   ]
  },
  {
   "cell_type": "markdown",
   "metadata": {},
   "source": [
    "## Diagonal Pivoting Method\n",
    "- Symmetric & complex symmetric\n",
    "    - $A = LD{L}^T / A = UD{U}^T$\n",
    "        - Lapack: sytrf\n",
    "- Hermitian\n",
    "    - $A = LD{L}^* / A = UD{U}^*$\n",
    "        - Lapack: hetrf\n",
    "- D: block digoanal 최대 2x2 block\n",
    "- L: lower(or upper) triangular matrix(diagonal=1)와 permutation matrix의 multiplication\n",
    "\n",
    "- **linalg.ldl**\n",
    "- L, D, perm = linalg.ldl(A, lower=True, hermitian=True)\n",
    "- A = L @ D @ L.T\n",
    "- A[perm,:][:,perm] = L[perm,:] @ D @ L[perm,:].T\n",
    "    - $PA{P}^T = (PL)D{(PL)}^T$\n",
    "        : L도 interchange가 되었으니 A도 interchange를 한 것!"
   ]
  },
  {
   "cell_type": "markdown",
   "metadata": {},
   "source": [
    "# 행렬 분해 (2)\n",
    "\n",
    "## Cholesky Decomposition\n",
    "- pivoting 없이도 수치적으로 매우 안정적\n",
    "- LU 보다 대략 두배 빠름\n",
    "- positive definite(symmetric / Hermitian)\n",
    "- $A = {R}^TR / A = {R}^*R$\n",
    "- $A = {L}{L}^T / A = {L}{L}^*$\n",
    "\n",
    "- **linalg.cholesky**\n",
    "    - Lapack: potrf\n",
    "- R = linalg.cholesky(A, lower=False)\n",
    "\n",
    "## Cholesky Decomposition Solver\n",
    "- Ax = b\n",
    "- **linalg.cho_solve**\n",
    "- x = linalg.cho_solve((R, False), b)\n",
    "    False: ${R}^TR$의 형태를 넣겠다. if True: ${L}{L}^T / {L}{L}^*$"
   ]
  },
  {
   "cell_type": "code",
   "execution_count": 48,
   "metadata": {},
   "outputs": [
    {
     "name": "stdout",
     "output_type": "stream",
     "text": [
      "verification:  True\n"
     ]
    }
   ],
   "source": [
    "A1 = np.array([[1, -2j],[2j, 5]], dtype=np.complex128)\n",
    "b1 = np.ones((2,))\n",
    "\n",
    "R1 = linalg.cholesky(A1, lower=False)\n",
    "x1 = linalg.cho_solve((R1, False),b1)\n",
    "\n",
    "print(\"verification: \", np.allclose(A1@x1, b1))"
   ]
  },
  {
   "cell_type": "code",
   "execution_count": 50,
   "metadata": {},
   "outputs": [
    {
     "name": "stdout",
     "output_type": "stream",
     "text": [
      "verification:  True\n"
     ]
    }
   ],
   "source": [
    "A2 = np.array([[1, -1, 0],[-1, 2, -1], [0, -1, 3]], dtype=np.complex128)\n",
    "b2 = np.ones((3,))\n",
    "\n",
    "R2 = linalg.cholesky(A2, lower=False)\n",
    "x2 = linalg.cho_solve((R2, False),b2)\n",
    "\n",
    "print(\"verification: \", np.allclose(A2@x2, b2))"
   ]
  },
  {
   "cell_type": "markdown",
   "metadata": {},
   "source": [
    "#### LU decomposition후 해를 구하는 것이 더 빠르다.\n",
    "- decomposition 자체 속도는 cholesky가 더 빠르다. decomposition 후 해를 구하는 경우: LU Decomposition solver 승리\n",
    "- L 내부의 Lapack에서 자체적으로 diagonald entry 1, 즉 쓸데 없는 연산을 안함\n",
    "    - 1) A 고정 b가 많이 변하는 상황: LU\n",
    "    - 2) A를 많이 변화시켜야하는 상황 or 단일 문제: Cholesky"
   ]
  },
  {
   "cell_type": "markdown",
   "metadata": {},
   "source": [
    "## 밴드 행렬의 Cholesky Decomposition\n",
    "- **linalg.cholesky_banded**\n",
    "- R_band = linalg.cholesky_banded(band_A_h, lower=False)\n",
    "    - band_A_h: read_banded_h라는 custom 함수의 결과"
   ]
  },
  {
   "cell_type": "code",
   "execution_count": 59,
   "metadata": {},
   "outputs": [
    {
     "data": {
      "text/plain": [
       "array([[ 0.        +0.j        ,  0.        +0.j        ,\n",
       "         0.        +0.33333333j,  0.71206899+0.j        ,\n",
       "         0.        +1.18768515j],\n",
       "       [ 0.        +0.j        , -0.33333333+0.j        ,\n",
       "        -0.71206899+0.03955939j,  1.38842067+0.01115197j,\n",
       "         2.11145768-0.87334379j],\n",
       "       [ 3.        +0.j        ,  2.80871659+0.j        ,\n",
       "         2.52592195+0.j        ,  1.88815291+0.j        ,\n",
       "         1.53896753+0.j        ]])"
      ]
     },
     "execution_count": 59,
     "metadata": {},
     "output_type": "execute_result"
    }
   ],
   "source": [
    "A = np.array([[9,-1,1j,0,0],[-1,8,-2,2,0],[-1j,-2,7,3,3j],[0,2,3,6,4],[0,0,-3j,4,9]])\n",
    "b = np.ones((5,))\n",
    "zr1 = np.zeros((1,))\n",
    "zr2 = np.zeros((2,))\n",
    "\n",
    "first_band_entries = np.array([A[0,2], A[1,3], A[2,4]])\n",
    "second_band_entries = np.array([A[0,1], A[1,2], A[2,3], A[3,4]])\n",
    "third_band_entries = np.array([9,8,7,6,9])\n",
    "\n",
    "first_band_row = np.hstack((zr2, first_band_entries))\n",
    "second_band_row = np.hstack((zr1, second_band_entries))\n",
    "\n",
    "upper_band_A = np.vstack((first_band_row, second_band_row))\n",
    "upper_band_A = np.vstack((upper_band_A, third_band_entries))\n",
    "\n",
    "R_band = linalg.cholesky_banded(upper_band_A, lower=False)\n",
    "R_band"
   ]
  },
  {
   "cell_type": "markdown",
   "metadata": {},
   "source": [
    "## 밴드 행렬의 Cholesky Decomposition Solver\n",
    "- **linalg.cho_solve_banded**\n",
    "- x = linalg.cho_solve_banded((R_band, False), b)"
   ]
  },
  {
   "cell_type": "code",
   "execution_count": 61,
   "metadata": {},
   "outputs": [
    {
     "data": {
      "text/plain": [
       "array([ 0.1524183 -0.06901961j,  0.44026144+0.01385621j,\n",
       "        0.63503268-0.06849673j, -0.54980392-0.15843137j,\n",
       "        0.37830065+0.2820915j ])"
      ]
     },
     "execution_count": 61,
     "metadata": {},
     "output_type": "execute_result"
    }
   ],
   "source": [
    "x = linalg.cho_solve_banded((R_band, False), b)\n",
    "x"
   ]
  },
  {
   "cell_type": "markdown",
   "metadata": {},
   "source": [
    "## 행렬 분해와 Ax = b 전략\n",
    "- Real symmetric / complex Hermitian?\n",
    "    - Y $\\to$ Positive definite?\n",
    "        - Y $\\to$ Cholesky\n",
    "        - N $\\to$ $LD{L}^T$ or $LD{L}^*$\n",
    "        \n",
    "    - N $\\to$ Complex symmetric?\n",
    "        - Y $\\to$ $LD{L}^T$\n",
    "        - N $\\to$ $LU$\n",
    "- 현재 $LD{L}^T$ decomposition solver가 없으니 LU 사용"
   ]
  },
  {
   "cell_type": "code",
   "execution_count": 67,
   "metadata": {},
   "outputs": [],
   "source": [
    "# 연습 문제 \n",
    "## Practice 1.\n",
    "first_band_entries = 1j * np.ones((9998,))\n",
    "second_band_entries = np.ones((9999,))\n",
    "mid_band_entries = 5 * np.ones((10000,))\n",
    "last_band_entries = -first_band_entries\n",
    "\n",
    "A = np.diag(mid_band_entries) + np.diag(second_band_entries, k=1) + np.diag(first_band_entries, k=2) + np.diag(second_band_entries, k=-1) \\\n",
    "+ np.diag(last_band_entries, k=-2)\n",
    "b = np.ones((10000,))"
   ]
  },
  {
   "cell_type": "code",
   "execution_count": 69,
   "metadata": {},
   "outputs": [
    {
     "name": "stdout",
     "output_type": "stream",
     "text": [
      "decomposition time:  13.817694955971092\n",
      "solving solution time:  0.0647548430133611\n"
     ]
    }
   ],
   "source": [
    "# LU decomposition and solution\n",
    "start = timeit.default_timer()\n",
    "lu, piv = linalg.lu_factor(A)\n",
    "end = timeit.default_timer()\n",
    "print(\"decomposition time: \", end-start)\n",
    "\n",
    "start = timeit.default_timer()\n",
    "x = linalg.lu_solve((lu, piv), b)\n",
    "end = timeit.default_timer()\n",
    "print(\"solving solution time: \", end-start)"
   ]
  },
  {
   "cell_type": "code",
   "execution_count": 70,
   "metadata": {},
   "outputs": [
    {
     "name": "stdout",
     "output_type": "stream",
     "text": [
      "decomposition time:  7.712093210022431\n",
      "decomposition time:  0.2168013490154408\n"
     ]
    }
   ],
   "source": [
    "# Cholesky decomposition and solution\n",
    "start = timeit.default_timer()\n",
    "R = linalg.cholesky(A)\n",
    "end = timeit.default_timer()\n",
    "print(\"decomposition time: \", end-start)\n",
    "\n",
    "start = timeit.default_timer()\n",
    "x = linalg.cho_solve((R, False), b)\n",
    "end = timeit.default_timer()\n",
    "print(\"decomposition time: \", end-start)\n"
   ]
  },
  {
   "cell_type": "code",
   "execution_count": 77,
   "metadata": {},
   "outputs": [
    {
     "data": {
      "text/plain": [
       "array([[0.+0.j, 0.+0.j, 0.+1.j, ..., 0.+1.j, 0.+1.j, 0.+1.j],\n",
       "       [0.+0.j, 1.+0.j, 1.+0.j, ..., 1.+0.j, 1.+0.j, 1.+0.j],\n",
       "       [5.+0.j, 5.+0.j, 5.+0.j, ..., 5.+0.j, 5.+0.j, 5.+0.j]])"
      ]
     },
     "execution_count": 77,
     "metadata": {},
     "output_type": "execute_result"
    }
   ],
   "source": [
    "# Cholesky decomposition / band matrix solution\n",
    "first_band_entries = 1j * np.ones((9998,))\n",
    "second_band_entries = np.ones((9999,))\n",
    "mid_band_entries = 5 * np.ones((10000,))\n",
    "last_band_entries = -first_band_entries\n",
    "zr1 = np.zeros((1,))\n",
    "zr2 = np.zeros((2,))\n",
    "\n",
    "first_row = np.hstack((zr2, first_band_entries))\n",
    "second_row = np.hstack((zr1, second_band_entries))\n",
    "mid_row = mid_band_entries\n",
    "forth_row = np.hstack((second_band_entries, zr1))\n",
    "fifth_row = np.hstack((last_band_entries, zr2))\n",
    "\n",
    "band_A = np.vstack((first_row, second_row))\n",
    "band_A = np.vstack((band_A, mid_band_entries))\n",
    "# band_A = np.vstack((band_A, forth_row))\n",
    "# band_A = np.vstack((band_A, fifth_row))\n",
    "\n",
    "band_A"
   ]
  },
  {
   "cell_type": "code",
   "execution_count": 82,
   "metadata": {},
   "outputs": [
    {
     "name": "stdout",
     "output_type": "stream",
     "text": [
      "decomposition time:  0.0015332840266637504\n",
      "decomposition time:  0.0010570089798420668\n"
     ]
    }
   ],
   "source": [
    "start = timeit.default_timer()\n",
    "R_band = linalg.cholesky_banded(band_A, lower=False)\n",
    "end = timeit.default_timer()\n",
    "print(\"decomposition time: \", end-start)\n",
    "\n",
    "start = timeit.default_timer()\n",
    "x = linalg.cho_solve_banded((R_band, False), b)\n",
    "end = timeit.default_timer()\n",
    "print(\"decomposition time: \", end-start)\n"
   ]
  },
  {
   "cell_type": "markdown",
   "metadata": {},
   "source": [
    "# Low-Level Lapack 함수의 활용"
   ]
  },
  {
   "cell_type": "code",
   "execution_count": null,
   "metadata": {},
   "outputs": [],
   "source": []
  }
 ],
 "metadata": {
  "kernelspec": {
   "display_name": "Python 3",
   "language": "python",
   "name": "python3"
  },
  "language_info": {
   "codemirror_mode": {
    "name": "ipython",
    "version": 3
   },
   "file_extension": ".py",
   "mimetype": "text/x-python",
   "name": "python",
   "nbconvert_exporter": "python",
   "pygments_lexer": "ipython3",
   "version": "3.7.6"
  }
 },
 "nbformat": 4,
 "nbformat_minor": 4
}
