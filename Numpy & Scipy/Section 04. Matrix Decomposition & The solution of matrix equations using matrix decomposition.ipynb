{
 "cells": [
  {
   "cell_type": "markdown",
   "metadata": {},
   "source": [
    "# 행렬 분해 (1)\n",
    "\n",
    "## LU Decomposition\n",
    "- 선형 대수 강좌에서는 LU decomposition 에서 interchange를 사용하지 않았다. Decomposition을 진행하는 경우 pivot position이 0인 경우 interchange가 필요하다.\n",
    "$\\to$ Row interchange $\\Longrightarrow$ pivoting\n",
    "- 기본 형태: A = LU\n",
    "- SciPy: A = PLU\n",
    "    - P: pivoting 결과를 담고 있는 permutation 행렬(row interchange의 정보가 들어있다.), Identity matrix\n",
    "\n",
    "- **linalg.lu**\n",
    "- P, L, U = linalg.lu(A)"
   ]
  },
  {
   "cell_type": "code",
   "execution_count": 1,
   "metadata": {},
   "outputs": [],
   "source": [
    "import numpy as np\n",
    "from scipy import linalg"
   ]
  },
  {
   "cell_type": "code",
   "execution_count": 5,
   "metadata": {},
   "outputs": [
    {
     "name": "stdout",
     "output_type": "stream",
     "text": [
      "P:  [[0. 0. 0. 1.]\n",
      " [0. 1. 0. 0.]\n",
      " [0. 0. 1. 0.]\n",
      " [1. 0. 0. 0.]] L:  [[ 1.          0.          0.          0.        ]\n",
      " [ 0.66666667  1.          0.          0.        ]\n",
      " [-0.33333333  1.          1.          0.        ]\n",
      " [-0.33333333 -0.8         0.13333333  1.        ]] U:  [[-6.00000000e+00  0.00000000e+00  7.00000000e+00 -3.00000000e+00\n",
      "   1.00000000e+00]\n",
      " [ 0.00000000e+00 -5.00000000e+00 -1.66666667e+00 -6.00000000e+00\n",
      "   3.33333333e-01]\n",
      " [ 0.00000000e+00  0.00000000e+00 -2.22044605e-16  6.00000000e+00\n",
      "   8.00000000e+00]\n",
      " [ 0.00000000e+00  0.00000000e+00  0.00000000e+00 -1.60000000e+00\n",
      "  -2.46666667e+00]]\n"
     ]
    }
   ],
   "source": [
    "A = np.array([[2,4,-1,5,-2],[-4,-5,3,-8,1],[2,-5,-4,1,8],[-6,0,7,-3,1]])\n",
    "P, L, U = linalg.lu(A)\n",
    "print(\"P: \", P, \"L: \", L, \"U: \", U)"
   ]
  },
  {
   "cell_type": "markdown",
   "metadata": {},
   "source": [
    "## LU Decomposition for Solver\n",
    "- A = PLU\n",
    "- linalg.lu_factor\n",
    "- lu, piv = linalg.lu_factor(A)\n",
    "    - lu: L과 U를 한 행렬에 저장\n",
    "    - piv: 1D array(vector): row interchange 정보 저장\n",
    "        - piv: [3(0),1(1),2(2),3(3)]: \n",
    "            - (0)$\\leftrightarrow$3\n",
    "            - (1)$\\leftrightarrow$1\n",
    "            - (2)$\\leftrightarrow$2\n",
    "            - (3)$\\leftrightarrow$3\n",
    "            "
   ]
  },
  {
   "cell_type": "code",
   "execution_count": 15,
   "metadata": {},
   "outputs": [
    {
     "name": "stdout",
     "output_type": "stream",
     "text": [
      "LU:  [[ 9.          5.          8.          7.        ]\n",
      " [ 0.11111111  1.44444444  1.11111111  7.22222222]\n",
      " [ 0.55555556  0.84615385 -1.38461538 -2.        ]\n",
      " [ 0.77777778  0.76923077  0.77777778 -3.44444444]]\n",
      "\n",
      "piv:  [3 1 2 3]\n",
      "L:  [[1.         0.         0.         0.        ]\n",
      " [0.11111111 1.         0.         0.        ]\n",
      " [0.55555556 0.84615385 1.         0.        ]\n",
      " [0.77777778 0.76923077 0.77777778 1.        ]]\n",
      "\n",
      "U:  [[ 9.          5.          8.          7.        ]\n",
      " [ 0.          1.44444444  1.11111111  7.22222222]\n",
      " [ 0.          0.         -1.38461538 -2.        ]\n",
      " [ 0.          0.          0.         -3.44444444]]\n",
      "A:  [[7. 5. 6. 6.]\n",
      " [1. 2. 2. 8.]\n",
      " [5. 4. 4. 8.]\n",
      " [7. 5. 6. 6.]]\n"
     ]
    }
   ],
   "source": [
    "A = np.array([[7,5,6,6],[1,2,2,8],[5,4,4,8],[9,5,8,7]])\n",
    "lu, piv = linalg.lu_factor(A)\n",
    "# L, U 구축\n",
    "L = np.tril(lu,k=-1) + np.eye(lu.shape[0], lu.shape[1])\n",
    "U = np.triu(lu)\n",
    "print(\"LU: \", lu)\n",
    "print()\n",
    "print(\"piv: \", piv)\n",
    "print(\"L: \", L)\n",
    "print()\n",
    "print(\"U: \", U)\n",
    "\n",
    "# P 구축\n",
    "perm = np.copy(piv)\n",
    "P = np.identity(4)[perm,:]\n",
    "A = P@L@U\n",
    "A = (L@U)[perm,:]\n",
    "print(\"A: \", A)"
   ]
  },
  {
   "cell_type": "markdown",
   "metadata": {},
   "source": [
    "## LU Decomposition Solver\n",
    "- linalg.lu_factor의 결과를 활용하여 $Ax = b$를 푸는 solver\n",
    "- Ax = b의 형태에서 b를 바꿔가면서 해를 구할때 유용\n",
    "- linalg.lu_solve\n",
    "- x = linalg.lu_solve((lu, piv), b)\n",
    "    - lu, piv = linalg.lu_factor(A)"
   ]
  },
  {
   "cell_type": "code",
   "execution_count": 34,
   "metadata": {},
   "outputs": [
    {
     "name": "stdout",
     "output_type": "stream",
     "text": [
      "[-0.16129032  0.19354839  0.12903226  0.06451613]\n",
      "\n",
      "computing time by using LU Decomposition:  0.00036393100026543834\n"
     ]
    }
   ],
   "source": [
    "import timeit\n",
    "\n",
    "A = np.array([[7,5,6,6],[1,2,2,8],[5,4,4,8],[9,5,8,7]])\n",
    "b = np.ones((4,))\n",
    "\n",
    "lu, piv = linalg.lu_factor(A)\n",
    "\n",
    "start = timeit.default_timer()\n",
    "x = linalg.lu_solve((lu, piv), b)\n",
    "end = timeit.default_timer()\n",
    "print(x)\n",
    "print()\n",
    "print(\"computing time by using LU Decomposition: \", end-start)\n"
   ]
  },
  {
   "cell_type": "code",
   "execution_count": 21,
   "metadata": {},
   "outputs": [
    {
     "name": "stdout",
     "output_type": "stream",
     "text": [
      "[-0.16129032  0.19354839  0.12903226  0.06451613]\n",
      "\n",
      "computing time by using general solve method:  0.0015140679897740483\n"
     ]
    }
   ],
   "source": [
    "start = timeit.default_timer()\n",
    "x = linalg.solve(A, b)\n",
    "end = timeit.default_timer()\n",
    "print(x)\n",
    "print()\n",
    "print(\"computing time by using general solve method: \", end-start)"
   ]
  },
  {
   "cell_type": "markdown",
   "metadata": {},
   "source": [
    "#### linalg.solve method는 LU Decomposition을 해서 풀지만 실제로 Decomposition 된것의 이점은 활용하지 못함"
   ]
  },
  {
   "cell_type": "markdown",
   "metadata": {},
   "source": [
    "### 1000 x 1000 matrix 에서 .solve V.S .lu_solve V.S .solve_banded 연산 속도 비교"
   ]
  },
  {
   "cell_type": "code",
   "execution_count": 35,
   "metadata": {},
   "outputs": [
    {
     "name": "stdout",
     "output_type": "stream",
     "text": [
      "A:  [[5. 1. 0. ... 0. 0. 0.]\n",
      " [1. 5. 1. ... 0. 0. 0.]\n",
      " [0. 1. 5. ... 0. 0. 0.]\n",
      " ...\n",
      " [0. 0. 0. ... 5. 1. 0.]\n",
      " [0. 0. 0. ... 1. 5. 1.]\n",
      " [0. 0. 0. ... 0. 1. 5.]]\n"
     ]
    }
   ],
   "source": [
    "diag_line = 5 * np.ones((1000,))\n",
    "first_band_line = np.ones((999,))\n",
    "minus_band_line = np.ones((999,))\n",
    "\n",
    "A = np.diag(diag_line) + np.diag(first_band_line, k=1) + np.diag(minus_band_line, k=-1)\n",
    "b = np.ones((1000,))\n",
    "print(\"A: \", A)\n"
   ]
  },
  {
   "cell_type": "code",
   "execution_count": 36,
   "metadata": {},
   "outputs": [
    {
     "name": "stdout",
     "output_type": "stream",
     "text": [
      "computing time:  0.014596219989471138\n"
     ]
    }
   ],
   "source": [
    "# .solve\n",
    "start = timeit.default_timer()\n",
    "x = linalg.solve(A, b)\n",
    "end = timeit.default_timer()\n",
    "\n",
    "print(\"computing time: \", end - start)\n"
   ]
  },
  {
   "cell_type": "code",
   "execution_count": 37,
   "metadata": {},
   "outputs": [
    {
     "name": "stdout",
     "output_type": "stream",
     "text": [
      "computing time:  0.0007312569650821388\n"
     ]
    }
   ],
   "source": [
    "# .lu_solve\n",
    "lu, piv = linalg.lu_factor(A)\n",
    "start = timeit.default_timer()\n",
    "x = linalg.lu_solve((lu, piv), b)\n",
    "end = timeit.default_timer()\n",
    "\n",
    "print(\"computing time: \", end - start)"
   ]
  },
  {
   "cell_type": "code",
   "execution_count": 38,
   "metadata": {},
   "outputs": [
    {
     "name": "stdout",
     "output_type": "stream",
     "text": [
      "computing time:  0.00027194502763450146\n"
     ]
    }
   ],
   "source": [
    "# .solve_banded\n",
    "zr = np.zeros((1,))\n",
    "ones = np.ones((999,))\n",
    "\n",
    "first_band_row = np.hstack((zr, ones))\n",
    "mid_band_row = 5 * np.ones((1000,))\n",
    "last_band_row = np.hstack((ones, zr))\n",
    "\n",
    "band_A = np.vstack((first_band_row, mid_band_row))\n",
    "band_A = np.vstack((band_A, last_band_row))\n",
    "\n",
    "start = timeit.default_timer()\n",
    "x = linalg.solve_banded((1,1), band_A, b)\n",
    "end = timeit.default_timer()\n",
    "\n",
    "print(\"computing time: \", end-start)"
   ]
  },
  {
   "cell_type": "markdown",
   "metadata": {},
   "source": [
    "#### .solve_banded > .lu_solve > .solve"
   ]
  },
  {
   "cell_type": "markdown",
   "metadata": {},
   "source": [
    "## Diagonal Pivoting Method\n",
    "- Symmetric & complex symmetric\n",
    "    - $A = LD{L}^T / A = UD{U}^T$\n",
    "        - Lapack: sytrf\n",
    "- Hermitian\n",
    "    - $A = LD{L}^* / A = UD{U}^*$\n",
    "        - Lapack: hetrf\n",
    "- D: block digoanal 최대 2x2 block\n",
    "- L: lower(or upper) triangular matrix(diagonal=1)와 permutation matrix의 multiplication\n",
    "\n",
    "- **linalg.ldl**\n",
    "- L, D, perm = linalg.ldl(A, lower=True, hermitian=True)\n",
    "- A = L @ D @ L.T\n",
    "- A[perm,:][:,perm] = L[perm,:] @ D @ L[perm,:].T\n",
    "    - $PA{P}^T = (PL)D{(PL)}^T$\n",
    "        : L도 interchange가 되었으니 A도 interchange를 한 것!"
   ]
  },
  {
   "cell_type": "markdown",
   "metadata": {},
   "source": [
    "# 행렬 분해 (2)\n",
    "\n",
    "## Cholesky Decomposition\n",
    "- pivoting 없이도 수치적으로 매우 안정적\n",
    "- LU 보다 대략 두배 빠름\n",
    "- positive definite(symmetric / Hermitian)\n",
    "- $A = {R}^TR / A = {R}^*R$\n",
    "- $A = {L}{L}^T / A = {L}{L}^*$\n",
    "\n",
    "- **linalg.cholesky**\n",
    "    - Lapack: potrf\n",
    "- R = linalg.cholesky(A, lower=False)\n",
    "\n",
    "## Cholesky Decomposition Solver\n",
    "- Ax = b\n",
    "- **linalg.cho_solve**\n",
    "- x = linalg.cho_solve((R, False), b)\n",
    "    False: ${R}^TR$의 형태를 넣겠다. if True: ${L}{L}^T / {L}{L}^*$"
   ]
  },
  {
   "cell_type": "code",
   "execution_count": 48,
   "metadata": {},
   "outputs": [
    {
     "name": "stdout",
     "output_type": "stream",
     "text": [
      "verification:  True\n"
     ]
    }
   ],
   "source": [
    "A1 = np.array([[1, -2j],[2j, 5]], dtype=np.complex128)\n",
    "b1 = np.ones((2,))\n",
    "\n",
    "R1 = linalg.cholesky(A1, lower=False)\n",
    "x1 = linalg.cho_solve((R1, False),b1)\n",
    "\n",
    "print(\"verification: \", np.allclose(A1@x1, b1))"
   ]
  },
  {
   "cell_type": "code",
   "execution_count": 50,
   "metadata": {},
   "outputs": [
    {
     "name": "stdout",
     "output_type": "stream",
     "text": [
      "verification:  True\n"
     ]
    }
   ],
   "source": [
    "A2 = np.array([[1, -1, 0],[-1, 2, -1], [0, -1, 3]], dtype=np.complex128)\n",
    "b2 = np.ones((3,))\n",
    "\n",
    "R2 = linalg.cholesky(A2, lower=False)\n",
    "x2 = linalg.cho_solve((R2, False),b2)\n",
    "\n",
    "print(\"verification: \", np.allclose(A2@x2, b2))"
   ]
  },
  {
   "cell_type": "markdown",
   "metadata": {},
   "source": [
    "#### LU decomposition후 해를 구하는 것이 더 빠르다.\n",
    "- decomposition 자체 속도는 cholesky가 더 빠르다. decomposition 후 해를 구하는 경우: LU Decomposition solver 승리\n",
    "- L 내부의 Lapack에서 자체적으로 diagonald entry 1, 즉 쓸데 없는 연산을 안함\n",
    "    - 1) A 고정 b가 많이 변하는 상황: LU\n",
    "    - 2) A를 많이 변화시켜야하는 상황 or 단일 문제: Cholesky"
   ]
  },
  {
   "cell_type": "markdown",
   "metadata": {},
   "source": [
    "## 밴드 행렬의 Cholesky Decomposition\n",
    "- **linalg.cholesky_banded**\n",
    "- R_band = linalg.cholesky_banded(band_A_h, lower=False)\n",
    "    - band_A_h: read_banded_h라는 custom 함수의 결과"
   ]
  },
  {
   "cell_type": "code",
   "execution_count": 59,
   "metadata": {},
   "outputs": [
    {
     "data": {
      "text/plain": [
       "array([[ 0.        +0.j        ,  0.        +0.j        ,\n",
       "         0.        +0.33333333j,  0.71206899+0.j        ,\n",
       "         0.        +1.18768515j],\n",
       "       [ 0.        +0.j        , -0.33333333+0.j        ,\n",
       "        -0.71206899+0.03955939j,  1.38842067+0.01115197j,\n",
       "         2.11145768-0.87334379j],\n",
       "       [ 3.        +0.j        ,  2.80871659+0.j        ,\n",
       "         2.52592195+0.j        ,  1.88815291+0.j        ,\n",
       "         1.53896753+0.j        ]])"
      ]
     },
     "execution_count": 59,
     "metadata": {},
     "output_type": "execute_result"
    }
   ],
   "source": [
    "A = np.array([[9,-1,1j,0,0],[-1,8,-2,2,0],[-1j,-2,7,3,3j],[0,2,3,6,4],[0,0,-3j,4,9]])\n",
    "b = np.ones((5,))\n",
    "zr1 = np.zeros((1,))\n",
    "zr2 = np.zeros((2,))\n",
    "\n",
    "first_band_entries = np.array([A[0,2], A[1,3], A[2,4]])\n",
    "second_band_entries = np.array([A[0,1], A[1,2], A[2,3], A[3,4]])\n",
    "third_band_entries = np.array([9,8,7,6,9])\n",
    "\n",
    "first_band_row = np.hstack((zr2, first_band_entries))\n",
    "second_band_row = np.hstack((zr1, second_band_entries))\n",
    "\n",
    "upper_band_A = np.vstack((first_band_row, second_band_row))\n",
    "upper_band_A = np.vstack((upper_band_A, third_band_entries))\n",
    "\n",
    "R_band = linalg.cholesky_banded(upper_band_A, lower=False)\n",
    "R_band"
   ]
  },
  {
   "cell_type": "markdown",
   "metadata": {},
   "source": [
    "## 밴드 행렬의 Cholesky Decomposition Solver\n",
    "- **linalg.cho_solve_banded**\n",
    "- x = linalg.cho_solve_banded((R_band, False), b)"
   ]
  },
  {
   "cell_type": "code",
   "execution_count": 61,
   "metadata": {},
   "outputs": [
    {
     "data": {
      "text/plain": [
       "array([ 0.1524183 -0.06901961j,  0.44026144+0.01385621j,\n",
       "        0.63503268-0.06849673j, -0.54980392-0.15843137j,\n",
       "        0.37830065+0.2820915j ])"
      ]
     },
     "execution_count": 61,
     "metadata": {},
     "output_type": "execute_result"
    }
   ],
   "source": [
    "x = linalg.cho_solve_banded((R_band, False), b)\n",
    "x"
   ]
  },
  {
   "cell_type": "markdown",
   "metadata": {},
   "source": [
    "## 행렬 분해와 Ax = b 전략\n",
    "- Real symmetric / complex Hermitian?\n",
    "    - Y $\\to$ Positive definite?\n",
    "        - Y $\\to$ Cholesky\n",
    "        - N $\\to$ $LD{L}^T$ or $LD{L}^*$\n",
    "        \n",
    "    - N $\\to$ Complex symmetric?\n",
    "        - Y $\\to$ $LD{L}^T$\n",
    "        - N $\\to$ $LU$\n",
    "- 현재 $LD{L}^T$ decomposition solver가 없으니 LU 사용"
   ]
  },
  {
   "cell_type": "code",
   "execution_count": 67,
   "metadata": {},
   "outputs": [],
   "source": [
    "# 연습 문제 \n",
    "## Practice 1.\n",
    "first_band_entries = 1j * np.ones((9998,))\n",
    "second_band_entries = np.ones((9999,))\n",
    "mid_band_entries = 5 * np.ones((10000,))\n",
    "last_band_entries = -first_band_entries\n",
    "\n",
    "A = np.diag(mid_band_entries) + np.diag(second_band_entries, k=1) + np.diag(first_band_entries, k=2) + np.diag(second_band_entries, k=-1) \\\n",
    "+ np.diag(last_band_entries, k=-2)\n",
    "b = np.ones((10000,))"
   ]
  },
  {
   "cell_type": "code",
   "execution_count": 69,
   "metadata": {},
   "outputs": [
    {
     "name": "stdout",
     "output_type": "stream",
     "text": [
      "decomposition time:  13.817694955971092\n",
      "solving solution time:  0.0647548430133611\n"
     ]
    }
   ],
   "source": [
    "# LU decomposition and solution\n",
    "start = timeit.default_timer()\n",
    "lu, piv = linalg.lu_factor(A)\n",
    "end = timeit.default_timer()\n",
    "print(\"decomposition time: \", end-start)\n",
    "\n",
    "start = timeit.default_timer()\n",
    "x = linalg.lu_solve((lu, piv), b)\n",
    "end = timeit.default_timer()\n",
    "print(\"solving solution time: \", end-start)"
   ]
  },
  {
   "cell_type": "code",
   "execution_count": 70,
   "metadata": {},
   "outputs": [
    {
     "name": "stdout",
     "output_type": "stream",
     "text": [
      "decomposition time:  7.712093210022431\n",
      "decomposition time:  0.2168013490154408\n"
     ]
    }
   ],
   "source": [
    "# Cholesky decomposition and solution\n",
    "start = timeit.default_timer()\n",
    "R = linalg.cholesky(A)\n",
    "end = timeit.default_timer()\n",
    "print(\"decomposition time: \", end-start)\n",
    "\n",
    "start = timeit.default_timer()\n",
    "x = linalg.cho_solve((R, False), b)\n",
    "end = timeit.default_timer()\n",
    "print(\"decomposition time: \", end-start)\n"
   ]
  },
  {
   "cell_type": "code",
   "execution_count": 77,
   "metadata": {},
   "outputs": [
    {
     "data": {
      "text/plain": [
       "array([[0.+0.j, 0.+0.j, 0.+1.j, ..., 0.+1.j, 0.+1.j, 0.+1.j],\n",
       "       [0.+0.j, 1.+0.j, 1.+0.j, ..., 1.+0.j, 1.+0.j, 1.+0.j],\n",
       "       [5.+0.j, 5.+0.j, 5.+0.j, ..., 5.+0.j, 5.+0.j, 5.+0.j]])"
      ]
     },
     "execution_count": 77,
     "metadata": {},
     "output_type": "execute_result"
    }
   ],
   "source": [
    "# Cholesky decomposition / band matrix solution\n",
    "first_band_entries = 1j * np.ones((9998,))\n",
    "second_band_entries = np.ones((9999,))\n",
    "mid_band_entries = 5 * np.ones((10000,))\n",
    "last_band_entries = -first_band_entries\n",
    "zr1 = np.zeros((1,))\n",
    "zr2 = np.zeros((2,))\n",
    "\n",
    "first_row = np.hstack((zr2, first_band_entries))\n",
    "second_row = np.hstack((zr1, second_band_entries))\n",
    "mid_row = mid_band_entries\n",
    "forth_row = np.hstack((second_band_entries, zr1))\n",
    "fifth_row = np.hstack((last_band_entries, zr2))\n",
    "\n",
    "band_A = np.vstack((first_row, second_row))\n",
    "band_A = np.vstack((band_A, mid_band_entries))\n",
    "# band_A = np.vstack((band_A, forth_row))\n",
    "# band_A = np.vstack((band_A, fifth_row))\n",
    "\n",
    "band_A"
   ]
  },
  {
   "cell_type": "code",
   "execution_count": 82,
   "metadata": {},
   "outputs": [
    {
     "name": "stdout",
     "output_type": "stream",
     "text": [
      "decomposition time:  0.0015332840266637504\n",
      "decomposition time:  0.0010570089798420668\n"
     ]
    }
   ],
   "source": [
    "start = timeit.default_timer()\n",
    "R_band = linalg.cholesky_banded(band_A, lower=False)\n",
    "end = timeit.default_timer()\n",
    "print(\"decomposition time: \", end-start)\n",
    "\n",
    "start = timeit.default_timer()\n",
    "x = linalg.cho_solve_banded((R_band, False), b)\n",
    "end = timeit.default_timer()\n",
    "print(\"decomposition time: \", end-start)\n"
   ]
  },
  {
   "cell_type": "markdown",
   "metadata": {},
   "source": [
    "# Low-Level Lapack 함수의 활용\n",
    "현재 SciPy에서 $LD{L}^T$ low-level Lapack 함수를 제공 안함,  Cython을 사용하면 가능\n",
    "- **linalg.get_lapack_funcs**"
   ]
  },
  {
   "cell_type": "markdown",
   "metadata": {},
   "source": [
    "## 밴드 행렬  LU Decomposition\n",
    "- gbtrf: 밴드 행렬의 LU Decomposition\n",
    "- gbtrf = linalg.get_lapack_funcs(\"gbtrf\", dtype=np.float64)\n",
    "- LU_band, piv, info = gbtrf(A_band_LU, lbw, ubw)\n",
    "    - LU_band: L, U를 하나의 band형태로 저장\n",
    "    - piv: 1D array (vector): row interchange 정보를 저장\n",
    "    - info: 함수가 제대로 돌았나, i=0: 정상, i>0: singular, i<0: 잘못된 입력\n",
    "    - A_band_LU: 우리가 배운 A_band와는 다름\n",
    "        - 기존 A_band row size: lbw + ubw + 1\n",
    "        - A_band_LU row size: (ld) = lbw * 2 + ubw + 1 (lower band width * 2이다.)\n",
    "    - dummy_array = np.zeros((lbw, A_band.shape[1]))\n",
    "    - A_band_LU = np.vstack((dummy_array, A_band))"
   ]
  },
  {
   "cell_type": "code",
   "execution_count": 8,
   "metadata": {},
   "outputs": [
    {
     "name": "stdout",
     "output_type": "stream",
     "text": [
      "Matrix A:  [[1. 2. 0. 0. 0.]\n",
      " [1. 1. 2. 0. 0.]\n",
      " [2. 1. 1. 2. 0.]\n",
      " [0. 2. 1. 1. 2.]\n",
      " [0. 0. 2. 1. 1.]]\n",
      "\n",
      "band_A:  [[0. 2. 2. 2. 2.]\n",
      " [1. 1. 1. 1. 1.]\n",
      " [1. 1. 1. 1. 0.]\n",
      " [2. 2. 2. 0. 0.]]\n"
     ]
    }
   ],
   "source": [
    "first_band = 2 * np.ones((4,))\n",
    "diag_band = np.ones((5,))\n",
    "first_low_band = np.ones((4,))\n",
    "second_low_band = 2 * np.ones((3,))\n",
    "\n",
    "zr1 = np.zeros((1,))\n",
    "zr2 = np.zeros((2,))\n",
    "\n",
    "\n",
    "A = np.diag(diag_band) + np.diag(first_band, k=1) + np.diag(first_low_band, k=-1) + np.diag(second_low_band, k=-2)\n",
    "\n",
    "first_band_row = np.hstack((zr1, first_band))\n",
    "lower_first_row = np.hstack((first_low_band, zr1))\n",
    "lower_second_row = np.hstack((second_low_band, zr2))\n",
    "\n",
    "band_A = np.vstack((first_band_row, diag_band))\n",
    "band_A = np.vstack((band_A, lower_first_row))\n",
    "band_A = np.vstack((band_A, lower_second_row))\n",
    "\n",
    "print(\"Matrix A: \", A)\n",
    "print()\n",
    "print(\"band_A: \", band_A)"
   ]
  },
  {
   "cell_type": "code",
   "execution_count": 11,
   "metadata": {},
   "outputs": [
    {
     "name": "stdout",
     "output_type": "stream",
     "text": [
      "dummy_array:  [[0. 0. 0. 0. 0.]\n",
      " [0. 0. 0. 0. 0.]]\n",
      "\n",
      "A_band_LU:  [[0. 0. 0. 0. 0.]\n",
      " [0. 0. 0. 0. 0.]\n",
      " [0. 2. 2. 2. 2.]\n",
      " [1. 1. 1. 1. 1.]\n",
      " [1. 1. 1. 1. 0.]\n",
      " [2. 2. 2. 0. 0.]]\n"
     ]
    }
   ],
   "source": [
    "dummy_array = np.zeros((2, band_A.shape[1]))\n",
    "A_band_LU = np.vstack((dummy_array, band_A))\n",
    "\n",
    "print(\"dummy_array: \", dummy_array)\n",
    "print()\n",
    "print(\"A_band_LU: \", A_band_LU)"
   ]
  },
  {
   "cell_type": "markdown",
   "metadata": {},
   "source": [
    "## 밴드 행렬 LU Decomposition Solver\n",
    "- gbtrs: 밴드 행렬의 LU dcomposition solver\n",
    "- gbtrs = linalg.get_lapack_funcs(\"gbtrs\", dtype=np.float64)\n",
    "- x, info = gbtrs(LU_band, lbw, ubw, b, piv)\n",
    "    - info: i = 0: 정상, i < 0: 잘못된 입력\n",
    "    - LU_band, piv: gbtrf의 결과"
   ]
  },
  {
   "cell_type": "code",
   "execution_count": 29,
   "metadata": {},
   "outputs": [
    {
     "name": "stdout",
     "output_type": "stream",
     "text": [
      "True\n"
     ]
    }
   ],
   "source": [
    "gbtrf = linalg.get_lapack_funcs(\"gbtrf\", dtype=np.float64)\n",
    "gbtrs = linalg.get_lapack_funcs(\"gbtrs\", dtype=np.float64)\n",
    "\n",
    "dummy_array = np.zeros((2, band_A.shape[1]))  #(2, 5)\n",
    "A_band_LU = np.vstack((dummy_array, band_A))\n",
    "b = np.ones((5,))\n",
    "\n",
    "LU_band, piv, info = gbtrf(A_band_LU, 2, 1)\n",
    "x, info = gbtrs(LU_band, 2, 1, b, piv)\n",
    "\n",
    "print(np.allclose(A@x, b))"
   ]
  },
  {
   "cell_type": "markdown",
   "metadata": {},
   "source": [
    "## lu_factor / lu_solve V.S gbtrf / gbrts"
   ]
  },
  {
   "cell_type": "code",
   "execution_count": 41,
   "metadata": {},
   "outputs": [
    {
     "name": "stdout",
     "output_type": "stream",
     "text": [
      "A:  [[5. 1. 0. ... 0. 0. 0.]\n",
      " [1. 5. 1. ... 0. 0. 0.]\n",
      " [0. 1. 5. ... 0. 0. 0.]\n",
      " ...\n",
      " [0. 0. 0. ... 5. 1. 0.]\n",
      " [0. 0. 0. ... 1. 5. 1.]\n",
      " [0. 0. 0. ... 0. 1. 5.]]\n",
      "\n",
      "A_band:  [[0. 1. 1. ... 1. 1. 1.]\n",
      " [5. 5. 5. ... 5. 5. 5.]\n",
      " [1. 1. 1. ... 1. 1. 0.]]\n"
     ]
    }
   ],
   "source": [
    "diag_entries = 5 * np.ones((1000,))\n",
    "first_upper_band = np.ones((999,))\n",
    "first_lower_band = np.ones((999,))\n",
    "zr1 = np.zeros((1,))\n",
    "zr2 = np.zeros((2,))\n",
    "\n",
    "first_band_row = np.hstack((zr1, first_upper_band))\n",
    "third_band_row = np.hstack((first_lower_band, zr1))\n",
    "\n",
    "A = np.diag(diag_entries) + np.diag(first_upper_band, k=1) + np.diag(first_lower_band, k=-1)\n",
    "A_band = np.vstack((first_band_row, diag_entries))\n",
    "A_band = np.vstack((A_band, third_band_row))\n",
    "b = np.ones((1000,))\n",
    "\n",
    "print(\"A: \", A)\n",
    "print()\n",
    "print(\"A_band: \", A_band)"
   ]
  },
  {
   "cell_type": "code",
   "execution_count": 42,
   "metadata": {},
   "outputs": [
    {
     "name": "stdout",
     "output_type": "stream",
     "text": [
      "LU decomposition time:  0.01643508000051952\n",
      "x time:  0.0009049760001289542\n",
      "total time:  0.017340056000648474\n"
     ]
    }
   ],
   "source": [
    "start1 = timeit.default_timer()\n",
    "lu, piv = linalg.lu_factor(A)\n",
    "end1 = timeit.default_timer()\n",
    "print(\"LU decomposition time: \", end1-start1)\n",
    "\n",
    "start2  = timeit.default_timer()\n",
    "x = linalg.lu_solve((lu, piv), b)\n",
    "end2 = timeit.default_timer()\n",
    "print(\"x time: \", end2-start2)\n",
    "print(\"total time: \", (end1-start1) + (end2-start2))"
   ]
  },
  {
   "cell_type": "code",
   "execution_count": 43,
   "metadata": {},
   "outputs": [
    {
     "data": {
      "text/plain": [
       "array([[0., 0., 0., ..., 0., 0., 0.],\n",
       "       [0., 1., 1., ..., 1., 1., 1.],\n",
       "       [5., 5., 5., ..., 5., 5., 5.],\n",
       "       [1., 1., 1., ..., 1., 1., 0.]])"
      ]
     },
     "execution_count": 43,
     "metadata": {},
     "output_type": "execute_result"
    }
   ],
   "source": [
    "# Construct A_band_LU\n",
    "gbtrf = linalg.get_lapack_funcs(\"gbtrf\", dtype=np.float64)\n",
    "gbtrs = linalg.get_lapack_funcs(\"gbtrs\", dtype=np.float64)\n",
    "\n",
    "dummy_array = np.zeros((1, A_band.shape[1]))\n",
    "A_band_LU = np.vstack((dummy_array, A_band))\n",
    "\n",
    "A_band_LU"
   ]
  },
  {
   "cell_type": "code",
   "execution_count": 44,
   "metadata": {},
   "outputs": [
    {
     "name": "stdout",
     "output_type": "stream",
     "text": [
      "gbtrf time:  0.00024131099962687586\n",
      "gbtrs time:  0.000177590000021155\n",
      "total time:  0.00041890099964803085\n"
     ]
    }
   ],
   "source": [
    "start3 = timeit.default_timer()\n",
    "LU_band, piv, info = gbtrf(A_band, 1, 1)\n",
    "end3 = timeit.default_timer()\n",
    "print(\"gbtrf time: \", end3 - start3)\n",
    "\n",
    "start4 = timeit.default_timer()\n",
    "x, info = gbtrs(LU_band, 1,1, b, piv)\n",
    "end4 = timeit.default_timer()\n",
    "print(\"gbtrs time: \", end4 - start4)\n",
    "print('total time: ', (end4 - start4) + (end3 - start3))\n"
   ]
  },
  {
   "cell_type": "markdown",
   "metadata": {},
   "source": [
    "#### Lapack  함수를 이용한 solver가 더 시간이 적게 걸렸다."
   ]
  },
  {
   "cell_type": "markdown",
   "metadata": {},
   "source": [
    "# 행렬 분해 (3)\n",
    "## QR Decomposition\n",
    "- A = QR (Q: orthogonal / unitary, R: upper triangular matrix)\n",
    "- **linalg.qr**\n",
    "    - Lapck: geqrf, orgqr / ungqr\n",
    "- Q, R = linalg.qr(A, mode=\"economic\")\n",
    "    - mode = \"economic\"으로 하면 불필요한 0들을 제외하고 연산하여 더 효울적임, 기본적으로 \"economic\"사용을 권장"
   ]
  },
  {
   "cell_type": "code",
   "execution_count": 51,
   "metadata": {},
   "outputs": [
    {
     "name": "stdout",
     "output_type": "stream",
     "text": [
      "True\n"
     ]
    }
   ],
   "source": [
    "A = np.tri(4,3)\n",
    "Q, R = linalg.qr(A, mode=\"economic\")\n",
    "print(np.allclose(A, Q@R))"
   ]
  },
  {
   "cell_type": "markdown",
   "metadata": {},
   "source": [
    "## One-step Approach QR Algorithm 흉내내보기\n",
    "- $A = {Q}_1{R}_1 \\to {A}_1 = {R}_1{Q}_1$, ${A}_1$ is similar to A\n",
    "- ${A}_1 = {Q}_2{R}_2 \\to {A}_2 = {R}_2{Q}_2$, ${A}_2$ is similar to A\n",
    "- $\\vdots$\n",
    "- ${A}_{k-1} = {Q}_k{R}_k \\to {A}_k = {R}_k{Q}_k$, ${A}_k$ is similar to A\n",
    "- ${A}_k$ is upper triangular matrix\n",
    "$\\Longrightarrow$ ${A}_k$의 대각선 entries: eigenvalues! "
   ]
  },
  {
   "cell_type": "code",
   "execution_count": 62,
   "metadata": {},
   "outputs": [
    {
     "name": "stdout",
     "output_type": "stream",
     "text": [
      "0\n",
      "[[-0.89473684 -0.94257159 -8.2171486 ]\n",
      " [ 0.33663271 -2.28708134 -2.5027171 ]\n",
      " [-0.29346959  0.25027171  0.18181818]]\n",
      "1\n",
      "[[-2.78947368  0.27078724  5.90167107]\n",
      " [-0.75820427 -1.73993808  5.66791813]\n",
      " [-0.47213369  0.16194052  1.52941176]]\n",
      "2\n",
      "[[-1.65030675 -0.23261249 -7.72147344]\n",
      " [ 0.16650157 -2.1107552  -3.67647206]\n",
      " [-0.1250441   0.0831781   0.76106195]]\n",
      "3\n",
      "[[-2.19290466  0.10164088  7.09228963]\n",
      " [-0.1241721  -1.9345741   4.56528391]\n",
      " [-0.08506494  0.04482046  1.12747875]]\n",
      "4\n",
      "[[-1.90775585 -0.05542518 -7.45732128]\n",
      " [ 0.05060771 -2.0304078  -4.09129432]\n",
      " [-0.03634394  0.02183736  0.93816365]]\n",
      "5\n",
      "[[-2.04723517  0.02669637  7.28948697]\n",
      " [-0.02799846 -1.98417583  4.32081471]\n",
      " [-0.01964325  0.01110197  1.031411  ]]\n",
      "6\n",
      "[[-1.97665475e+00 -1.36179681e-02 -7.37679133e+00]\n",
      " [ 1.33049207e-02 -2.00776115e+00 -4.20417936e+00]\n",
      " [-9.44474854e-03  5.50939816e-03  9.84415898e-01]]\n",
      "7\n",
      "[[-2.01174155e+00  6.74357474e-03  7.33401977e+00]\n",
      " [-6.82337974e-03 -1.99608110e+00  4.26202779e+00]\n",
      " [-4.81543461e-03  2.76566978e-03  1.00782265e+00]]\n",
      "8\n",
      "[[-1.99414636e+00 -3.38838987e-03 -7.35562138e+00]\n",
      " [ 3.36863253e-03 -2.00194994e+00 -4.23298625e+00]\n",
      " [-2.38430906e-03  1.38016108e-03  9.96096296e-01]]\n",
      "9\n",
      "[[-2.00293112e+00  1.69007586e-03  7.34487507e+00]\n",
      " [-1.69503937e-03 -1.99902264e+00  4.24747768e+00]\n",
      " [-1.19798859e-03  6.90757777e-04  1.00195376e+00]]\n",
      "10\n",
      "[[-1.99853551e+00 -8.46071624e-04 -7.35026178e+00]\n",
      " [ 8.44833773e-04 -2.00048808e+00 -4.24022463e+00]\n",
      " [-5.97533536e-04  3.45210666e-04  9.99023596e-01]]\n",
      "11\n",
      "[[-2.00073251e+00  4.22777880e-04  7.34757182e+00]\n",
      " [-4.23087721e-04 -1.99975581e+00  4.24384933e+00]\n",
      " [-2.99131677e-04  1.72647525e-04  1.00048832e+00]]\n",
      "12\n",
      "[[-1.99963381e+00 -2.11453484e-04 -7.34891765e+00]\n",
      " [ 2.11376072e-04 -2.00012206e+00 -4.24203652e+00]\n",
      " [-1.49474576e-04  8.63132316e-05  9.99755869e-01]]\n",
      "13\n",
      "[[-2.00018311e+00  1.05710614e-04  7.34824495e+00]\n",
      " [-1.05729973e-04 -1.99993896e+00  4.24294281e+00]\n",
      " [-7.47600993e-05  4.31592507e-05  1.00012207e+00]]\n",
      "14\n",
      "[[-1.99990845e+00 -5.28593400e-05 -7.34858135e+00]\n",
      " [ 5.28545009e-05 -2.00003052e+00 -4.24248964e+00]\n",
      " [-3.73743463e-05  2.15789669e-05  9.99938965e-01]]\n",
      "15\n",
      "[[-2.00004578e+00  2.64286618e-05  7.34841316e+00]\n",
      " [-2.64298717e-05 -1.99998474e+00  4.24271622e+00]\n",
      " [-1.86885989e-05  1.07896481e-05  1.00003052e+00]]\n",
      "16\n",
      "[[-1.99997711e+00 -1.32145830e-05 -7.34849726e+00]\n",
      " [ 1.32142805e-05 -2.00000763e+00 -4.24260292e+00]\n",
      " [-9.34394301e-06  5.39478289e-06  9.99984741e-01]]\n",
      "17\n",
      "[[-2.00001144e+00  6.60722847e-06  7.34845521e+00]\n",
      " [-6.60730409e-06 -1.99999619e+00  4.24265957e+00]\n",
      " [-4.67206062e-06  2.69740173e-06  1.00000763e+00]]\n",
      "18\n",
      "[[-1.99999428e+00 -3.30362999e-06 -7.34847624e+00]\n",
      " [ 3.30361109e-06 -2.00000191e+00 -4.24263125e+00]\n",
      " [-2.33600803e-06  1.34869829e-06  9.99996185e-01]]\n",
      "19\n",
      "[[-2.00000286e+00  1.65181106e-06  7.34846572e+00]\n",
      " [-1.65181578e-06 -1.99999905e+00  4.24264541e+00]\n",
      " [-1.16800958e-06  6.74349791e-07  1.00000191e+00]]\n",
      "20\n",
      "[[-1.99999857e+00 -8.25906514e-07 -7.34847098e+00]\n",
      " [ 8.25905331e-07 -2.00000048e+00 -4.24263833e+00]\n",
      " [-5.84003400e-07  3.37174734e-07  9.99999046e-01]]\n",
      "21\n",
      "[[-2.00000072e+00  4.12953009e-07  7.34846835e+00]\n",
      " [-4.12953306e-07 -1.99999976e+00  4.24264187e+00]\n",
      " [-2.92002048e-07  1.68587407e-07  1.00000048e+00]]\n",
      "22\n",
      "[[-1.99999964e+00 -2.06476568e-07 -7.34846967e+00]\n",
      " [ 2.06476493e-07 -2.00000012e+00 -4.24264010e+00]\n",
      " [-1.46000937e-07  8.42936937e-08  9.99999762e-01]]\n",
      "23\n",
      "[[-2.00000018e+00  1.03238267e-07  7.34846901e+00]\n",
      " [-1.03238287e-07 -1.99999994e+00  4.24264098e+00]\n",
      " [-7.30004903e-08  4.21468493e-08  1.00000012e+00]]\n",
      "24\n",
      "[[-1.99999991e+00 -5.16191391e-08 -7.34846934e+00]\n",
      " [ 5.16191330e-08 -2.00000003e+00 -4.24264054e+00]\n",
      " [-3.65002397e-08  2.10734240e-08  9.99999940e-01]]\n",
      "25\n",
      "[[-2.00000004e+00  2.58095667e-08  7.34846917e+00]\n",
      " [-2.58095693e-08 -1.99999999e+00  4.24264076e+00]\n",
      " [-1.82501212e-08  1.05367122e-08  1.00000003e+00]]\n",
      "26\n",
      "[[-1.99999998e+00 -1.29047855e-08 -7.34846926e+00]\n",
      " [ 1.29047837e-08 -2.00000001e+00 -4.24264065e+00]\n",
      " [-9.12506026e-09  5.26835605e-09  9.99999985e-01]]\n",
      "27\n",
      "[[-2.00000001e+00  6.45239079e-09  7.34846921e+00]\n",
      " [-6.45239234e-09 -2.00000000e+00  4.24264071e+00]\n",
      " [-4.56253022e-09  2.63417804e-09  1.00000001e+00]]\n",
      "28\n",
      "[[-1.99999999e+00 -3.22619730e-09 -7.34846924e+00]\n",
      " [ 3.22619580e-09 -2.00000000e+00 -4.24264068e+00]\n",
      " [-2.28126509e-09  1.31708902e-09  9.99999996e-01]]\n",
      "29\n",
      "[[-2.00000000e+00  1.61309676e-09  7.34846922e+00]\n",
      " [-1.61309824e-09 -2.00000000e+00  4.24264069e+00]\n",
      " [-1.14063255e-09  6.58544508e-10  1.00000000e+00]]\n",
      "30\n",
      "[[-2.00000000e+00 -8.06550269e-10 -7.34846923e+00]\n",
      " [ 8.06548788e-10 -2.00000000e+00 -4.24264068e+00]\n",
      " [-5.70316273e-10  3.29272254e-10  9.99999999e-01]]\n",
      "31\n",
      "[[-2.00000000e+00  4.03273245e-10  7.34846923e+00]\n",
      " [-4.03274725e-10 -2.00000000e+00  4.24264069e+00]\n",
      " [-2.85158137e-10  1.64636127e-10  1.00000000e+00]]\n",
      "32\n",
      "[[-2.00000000e+00 -2.01638512e-10 -7.34846923e+00]\n",
      " [ 2.01637032e-10 -2.00000000e+00 -4.24264069e+00]\n",
      " [-1.42579068e-10  8.23180635e-11  1.00000000e+00]]\n",
      "33\n",
      "[[-2.00000000e+00  1.00817366e-10  7.34846923e+00]\n",
      " [-1.00818846e-10 -2.00000000e+00  4.24264069e+00]\n",
      " [-7.12895342e-11  4.11590317e-11  1.00000000e+00]]\n",
      "34\n",
      "[[-2.00000000e+00 -5.04105728e-11 -7.34846923e+00]\n",
      " [ 5.04090931e-11 -2.00000000e+00 -4.24264069e+00]\n",
      " [-3.56447671e-11  2.05795159e-11  1.00000000e+00]]\n",
      "35\n",
      "[[-2.00000000e+00  2.52033968e-11  7.34846923e+00]\n",
      " [-2.52048765e-11 -2.00000000e+00  4.24264069e+00]\n",
      " [-1.78223835e-11  1.02897579e-11  1.00000000e+00]]\n",
      "36\n",
      "[[-2.00000000e+00 -1.26035880e-11 -7.34846923e+00]\n",
      " [ 1.26021083e-11 -2.00000000e+00 -4.24264069e+00]\n",
      " [-8.91119177e-12  5.14487897e-12  1.00000000e+00]]\n",
      "37\n",
      "[[-2.00000000e+00  6.29990438e-12  7.34846923e+00]\n",
      " [-6.30138412e-12 -2.00000000e+00  4.24264069e+00]\n",
      " [-4.45559589e-12  2.57243948e-12  1.00000000e+00]]\n",
      "38\n",
      "[[-2.00000000e+00 -3.15184182e-12 -7.34846923e+00]\n",
      " [ 3.15036208e-12 -2.00000000e+00 -4.24264069e+00]\n",
      " [-2.22779794e-12  1.28621974e-12  1.00000000e+00]]\n",
      "39\n",
      "[[-2.00000000e+00  1.57403128e-12  7.34846923e+00]\n",
      " [-1.57551102e-12 -2.00000000e+00  4.24264069e+00]\n",
      " [-1.11389897e-12  6.43109871e-13  1.00000000e+00]]\n",
      "40\n",
      "[[-2.00000000e+00 -7.88905269e-13 -7.34846923e+00]\n",
      " [ 7.87425529e-13 -2.00000000e+00 -4.24264069e+00]\n",
      " [-5.56949486e-13  3.21554936e-13  1.00000000e+00]]\n",
      "41\n",
      "[[-2.00000000e+00  3.92563005e-13  7.34846923e+00]\n",
      " [-3.94042745e-13 -2.00000000e+00  4.24264069e+00]\n",
      " [-2.78474743e-13  1.60777468e-13  1.00000000e+00]]\n",
      "42\n",
      "[[-2.00000000e+00 -1.98171132e-13 -7.34846923e+00]\n",
      " [ 1.96691392e-13 -2.00000000e+00 -4.24264069e+00]\n",
      " [-1.39237371e-13  8.03887339e-14  1.00000000e+00]]\n",
      "43\n",
      "[[-2.00000000e+00  9.71959367e-14  7.34846923e+00]\n",
      " [-9.86756765e-14 -2.00000000e+00  4.24264069e+00]\n",
      " [-6.96186857e-14  4.01943669e-14  1.00000000e+00]]\n",
      "44\n",
      "[[-2.00000000e+00 -5.04875976e-14 -7.34846923e+00]\n",
      " [ 4.90078578e-14 -2.00000000e+00 -4.24264069e+00]\n",
      " [-3.48093429e-14  2.00971835e-14  1.00000000e+00]]\n",
      "45\n",
      "[[-2.00000000e+00  2.33541695e-14  7.34846923e+00]\n",
      " [-2.48339093e-14 -2.00000000e+00  4.24264069e+00]\n",
      " [-1.74046714e-14  1.00485917e-14  1.00000000e+00]]\n",
      "46\n",
      "[[-2.00000000e+00 -1.35667141e-14 -7.34846923e+00]\n",
      " [ 1.20869742e-14 -2.00000000e+00 -4.24264069e+00]\n",
      " [-8.70233572e-15  5.02429587e-15  1.00000000e+00]]\n",
      "47\n",
      "[[-2.00000000e+00  4.89372774e-15  7.34846923e+00]\n",
      " [-6.37346754e-15 -2.00000000e+00  4.24264069e+00]\n",
      " [-4.35116786e-15  2.51214793e-15  1.00000000e+00]]\n",
      "48\n",
      "[[-2.00000000e+00 -4.33649316e-15 -7.34846923e+00]\n",
      " [ 2.85675335e-15 -2.00000000e+00 -4.24264069e+00]\n",
      " [-2.17558393e-15  1.25607397e-15  1.00000000e+00]]\n",
      "49\n",
      "[[-2.00000000e+00  2.78617290e-16  7.34846923e+00]\n",
      " [-1.75835709e-15 -2.00000000e+00  4.24264069e+00]\n",
      " [-1.08779196e-15  6.28036983e-16  1.00000000e+00]]\n",
      "50\n",
      "[[-2.00000000e+00 -2.02893793e-15 -7.34846923e+00]\n",
      " [ 5.49198130e-16 -2.00000000e+00 -4.24264069e+00]\n",
      " [-5.43895982e-16  3.14018492e-16  1.00000000e+00]]\n",
      "51\n",
      "[[-2.00000000e+00 -8.75160321e-16  7.34846923e+00]\n",
      " [-6.04579482e-16 -2.00000000e+00  4.24264069e+00]\n",
      " [-2.71947991e-16  1.57009246e-16  1.00000000e+00]]\n",
      "52\n",
      "[[-2.00000000e+00 -1.45204913e-15 -7.34846923e+00]\n",
      " [-2.76906764e-17 -2.00000000e+00 -4.24264069e+00]\n",
      " [-1.35973996e-16  7.85046229e-17  1.00000000e+00]]\n",
      "53\n",
      "[[-2.00000000e+00 -1.16360472e-15  7.34846923e+00]\n",
      " [-3.16135079e-16 -2.00000000e+00  4.24264069e+00]\n",
      " [-6.79869978e-17  3.92523115e-17  1.00000000e+00]]\n",
      "54\n",
      "[[-2.00000000e+00 -1.30782693e-15 -7.34846923e+00]\n",
      " [-1.71912878e-16 -2.00000000e+00 -4.24264069e+00]\n",
      " [-3.39934989e-17  1.96261557e-17  1.00000000e+00]]\n",
      "55\n",
      "[[-2.00000000e+00 -1.23571583e-15  7.34846923e+00]\n",
      " [-2.44023979e-16 -2.00000000e+00  4.24264069e+00]\n",
      " [-1.69967494e-17  9.81307787e-18  1.00000000e+00]]\n",
      "56\n",
      "[[-2.00000000e+00 -1.27177138e-15 -7.34846923e+00]\n",
      " [-2.07968428e-16 -2.00000000e+00 -4.24264069e+00]\n",
      " [-8.49837472e-18  4.90653893e-18  1.00000000e+00]]\n",
      "57\n",
      "[[-2.00000000e+00 -1.25374360e-15  7.34846923e+00]\n",
      " [-2.25996203e-16 -2.00000000e+00  4.24264069e+00]\n",
      " [-4.24918736e-18  2.45326947e-18  1.00000000e+00]]\n",
      "58\n",
      "[[-2.00000000e+00 -1.26275749e-15 -7.34846923e+00]\n",
      " [-2.16982316e-16 -2.00000000e+00 -4.24264069e+00]\n",
      " [-2.12459368e-18  1.22663473e-18  1.00000000e+00]]\n",
      "59\n",
      "[[-2.00000000e+00 -1.25825054e-15  7.34846923e+00]\n",
      " [-2.21489260e-16 -2.00000000e+00  4.24264069e+00]\n",
      " [-1.06229684e-18  6.13317367e-19  1.00000000e+00]]\n",
      "60\n",
      "[[-2.00000000e+00 -1.26050402e-15 -7.34846923e+00]\n",
      " [-2.19235788e-16 -2.00000000e+00 -4.24264069e+00]\n",
      " [-5.31148420e-19  3.06658683e-19  1.00000000e+00]]\n",
      "61\n",
      "[[-2.00000000e+00 -1.25937728e-15  7.34846923e+00]\n",
      " [-2.20362524e-16 -2.00000000e+00  4.24264069e+00]\n",
      " [-2.65574210e-19  1.53329342e-19  1.00000000e+00]]\n",
      "62\n",
      "[[-2.00000000e+00 -1.25994065e-15 -7.34846923e+00]\n",
      " [-2.19799156e-16 -2.00000000e+00 -4.24264069e+00]\n",
      " [-1.32787105e-19  7.66646708e-20  1.00000000e+00]]\n",
      "63\n",
      "[[-2.00000000e+00 -1.25965896e-15  7.34846923e+00]\n",
      " [-2.20080840e-16 -2.00000000e+00  4.24264069e+00]\n",
      " [-6.63935525e-20  3.83323354e-20  1.00000000e+00]]\n",
      "64\n",
      "[[-2.00000000e+00 -1.25979981e-15 -7.34846923e+00]\n",
      " [-2.19939998e-16 -2.00000000e+00 -4.24264069e+00]\n",
      " [-3.31967763e-20  1.91661677e-20  1.00000000e+00]]\n",
      "65\n",
      "[[-2.00000000e+00 -1.25972939e-15  7.34846923e+00]\n",
      " [-2.20010419e-16 -2.00000000e+00  4.24264069e+00]\n",
      " [-1.65983881e-20  9.58308385e-21  1.00000000e+00]]\n",
      "66\n",
      "[[-2.00000000e+00 -1.25976460e-15 -7.34846923e+00]\n",
      " [-2.19975208e-16 -2.00000000e+00 -4.24264069e+00]\n",
      " [-8.29919406e-21  4.79154193e-21  1.00000000e+00]]\n",
      "67\n",
      "[[-2.00000000e+00 -1.25974699e-15  7.34846923e+00]\n",
      " [-2.19992813e-16 -2.00000000e+00  4.24264069e+00]\n",
      " [-4.14959703e-21  2.39577096e-21  1.00000000e+00]]\n",
      "68\n",
      "[[-2.00000000e+00 -1.25975579e-15 -7.34846923e+00]\n",
      " [-2.19984011e-16 -2.00000000e+00 -4.24264069e+00]\n",
      " [-2.07479852e-21  1.19788548e-21  1.00000000e+00]]\n",
      "69\n",
      "[[-2.00000000e+00 -1.25975139e-15  7.34846923e+00]\n",
      " [-2.19988412e-16 -2.00000000e+00  4.24264069e+00]\n",
      " [-1.03739926e-21  5.98942741e-22  1.00000000e+00]]\n",
      "70\n",
      "[[-2.00000000e+00 -1.25975359e-15 -7.34846923e+00]\n",
      " [-2.19986211e-16 -2.00000000e+00 -4.24264069e+00]\n",
      " [-5.18699629e-22  2.99471370e-22  1.00000000e+00]]\n",
      "71\n",
      "[[-2.00000000e+00 -1.25975249e-15  7.34846923e+00]\n",
      " [-2.19987312e-16 -2.00000000e+00  4.24264069e+00]\n",
      " [-2.59349815e-22  1.49735685e-22  1.00000000e+00]]\n",
      "72\n",
      "[[-2.00000000e+00 -1.25975304e-15 -7.34846923e+00]\n",
      " [-2.19986762e-16 -2.00000000e+00 -4.24264069e+00]\n",
      " [-1.29674907e-22  7.48678426e-23  1.00000000e+00]]\n",
      "73\n",
      "[[-2.00000000e+00 -1.25975277e-15  7.34846923e+00]\n",
      " [-2.19987037e-16 -2.00000000e+00  4.24264069e+00]\n",
      " [-6.48374536e-23  3.74339213e-23  1.00000000e+00]]\n",
      "74\n",
      "[[-2.00000000e+00 -1.25975290e-15 -7.34846923e+00]\n",
      " [-2.19986899e-16 -2.00000000e+00 -4.24264069e+00]\n",
      " [-3.24187268e-23  1.87169607e-23  1.00000000e+00]]\n",
      "75\n",
      "[[-2.00000000e+00 -1.25975284e-15  7.34846923e+00]\n",
      " [-2.19986968e-16 -2.00000000e+00  4.24264069e+00]\n",
      " [-1.62093634e-23  9.35848033e-24  1.00000000e+00]]\n",
      "76\n",
      "[[-2.00000000e+00 -1.25975287e-15 -7.34846923e+00]\n",
      " [-2.19986934e-16 -2.00000000e+00 -4.24264069e+00]\n",
      " [-8.10468170e-24  4.67924016e-24  1.00000000e+00]]\n",
      "77\n",
      "[[-2.00000000e+00 -1.25975285e-15  7.34846923e+00]\n",
      " [-2.19986951e-16 -2.00000000e+00  4.24264069e+00]\n",
      " [-4.05234085e-24  2.33962008e-24  1.00000000e+00]]\n",
      "78\n",
      "[[-2.00000000e+00 -1.25975286e-15 -7.34846923e+00]\n",
      " [-2.19986942e-16 -2.00000000e+00 -4.24264069e+00]\n",
      " [-2.02617043e-24  1.16981004e-24  1.00000000e+00]]\n",
      "79\n",
      "[[-2.00000000e+00 -1.25975286e-15  7.34846923e+00]\n",
      " [-2.19986946e-16 -2.00000000e+00  4.24264069e+00]\n",
      " [-1.01308521e-24  5.84905020e-25  1.00000000e+00]]\n",
      "80\n",
      "[[-2.00000000e+00 -1.25975286e-15 -7.34846923e+00]\n",
      " [-2.19986944e-16 -2.00000000e+00 -4.24264069e+00]\n",
      " [-5.06542606e-25  2.92452510e-25  1.00000000e+00]]\n",
      "81\n",
      "[[-2.00000000e+00 -1.25975286e-15  7.34846923e+00]\n",
      " [-2.19986945e-16 -2.00000000e+00  4.24264069e+00]\n",
      " [-2.53271303e-25  1.46226255e-25  1.00000000e+00]]\n",
      "82\n",
      "[[-2.00000000e+00 -1.25975286e-15 -7.34846923e+00]\n",
      " [-2.19986945e-16 -2.00000000e+00 -4.24264069e+00]\n",
      " [-1.26635652e-25  7.31131276e-26  1.00000000e+00]]\n",
      "83\n",
      "[[-2.00000000e+00 -1.25975286e-15  7.34846923e+00]\n",
      " [-2.19986945e-16 -2.00000000e+00  4.24264069e+00]\n",
      " [-6.33178258e-26  3.65565638e-26  1.00000000e+00]]\n",
      "84\n",
      "[[-2.00000000e+00 -1.25975286e-15 -7.34846923e+00]\n",
      " [-2.19986945e-16 -2.00000000e+00 -4.24264069e+00]\n",
      " [-3.16589129e-26  1.82782819e-26  1.00000000e+00]]\n",
      "85\n",
      "[[-2.00000000e+00 -1.25975286e-15  7.34846923e+00]\n",
      " [-2.19986945e-16 -2.00000000e+00  4.24264069e+00]\n",
      " [-1.58294565e-26  9.13914094e-27  1.00000000e+00]]\n",
      "86\n",
      "[[-2.00000000e+00 -1.25975286e-15 -7.34846923e+00]\n",
      " [-2.19986945e-16 -2.00000000e+00 -4.24264069e+00]\n",
      " [-7.91472823e-27  4.56957047e-27  1.00000000e+00]]\n",
      "87\n",
      "[[-2.00000000e+00 -1.25975286e-15  7.34846923e+00]\n",
      " [-2.19986945e-16 -2.00000000e+00  4.24264069e+00]\n",
      " [-3.95736411e-27  2.28478524e-27  1.00000000e+00]]\n",
      "88\n",
      "[[-2.00000000e+00 -1.25975286e-15 -7.34846923e+00]\n",
      " [-2.19986945e-16 -2.00000000e+00 -4.24264069e+00]\n",
      " [-1.97868206e-27  1.14239262e-27  1.00000000e+00]]\n",
      "89\n",
      "[[-2.00000000e+00 -1.25975286e-15  7.34846923e+00]\n",
      " [-2.19986945e-16 -2.00000000e+00  4.24264069e+00]\n",
      " [-9.89341028e-28  5.71196309e-28  1.00000000e+00]]\n",
      "90\n",
      "[[-2.00000000e+00 -1.25975286e-15 -7.34846923e+00]\n",
      " [-2.19986945e-16 -2.00000000e+00 -4.24264069e+00]\n",
      " [-4.94670514e-28  2.85598154e-28  1.00000000e+00]]\n",
      "91\n",
      "[[-2.00000000e+00 -1.25975286e-15  7.34846923e+00]\n",
      " [-2.19986945e-16 -2.00000000e+00  4.24264069e+00]\n",
      " [-2.47335257e-28  1.42799077e-28  1.00000000e+00]]\n",
      "92\n",
      "[[-2.00000000e+00 -1.25975286e-15 -7.34846923e+00]\n",
      " [-2.19986945e-16 -2.00000000e+00 -4.24264069e+00]\n",
      " [-1.23667629e-28  7.13995386e-29  1.00000000e+00]]\n",
      "93\n",
      "[[-2.00000000e+00 -1.25975286e-15  7.34846923e+00]\n",
      " [-2.19986945e-16 -2.00000000e+00  4.24264069e+00]\n",
      " [-6.18338143e-29  3.56997693e-29  1.00000000e+00]]\n",
      "94\n",
      "[[-2.00000000e+00 -1.25975286e-15 -7.34846923e+00]\n",
      " [-2.19986945e-16 -2.00000000e+00 -4.24264069e+00]\n",
      " [-3.09169071e-29  1.78498847e-29  1.00000000e+00]]\n",
      "95\n",
      "[[-2.00000000e+00 -1.25975286e-15  7.34846923e+00]\n",
      " [-2.19986945e-16 -2.00000000e+00  4.24264069e+00]\n",
      " [-1.54584536e-29  8.92494233e-30  1.00000000e+00]]\n",
      "96\n",
      "[[-2.00000000e+00 -1.25975286e-15 -7.34846923e+00]\n",
      " [-2.19986945e-16 -2.00000000e+00 -4.24264069e+00]\n",
      " [-7.72922678e-30  4.46247116e-30  1.00000000e+00]]\n",
      "97\n",
      "[[-2.00000000e+00 -1.25975286e-15  7.34846923e+00]\n",
      " [-2.19986945e-16 -2.00000000e+00  4.24264069e+00]\n",
      " [-3.86461339e-30  2.23123558e-30  1.00000000e+00]]\n",
      "98\n",
      "[[-2.00000000e+00 -1.25975286e-15 -7.34846923e+00]\n",
      " [-2.19986945e-16 -2.00000000e+00 -4.24264069e+00]\n",
      " [-1.93230670e-30  1.11561779e-30  1.00000000e+00]]\n",
      "99\n",
      "[[-2.00000000e+00 -1.25975286e-15  7.34846923e+00]\n",
      " [-2.19986945e-16 -2.00000000e+00  4.24264069e+00]\n",
      " [-9.66153348e-31  5.57808895e-31  1.00000000e+00]]\n"
     ]
    }
   ],
   "source": [
    "A = np.array([[1,3,3], [-3,-5,-3], [3,3,1]])\n",
    "eigvals = linalg.eig(A, right=False)\n",
    "Ak = A\n",
    "for k in range(0,100):\n",
    "    Q, R = linalg.qr(Ak)\n",
    "    Ak = R@Q\n",
    "    print(k)\n",
    "    print(Ak)"
   ]
  },
  {
   "cell_type": "markdown",
   "metadata": {},
   "source": [
    "## Hessenberg Reduction"
   ]
  },
  {
   "cell_type": "code",
   "execution_count": null,
   "metadata": {},
   "outputs": [],
   "source": []
  }
 ],
 "metadata": {
  "kernelspec": {
   "display_name": "Python 3",
   "language": "python",
   "name": "python3"
  },
  "language_info": {
   "codemirror_mode": {
    "name": "ipython",
    "version": 3
   },
   "file_extension": ".py",
   "mimetype": "text/x-python",
   "name": "python",
   "nbconvert_exporter": "python",
   "pygments_lexer": "ipython3",
   "version": "3.8.3"
  }
 },
 "nbformat": 4,
 "nbformat_minor": 4
}
