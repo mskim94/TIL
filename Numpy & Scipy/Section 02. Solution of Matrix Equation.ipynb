{
 "cells": [
  {
   "cell_type": "markdown",
   "metadata": {},
   "source": [
    "# 행렬의 분류 (이론)\n",
    "## Matrix 분류와 적합한 Inverse 알고리즘\n",
    "\n",
    "- Real Matrix\n",
    "    - Symmetric\n",
    "        - Positive definite\n",
    "        - Negative definite\n",
    "        - Indefinite\n",
    "    - Non-symmetric\n",
    "\n",
    "- Complex Matrix\n",
    "    - Hermitian: $A = {A}^*$ (\\*: Transpose and Conjugate)\n",
    "    - Non-Hermitian\n",
    "    \n",
    "- Positive definite이면 \n",
    "    - Cholesky decomposition ($A = {R}^TR = L{L}^T, A = {R}^*R = L{L}^*$)\n",
    "    - LDL decomposition ($A = UD{U}^T = LD{L}^T, A = UD{U}^* = LD{L}^*$)\n",
    "    - LU decomposition\n",
    "\n",
    "- Positive definite인지 모를 때\n",
    "    - Diagonal pivoting method\n",
    "        - $A = UD{U}^T = LD{L}^T$: block symmetric diagonal\n",
    "        - $A = UD{U}^* = LD{L}^*$: block Hermitian diagonal\n",
    "        \n",
    "        \n",
    "### Complex symmtric matrix (Hermitian과는 다름)\n",
    "- boundary integral equations 분야에서 사용\n",
    "- Diagonal pivoting method: $A = UD{U}^T = LD{L}^T$: block symmtric diagonal 사용\n",
    "\n",
    "\n",
    "### Matrix의 모양으로 분류\n",
    "- Full Matrix: $A = \\begin{bmatrix}\n",
    "                    {a}_{11} & {a}_{12} & {a}_{13} & \\dots & {a}_{1n} \\\\\n",
    "                    {a}_{21} & {a}_{22} & {a}_{23} & \\, & \\, \\\\\n",
    "                    {a}_{31} & {a}_{32} & {a}_{33} & \\, & \\, \\\\\n",
    "                    \\vdots & \\, & \\, & \\ddots & \\, \\\\\n",
    "                    {a}_{n1} & \\, & \\, & \\, & {a}_{nn} \\\\\n",
    "                    \\end{bmatrix}$\n",
    "                    \n",
    "- Band Matrix: $A = \\begin{bmatrix}\n",
    "                    {a}_{11} & {a}_{12} & {a}_{13} & 0 & 0 \\\\\n",
    "                    {a}_{21} & {a}_{22} & {a}_{23} & {a}_{24} & 0 \\\\\n",
    "                    0 & {a}_{32} & {a}_{33} & {a}_{34} & {a}_{35} \\\\\n",
    "                    0 & 0 & {a}_{43} & {a}_{44} & {a}_{45} \\\\\n",
    "                    0 & 0 & 0 & {a}_{54} & {a}_{55} \\\\\n",
    "                    \\end{bmatrix}$\n",
    "    - 0 이 많아 저장용량의 낭비, Band Matrix로 변환 $\\to$ $\\begin{bmatrix}\n",
    "                    0 & 0 & {a}_{13} & {a}_{24} & {a}_{35} \\\\\n",
    "                    0 & {a}_{12} & {a}_{23} & {a}_{34} & {a}_{45} \\\\\n",
    "                    {a}_{11} & {a}_{22} & {a}_{33} & {a}_{44} & {a}_{55} \\\\\n",
    "                    {a}_{21} & {a}_{32} & {a}_{43} & {a}_{54} & 0 \\\\\n",
    "                    \\end{bmatrix}$ or  $\\begin{bmatrix}\n",
    "                    0 & {a}_{11} & {a}_{12} & {a}_{13} \\\\\n",
    "                    {a}_{21} & {a}_{22} & {a}_{23} & {a}_{24} \\\\\n",
    "                    {a}_{32} & {a}_{33} & {a}_{34} & {a}_{35} \\\\\n",
    "                    {a}_{43} & {a}_{44} & {a}_{45} & 0 \\\\\n",
    "                    {a}_{54} & {a}_{55} & 0 & 0 \\\\\n",
    "                    \\end{bmatrix}$ \n",
    "                    \n",
    "### 특별한 Matrix\n",
    "- Toeplitz matrix: $\\begin{bmatrix}\n",
    "                    {a}_{0} & {a}_{-1} & {a}_{-2} & \\dots & \\dots & {a}_{-(n-1)} \\\\\n",
    "                    {a}_{1} & {a}_{0} & {a}_{-1} & \\ddots & \\, & \\vdots \\\\\n",
    "                    {a}_{2} & {a}_{1} & \\ddots & \\ddots & \\ddots & \\vdots \\\\\n",
    "                    \\vdots & \\ddots & \\ddots & \\ddots & {a}_{-1} & {a}_{-2}\\\\\n",
    "                    \\vdots & \\, & \\ddots & a_{1} & {a}_{0} & {a}_{-1}\\\\\n",
    "                    {a}_{n-1} & \\dots & \\dots & {a}_2 & {a}_1 & {a}_0 \\\\\n",
    "                    \\end{bmatrix}$\n",
    "                    \n",
    "- Circulant Matrix: $\\begin{bmatrix}\n",
    "                    {c}_{0} & {c}_{n-1} & \\dots & {c}_2 & {c}_1 \\\\\n",
    "                    {c}_{1} & {c}_{0} & {c}_{n-1} & \\, & {c}_2 \\\\\n",
    "                    \\vdots & {c}_{1} & {c}_0 & \\ddots & \\vdots \\\\\n",
    "                    {c}_{n-2} & \\, & \\ddots & \\ddots & {c}_{n-1} \\\\\n",
    "                    {c}_{n-1} & {c}_{n-2} & \\dots & {c}_1 & {c}_{0} \\\\\n",
    "                    \\end{bmatrix}$"
   ]
  },
  {
   "cell_type": "markdown",
   "metadata": {},
   "source": [
    "# 왜 역행렬을 구하는 것보다 $Ax = b$를 푸는게 좋을까?\n",
    "- 컴퓨터를 통해 $Ax = b$의 해를 구하는 방법\n",
    "    - 1. ${A}^{-1}$을 구해 해를 찾는 경우\n",
    "    - 2. $Ax = b$를 풀어 해를 찾는 경우\n",
    "    \n",
    "- 컴퓨터에서는 수를 제한된 소수점으로 표현, 수치적 정확도 때문에 $Ax = b$를 푸는 경우가 더 좋다.\n",
    " \n",
    " \n",
    "### 희소 행렬(Sparse Matrix)의 역행렬과 LU Decomposition 비교\n",
    "- 행렬이 Sparse하면 그 역행렬은 대부분 dense하다. 반면 L과 U는 여전히 Sparse한 경우가 많다.\n",
    "\n",
    "### 결론: 특별히 ${A}^{-1}$이 필요한 경우가 아니라면, $Ax = b$를 풀때 역행렬을 구하지 말자!"
   ]
  },
  {
   "cell_type": "markdown",
   "metadata": {},
   "source": [
    "# 행렬 방정식"
   ]
  },
  {
   "cell_type": "code",
   "execution_count": 1,
   "metadata": {},
   "outputs": [],
   "source": [
    "import numpy as np\n",
    "from scipy import linalg"
   ]
  },
  {
   "cell_type": "markdown",
   "metadata": {},
   "source": [
    "## Determinant 구하기\n",
    "- linalg.det\n",
    "- 내부 기본 알고리즘: LU decomposition (A = LU)\n",
    "    - 해당 Lapack 함수(subroutine): zgetrf(complex128) , dgetrf(float64)"
   ]
  },
  {
   "cell_type": "code",
   "execution_count": 2,
   "metadata": {},
   "outputs": [
    {
     "data": {
      "text/plain": [
       "(-2.0, 15.0)"
      ]
     },
     "execution_count": 2,
     "metadata": {},
     "output_type": "execute_result"
    }
   ],
   "source": [
    "A1 = np.array([[1,5,0], [2,4,-1], [0,-2,0]])\n",
    "det_A1 = linalg.det(A1)\n",
    "A2 = np.array([[1,-4,2], [-2,8,-9], [-1,7,0]])\n",
    "det_A2 = linalg.det(A2)\n",
    "det_A1, det_A2"
   ]
  },
  {
   "cell_type": "markdown",
   "metadata": {},
   "source": [
    "## 역행렬 구하기\n",
    "- linalg.inv\n",
    "- $Ax = b$를 푸는 것이라면, 역행렬이 필요한지 반드시 다시 한번 생각을 해보기\n",
    "- 역행렬이 존재하지 않는다면 singular matrix라고 에러 발생\n",
    "- 기본 알고리즘: LU decomposition, solve $LU{A}^{-1} = I$\n",
    "- Lapack: getrf (LU decomposition), getri (inverse from triangular matrix)"
   ]
  },
  {
   "cell_type": "code",
   "execution_count": 3,
   "metadata": {},
   "outputs": [
    {
     "data": {
      "text/plain": [
       "array([[ 8., -1., -5.],\n",
       "       [-1.,  0.,  1.],\n",
       "       [-5.,  1.,  3.]])"
      ]
     },
     "execution_count": 3,
     "metadata": {},
     "output_type": "execute_result"
    }
   ],
   "source": [
    "A = np.array([[1,2,1], [2,1,3], [1,3,1]])\n",
    "inv_A = linalg.inv(A)\n",
    "inv_A"
   ]
  },
  {
   "cell_type": "markdown",
   "metadata": {},
   "source": [
    "## Ax = b 풀기\n",
    "- linalg.solve(A, b, assume_a = \"\")\n",
    "    - assume_a option: \"gen\", \"sym\", \"her\", \"pos\"\n",
    "        - \"gen\": 행렬의 특성을 모르겠다.\n",
    "            - LU decomposition (A = LU) - Lapack: gesv\n",
    "        - \"sym\": symmetric matrix ($A = {A}^T$), complex symmetric(**NOT Hermitian)\n",
    "            - diagonal pivoting ($A = LD{L}^T$) -Lapack: sysv \n",
    "            \n",
    "        - \"her\": Hermitian matrix ($A = {A}^*$)\n",
    "            - diagonal pivoting ($A = LD{L}^*$) - Lapack: hesv\n",
    "        - \"pos\": positive definite, ${x}^{T}Ax > 0$, symmetric/Hermitian\n",
    "            - Cholesky decomposition ($A = {R}^TR = L{L}^T$) - Lapack: posv\n",
    "\n",
    "- assume_a의 옵션을 잘못 설정하더라도 별다른 오류 표시 없이 문제를 푼다. 잘못된 답일 수 도 있으니 주의! 특성을 모르면 그냥 \"gen\"을 사용하자!"
   ]
  },
  {
   "cell_type": "markdown",
   "metadata": {},
   "source": [
    "## Triangular matrix solver\n",
    "- $Ax = b$, $A$ = upper triangular matrix, lower triangular matrix\n",
    "- x = linalg.solve_triangular(A, b, lower=False) - Lapack: trtrs"
   ]
  },
  {
   "cell_type": "code",
   "execution_count": 6,
   "metadata": {},
   "outputs": [
    {
     "data": {
      "text/plain": [
       "array([ 1.   ,  0.25 , -2.   , -4.125])"
      ]
     },
     "execution_count": 6,
     "metadata": {},
     "output_type": "execute_result"
    }
   ],
   "source": [
    "A = np.array([[1,0,0,0], [1,4,0,0], [5,0,1,0], [8,1,-2,2]])\n",
    "b = np.array([1,2,3,4])\n",
    "x = linalg.solve_triangular(A, b, lower=True)\n",
    "x"
   ]
  },
  {
   "cell_type": "markdown",
   "metadata": {},
   "source": [
    "## 구한 해가 정확한가 검증\n",
    "- $Ax = b$, x: 수치적 계산으로 근사된 값\n",
    "- Ax, b 충분히 비슷한가?, Ax - b 충분히 작은가? 0에 충분히 가까운가?\n",
    "- np.allclose()\n",
    "- np.allclose(A@x, b)\n",
    "- np.allclose(A@x - b, np.zeros((b.shape[0],)))"
   ]
  },
  {
   "cell_type": "code",
   "execution_count": 8,
   "metadata": {},
   "outputs": [
    {
     "data": {
      "text/plain": [
       "True"
      ]
     },
     "execution_count": 8,
     "metadata": {},
     "output_type": "execute_result"
    }
   ],
   "source": [
    "A = np.array([[2,-1,0], [-1,2,-1], [0,-1,2]])\n",
    "b = np.array([1,1,1])\n",
    "x = linalg.solve(A, b, assume_a = \"pos\")\n",
    "zr = np.zeros((3,))\n",
    "bool_close = np.allclose(A@x-b, zr)\n",
    "bool_close"
   ]
  },
  {
   "cell_type": "code",
   "execution_count": 20,
   "metadata": {},
   "outputs": [
    {
     "data": {
      "text/plain": [
       "True"
      ]
     },
     "execution_count": 20,
     "metadata": {},
     "output_type": "execute_result"
    }
   ],
   "source": [
    "# 연습 문제\n",
    "## Practice 1.\n",
    "A = linalg.hilbert(10)\n",
    "inv_A = linalg.inv(A)\n",
    "b = np.ones((10,))\n",
    "x1 = inv_A@b\n",
    "x2 = linalg.solve(A, b, assume_a=\"gen\")\n",
    "\n",
    "bool_close = np.allclose(x1, x2)\n",
    "bool_close"
   ]
  },
  {
   "cell_type": "markdown",
   "metadata": {},
   "source": [
    "# 밴드 행렬\n",
    "\n",
    "## Scipy에서 밴드 행렬 입력\n",
    "\n",
    "- 열(column) index를 유지하면서 밴드만 가져와서 가로 형태로 쌓아줌\n",
    "\n",
    "## 밴드 행렬 Solver\n",
    "- $Ax = b$, A: 밴드 행렬이 유리! (공간 절약, 연산 시간 절약)\n",
    "- linalg.solve_banded\n",
    "- linalg.solve_banded((lbw, ubw), band_a, b)\n",
    "    - 기본 알고리즘: \n",
    "        - 1. LU decomposition - Lapack: gbsv\n",
    "        - 2. tridiagonal solver - Lapack: gtsv\n",
    "    "
   ]
  },
  {
   "cell_type": "code",
   "execution_count": 25,
   "metadata": {},
   "outputs": [
    {
     "data": {
      "text/plain": [
       "array([ 0.42857143,  0.28571429, -0.57142857, -0.28571429,  2.42857143])"
      ]
     },
     "execution_count": 25,
     "metadata": {},
     "output_type": "execute_result"
    }
   ],
   "source": [
    "A = np.array([[1,2,0,0,0],[1,4,1,0,0],[5,0,1,2,0],[0,1,2,2,1],[0,0,2,1,1]])\n",
    "band_A = np.array([[0,2,1,2,1],[1,4,1,2,1],[1,0,2,1,0],[5,1,2,0,0]])\n",
    "b = np.ones((5,))\n",
    "x = linalg.solve_banded((2,1), band_A, b)\n",
    "x"
   ]
  },
  {
   "cell_type": "markdown",
   "metadata": {},
   "source": [
    "## 밴드 행렬의 Solver의 Solution 확인은 어떻게?\n",
    "band_A @ x $\\neq$ b, A@x = b\n",
    "- band 행렬을 다시 원래의 행렬로 돌려놓고 matrix-vector multiplication 하는 것은 본래의 목적에서 벗어남\n",
    "$\\to$ 강의에서 제공하는 custom function을 사용"
   ]
  },
  {
   "cell_type": "markdown",
   "metadata": {},
   "source": [
    "## Positive Definite 행렬의 밴드 행렬 Solver\n",
    "- Positive definite: Symmetric / Hermitian\n",
    "- linalg.solveh_banded\n",
    "- x = linalg.solveh_banded(band_a_h, b, lower=False)\n",
    "- 기본 알고리즘:\n",
    "    - 1. Cholesky decomposition - Lapack: pbsv\n",
    "    - 2. $LD{L}^T$ decomposition - Lapack: ptsv"
   ]
  },
  {
   "cell_type": "code",
   "execution_count": 48,
   "metadata": {},
   "outputs": [
    {
     "data": {
      "text/plain": [
       "array([[0., 1., 1., ..., 1., 1., 1.],\n",
       "       [2., 2., 2., ..., 2., 2., 2.],\n",
       "       [1., 1., 1., ..., 1., 1., 0.]])"
      ]
     },
     "execution_count": 48,
     "metadata": {},
     "output_type": "execute_result"
    }
   ],
   "source": [
    "# 연습 문제\n",
    "## Practice 1.\n",
    "diag_A = 2*np.ones((10000,))\n",
    "zero_vec = np.zeros((1,))\n",
    "one_vec = np.ones((9999,))\n",
    "b = np.ones((10000,))\n",
    "\n",
    "first_band = np.hstack((zero_vec, one_vec))\n",
    "minus1_band = np.hstack((one_vec, zero_vec))\n",
    "band_A = np.vstack((first_band, diag_A))\n",
    "band_A = np.vstack((band_A, minus1_band))\n",
    "band_A"
   ]
  },
  {
   "cell_type": "code",
   "execution_count": 52,
   "metadata": {},
   "outputs": [
    {
     "data": {
      "text/plain": [
       "array([4.99950005e-01, 9.99900010e-05, 4.99850015e-01, ...,\n",
       "       4.99850015e-01, 9.99900010e-05, 4.99950005e-01])"
      ]
     },
     "execution_count": 52,
     "metadata": {},
     "output_type": "execute_result"
    }
   ],
   "source": [
    "x = linalg.solve_banded((1,1), band_A, b)\n",
    "x"
   ]
  },
  {
   "cell_type": "markdown",
   "metadata": {},
   "source": [
    "# 특수 행렬\n",
    "## Toeplitz 행렬 Solver\n",
    "- linalg.solve_toeplitz(c,r), b) (c: 1st column of matrix, r: 1st row of matrix)\n",
    "- 알고리즘: Levison-Durbin recursion"
   ]
  },
  {
   "cell_type": "code",
   "execution_count": 55,
   "metadata": {},
   "outputs": [
    {
     "data": {
      "text/plain": [
       "array([ 1.66666667e-01, -5.27355937e-16, -1.66666667e-01, -1.66666667e-01])"
      ]
     },
     "execution_count": 55,
     "metadata": {},
     "output_type": "execute_result"
    }
   ],
   "source": [
    "T = np.array([[1,-1,-2,-3], [3,1,-1,-2], [6,3,1,-1], [10,6,3,1]])\n",
    "c = T[:,0]\n",
    "r = T[0,:]\n",
    "b = np.array([1,1,1,1])\n",
    "x = linalg.solve_toeplitz((c,r), b)\n",
    "x"
   ]
  },
  {
   "cell_type": "markdown",
   "metadata": {},
   "source": [
    "## Toeplitz Matrix 구축\n",
    "- linalg.toeplitz\n",
    "- toeplitz_full_matrix = linalg.toeplitz(c,r)"
   ]
  },
  {
   "cell_type": "markdown",
   "metadata": {},
   "source": [
    "## Circulant 행렬 Solver\n",
    "- linalg.solve_circulant\n",
    "- x = linalg.solve_circulant(c, b) (c: 1st column of matrix)\n",
    "\n",
    "## Circulant Matrix 구축\n",
    "- linalg.circulant\n",
    "- circulant_full_matrix = linalg.circulant(c)"
   ]
  },
  {
   "cell_type": "markdown",
   "metadata": {},
   "source": [
    "# 여러 식을 한꺼번에 풀기\n",
    "위에서 사용한 모든 module들에 두번에 b(vector)에 해당하는 값에 B(matrix)사용하면 된다.\n",
    "- 일반 행렬\n",
    "    - x = linalg.solve(A, B, assume_a = \"gen\")\n",
    "    - x = linalg.solve_triangular(A, B, lower=False)\n",
    "- 밴드 행렬\n",
    "    - x = linalg.solve_banded((lbw, ubw), band_a, B)\n",
    "    - x = linalg.solve_bnaded(band_a_h, B, lower=False)\n",
    "- 특수 행렬\n",
    "    - x = linalg.solve_toeplitz((c,r), B)\n",
    "    - x = linalg.solve_circulant(c, B)\n",
    "    \n",
    "### b (vector)를 바꿔가면서 여러번 풀면 되는 것이 아닌가?\n",
    "b를 바꿔가며 반복하면 계속 쓸데없이 내부에서 decomposition을 하면서 계산 시간을 낭비함"
   ]
  },
  {
   "cell_type": "code",
   "execution_count": null,
   "metadata": {},
   "outputs": [],
   "source": []
  }
 ],
 "metadata": {
  "kernelspec": {
   "display_name": "Python 3",
   "language": "python",
   "name": "python3"
  },
  "language_info": {
   "codemirror_mode": {
    "name": "ipython",
    "version": 3
   },
   "file_extension": ".py",
   "mimetype": "text/x-python",
   "name": "python",
   "nbconvert_exporter": "python",
   "pygments_lexer": "ipython3",
   "version": "3.8.3"
  }
 },
 "nbformat": 4,
 "nbformat_minor": 4
}
