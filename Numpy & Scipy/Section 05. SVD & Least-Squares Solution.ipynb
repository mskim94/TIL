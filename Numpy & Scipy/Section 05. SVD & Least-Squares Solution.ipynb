{
 "cells": [
  {
   "cell_type": "markdown",
   "metadata": {},
   "source": [
    "# Singular Value Decomposition & Least-Squares Solution\n",
    "## SVD\n",
    "- SVD는 A가 어느 행렬이건 가능하다!\n",
    "- $A = U \\sum {V}^T / A = U \\sum {V}^*$\n",
    "        - U, V: orthogonal matrix / unitary matrix(congugate & Transpose) $\\sum$: singular value로 이뤄진 matrix\n",
    "- **linalg.svd**\n",
    "    - Lapack: gesdd\n",
    "- U, s, **VT** = linalg.svd(A, compute_uv=True)\n",
    "    - compute_uv=False로 설정을 하면 s만 반환\n",
    "    - U: m x m\n",
    "    - s: 1D array min(m,n) singular values (큰 것부터 작은 순으로 0도 포함될 수 있음)\n",
    "    - VT: n x n\n",
    "    - A: m x n\n",
    "- A = U @ linalg.diagsvd(s, A.shap[0], A.shape[1]) @ VT\n",
    "\n",
    "## Reduced SVD\n",
    "- $A = \\begin{bmatrix}\n",
    "        {U}_r & {U}_{m-r} \\\\\n",
    "        \\end{bmatrix} \\begin{bmatrix}\n",
    "                       D & 0 \\\\\n",
    "                       0 & 0 \\\\\n",
    "                       \\end{bmatrix} \\begin{bmatrix}\n",
    "                                      {V}_r^T \\\\\n",
    "                                      {{V}_{n-r}}^T \\\\\n",
    "                                      \\end{bmatrix} = {U}_r D {V}_r^T$\n",
    "    - D: nonzero singular values로 이뤄진 대각 행렬\n",
    "    - r: rank A\n",
    "- r = s.shape[0] - sum(np.allclose(lx, 0) for lx in s)\n",
    "- r = s.shape[0] - sum(lx < 1.e-10 for lx in s)\n",
    "    - 1e-8 이하는 0으로 취급함을 유의\n",
    "- U[:, :r] @ np.diag(s[:r]) @ VT[:r, :]\n",
    "- U[:, :r] * s[:r] @ VT[:r, :]\n",
    "\n",
    "## Truncated SVD\n",
    "- $A = {U}_r D {V}_r^T$\n",
    "- $D = \\begin{bmatrix}\n",
    "       {\\sigma}_1 & \\, & \\, \\\\\n",
    "       \\, & \\ddots & \\, \\\\\n",
    "       \\, & \\, & {\\sigma}_r \\\\\n",
    "       \\end{bmatrix}$\n",
    "- U[:, :t] * s[:t] @ VT[:t, :]\n",
    "- 상대적으로 ${\\sigma}_{max}$대비 작은 $\\sigma$들을 무시하고 싶다면?\n",
    "    - t = sum(lx > 1.e-3 * s[0] for lx in s)\n",
    "    - 만약 ${\\sigma}_{max} = 1000$이면 1이하 $\\sigma$들은 무시"
   ]
  },
  {
   "cell_type": "code",
   "execution_count": null,
   "metadata": {},
   "outputs": [],
   "source": [
    "import numpy as np\n",
    "from scipy import linalg\n",
    "import timeit"
   ]
  },
  {
   "cell_type": "code",
   "execution_count": 9,
   "metadata": {},
   "outputs": [
    {
     "name": "stdout",
     "output_type": "stream",
     "text": [
      "[[-0.33333333  0.66666667 -0.66666667]\n",
      " [ 0.66666667  0.66666667  0.33333333]\n",
      " [-0.66666667  0.33333333  0.66666667]] [4.24264069 0.        ] [[-0.70710678  0.70710678]\n",
      " [ 0.70710678  0.70710678]]\n",
      "True\n",
      "True\n",
      "[[0.28671513 0.70415629 0.80344922 0.43402074 0.34661058 0.07957681\n",
      "  0.90301752 0.72616605 0.46646759 0.79829405]\n",
      " [0.31644428 0.61202421 0.42529984 0.42097876 0.53266841 0.67200364\n",
      "  0.06747865 0.39600985 0.76623445 0.14314985]\n",
      " [0.74488371 0.19524672 0.1252012  0.33907322 0.45441441 0.00605966\n",
      "  0.21935731 0.44847481 0.07667982 0.73697345]\n",
      " [0.75317679 0.98207812 0.69414177 0.65911776 0.75377419 0.82500336\n",
      "  0.64890876 0.86436871 0.95329543 0.849908  ]\n",
      " [0.31511725 0.48134781 0.03029548 0.15065236 0.72524746 0.0717256\n",
      "  0.42169358 0.85978346 0.17208025 0.82563469]\n",
      " [0.42491831 0.65162933 0.21061294 0.45419046 0.47812459 0.15083459\n",
      "  0.21507781 0.7737638  0.3108297  0.70711363]\n",
      " [0.19177337 0.79035971 0.28602671 0.57773362 0.1731209  0.71178568\n",
      "  0.32109224 0.45057258 0.43953124 0.69152968]\n",
      " [0.55135392 0.73553253 0.96671264 0.39924    0.9068372  0.98768895\n",
      "  0.02758646 0.73762152 0.25570679 0.2998697 ]\n",
      " [0.58629402 0.02609803 0.00279434 0.13064347 0.11912885 0.25833364\n",
      "  0.95191623 0.46235799 0.61254825 0.25626838]\n",
      " [0.4407267  0.14003347 0.344417   0.57785936 0.54102154 0.6374076\n",
      "  0.43462977 0.09903958 0.90413207 0.45702454]]\n",
      "True\n"
     ]
    }
   ],
   "source": [
    "A1 = np.array([[1,-1],[-2,2],[2,-2]])\n",
    "U, s, VT = linalg.svd(A1)\n",
    "print(U, s, VT)\n",
    "# A1 reconstruct\n",
    "re_A1 = U @ linalg.diagsvd(s, A1.shape[0], A1.shape[1]) @ VT\n",
    "print(np.allclose(A1, re_A1))\n",
    "\n",
    "A2 = np.array([[4,11,14],[8,7,-2]])\n",
    "U, s, VT = linalg.svd(A2)\n",
    "# A2 reconstruct\n",
    "re_A2 = U @ linalg.diagsvd(s, A2.shape[0], A2.shape[1]) @ VT\n",
    "print(np.allclose(A2, re_A2))\n",
    "\n",
    "# random 10 x 10 matrix\n",
    "A3 = np.random.rand(10, 10)\n",
    "U, s, VT = linalg.svd(A3)\n",
    "print(A3)\n",
    "re_A3 = U @linalg.diagsvd(s, A3.shape[0], A3.shape[1]) @ VT\n",
    "print(np.allclose(A3, re_A3))"
   ]
  },
  {
   "cell_type": "markdown",
   "metadata": {},
   "source": [
    "## Column space 와 Null space\n",
    "- ColA = linalg.orth(A, rcond=None)\n",
    "- NullA = linalg.null_space(A, rcond=None)"
   ]
  },
  {
   "cell_type": "markdown",
   "metadata": {},
   "source": [
    "## Pseudoinverse (Moore-Penrose inverse)\n",
    "- SVD: $A = U \\sum {V}^T$ \n",
    "- reduced SVD: $A = {U}_r D {V}_r^T$\n",
    "- pseudoinverse: ${A}^+ = {V}_r {D}^{-1} {U}_r^T$\n",
    "- Ax = b , ${A}^+b$: least-squares solution\n",
    "- **linalg.pinv**\n",
    "- pinv_A = linalg.pinv(A)\n",
    "- 어떤 행렬이건 SVD가 가능하다 $\\to$ Pseudoinverse도 가능하다.\n",
    "\n",
    "#### 상대적으로 작은 singular value들을 무시하고 싶을때\n",
    "- pinv_A = linalg.pinv(A, **rcond=val**)\n",
    "    - val * ${\\sigma}_{max}$ 이하의 $\\sigma$는 무시\n",
    "- linalg.orth, linalg.null_space의 rcond도 같은 의미의 옵션!"
   ]
  },
  {
   "cell_type": "markdown",
   "metadata": {},
   "source": [
    "## Least-Squares Solution\n",
    "- **linalg.lstsq**\n",
    "    - Lapack: gelsd\n",
    "- x_hat, res, rank, s = linalg.lstsq(A,b, cond=None)\n",
    "    - res: $\\|b - A\\hat{x}\\|$: rank A < n (rank deficient: 비어 있는 데이터가 많다) or m < n (undetermined: 데이터가 부족하다): 주어진 데이터로 b를 근사하기에는 부족하다. **정상이면 비어있는 값** \n",
    "- pseudoinverse: ${A}^+ = {V}_r{D}^{-1}{U}_r^T$, ${A}^+b$:least-squares solution\n",
    "\n"
   ]
  },
  {
   "cell_type": "code",
   "execution_count": 10,
   "metadata": {},
   "outputs": [
    {
     "name": "stdout",
     "output_type": "stream",
     "text": [
      "False\n"
     ]
    }
   ],
   "source": [
    "# 연습 문제\n",
    "## Practice 1.\n",
    "# 1. 20 x 10 random 행령 만들기\n",
    "A = np.random.rand(20, 10)\n",
    "\n",
    "# 2. SVD 해보기\n",
    "U, s, VT = linalg.svd(A)\n",
    "\n",
    "# 3. Col A, Null A 살펴보기\n",
    "ColA = linalg.orth(A)\n",
    "NullA = linalg.null_space(A)\n",
    "\n",
    "# 4. 20 사이즈의 random 벡터 만들기(b)\n",
    "b = np.random.rand(20,)\n",
    "\n",
    "# 5. Ax = b의 least-square 해 구하기\n",
    "x_hat, res, rank, s = linalg.lstsq(A, b, cond=None)\n",
    "\n",
    "# 6. A@x_hat과 b 비교\n",
    "print(np.allclose(A@x_hat, b))\n"
   ]
  },
  {
   "cell_type": "code",
   "execution_count": null,
   "metadata": {},
   "outputs": [],
   "source": []
  }
 ],
 "metadata": {
  "kernelspec": {
   "display_name": "Python 3",
   "language": "python",
   "name": "python3"
  },
  "language_info": {
   "codemirror_mode": {
    "name": "ipython",
    "version": 3
   },
   "file_extension": ".py",
   "mimetype": "text/x-python",
   "name": "python",
   "nbconvert_exporter": "python",
   "pygments_lexer": "ipython3",
   "version": "3.8.3"
  }
 },
 "nbformat": 4,
 "nbformat_minor": 4
}
